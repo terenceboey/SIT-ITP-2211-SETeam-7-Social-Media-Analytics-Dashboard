{
 "cells": [
  {
   "cell_type": "code",
   "execution_count": 1,
   "id": "08a2608e",
   "metadata": {},
   "outputs": [],
   "source": [
    "import pandas as pd\n",
    "import re\n",
    "pd.options.mode.chained_assignment = None\n",
    "from bertopic import BERTopic\n",
    "from sklearn.feature_extraction.text import CountVectorizer"
   ]
  },
  {
   "cell_type": "code",
   "execution_count": 2,
   "id": "a2140183",
   "metadata": {},
   "outputs": [],
   "source": [
    "overview = pd.DataFrame()\n",
    "countries = ['Albania', 'Argentina', 'Austria', 'Bangladesh', 'Belgium', 'Bolivia', 'Brazil', \n",
    "             'Bulgaria', 'Canada', 'Chile', 'China', 'Colombia', 'Costa Rica', 'Croatia', 'Czech Republic', \n",
    "             'Denmark', 'Ecuador', 'Egypt', 'El Salvador', 'Estonia', 'Finland', 'France', 'Georgia', 'Germany', \n",
    "             'Greece', 'Guatemala', 'Hong Kong', 'Hungary',  'Indonesia', 'Iran', 'Ireland', 'Israel', \n",
    "             'Italy', 'Jamaica', 'Japan', 'Kazakhstan', 'Kuwait', 'Luxembourg','Malaysia', 'Malta', 'Mexico', \n",
    "             'Morocco', 'Namibia', 'Netherlands', 'New Zealand', 'Nigeria', 'Norway', 'Pakistan', 'Panama', 'Peru', \n",
    "             'Philippines', 'Poland', \n",
    "             'Portugal', 'Qatar', 'Romania', 'Russia', 'Serbia', 'Singapore', 'Slovakia', 'Slovenia', 'South Africa', \n",
    "             'South Korea', 'Spain', 'Suriname', 'Sweden', 'Switzerland', 'Taiwan', 'Thailand', 'Trinidad and Tobago', \n",
    "             'Turkey','Uruguay', 'Venezuela', 'Vietnam', 'Zambia', 'Zimbabwe','Australia','India','United Kingdom',\n",
    "             'United States']\n",
    "\n",
    "overview['Country'] = countries\n",
    "overview['positive'] = \"\"\n",
    "overview['negative'] = \"\"\n",
    "overview['neutral'] = \"\""
   ]
  },
  {
   "cell_type": "code",
   "execution_count": 3,
   "id": "d4ffe21f",
   "metadata": {},
   "outputs": [],
   "source": [
    "camp = 'appreciate'"
   ]
  },
  {
   "cell_type": "code",
   "execution_count": 4,
   "id": "9dc43b22",
   "metadata": {},
   "outputs": [
    {
     "data": {
      "application/vnd.jupyter.widget-view+json": {
       "model_id": "276820ca4481446db5cefe9d1fcd74d4",
       "version_major": 2,
       "version_minor": 0
      },
      "text/plain": [
       "Batches:   0%|          | 0/8 [00:00<?, ?it/s]"
      ]
     },
     "metadata": {},
     "output_type": "display_data"
    },
    {
     "name": "stderr",
     "output_type": "stream",
     "text": [
      "2022-08-05 20:53:32,474 - BERTopic - Transformed documents to Embeddings\n",
      "2022-08-05 20:53:37,970 - BERTopic - Reduced dimensionality\n",
      "2022-08-05 20:53:37,987 - BERTopic - Clustered reduced embeddings\n"
     ]
    },
    {
     "name": "stdout",
     "output_type": "stream",
     "text": [
      "Albania positive topics generated\n"
     ]
    },
    {
     "data": {
      "application/vnd.jupyter.widget-view+json": {
       "model_id": "ec627fb3019e4db2bc73041fb6434777",
       "version_major": 2,
       "version_minor": 0
      },
      "text/plain": [
       "Batches:   0%|          | 0/4 [00:00<?, ?it/s]"
      ]
     },
     "metadata": {},
     "output_type": "display_data"
    },
    {
     "name": "stderr",
     "output_type": "stream",
     "text": [
      "2022-08-05 20:53:42,531 - BERTopic - Transformed documents to Embeddings\n",
      "2022-08-05 20:53:44,296 - BERTopic - Reduced dimensionality\n",
      "2022-08-05 20:53:44,306 - BERTopic - Clustered reduced embeddings\n"
     ]
    },
    {
     "name": "stdout",
     "output_type": "stream",
     "text": [
      "Albania negative topics generated\n"
     ]
    },
    {
     "data": {
      "application/vnd.jupyter.widget-view+json": {
       "model_id": "e8c2d7b0c5e8408c94ca08dd2fdd1a91",
       "version_major": 2,
       "version_minor": 0
      },
      "text/plain": [
       "Batches:   0%|          | 0/1 [00:00<?, ?it/s]"
      ]
     },
     "metadata": {},
     "output_type": "display_data"
    },
    {
     "name": "stderr",
     "output_type": "stream",
     "text": [
      "2022-08-05 20:53:46,778 - BERTopic - Transformed documents to Embeddings\n",
      "2022-08-05 20:53:48,423 - BERTopic - Reduced dimensionality\n",
      "2022-08-05 20:53:48,428 - BERTopic - Clustered reduced embeddings\n"
     ]
    },
    {
     "name": "stdout",
     "output_type": "stream",
     "text": [
      "Albania neutral topics generated\n"
     ]
    },
    {
     "data": {
      "application/vnd.jupyter.widget-view+json": {
       "model_id": "35f82cfeea024cc996f764f7bc559b72",
       "version_major": 2,
       "version_minor": 0
      },
      "text/plain": [
       "Batches:   0%|          | 0/1 [00:00<?, ?it/s]"
      ]
     },
     "metadata": {},
     "output_type": "display_data"
    },
    {
     "name": "stderr",
     "output_type": "stream",
     "text": [
      "2022-08-05 20:53:48,930 - BERTopic - Transformed documents to Embeddings\n",
      "2022-08-05 20:53:50,716 - BERTopic - Reduced dimensionality\n",
      "2022-08-05 20:53:50,721 - BERTopic - Clustered reduced embeddings\n"
     ]
    },
    {
     "name": "stdout",
     "output_type": "stream",
     "text": [
      "Argentina positive topics generated\n"
     ]
    },
    {
     "data": {
      "application/vnd.jupyter.widget-view+json": {
       "model_id": "c76a0f0695e2494da20111ea8f550081",
       "version_major": 2,
       "version_minor": 0
      },
      "text/plain": [
       "Batches:   0%|          | 0/1 [00:00<?, ?it/s]"
      ]
     },
     "metadata": {},
     "output_type": "display_data"
    },
    {
     "name": "stderr",
     "output_type": "stream",
     "text": [
      "2022-08-05 20:53:51,126 - BERTopic - Transformed documents to Embeddings\n",
      "2022-08-05 20:53:52,764 - BERTopic - Reduced dimensionality\n",
      "2022-08-05 20:53:52,769 - BERTopic - Clustered reduced embeddings\n"
     ]
    },
    {
     "name": "stdout",
     "output_type": "stream",
     "text": [
      "Argentina negative topics generated\n"
     ]
    },
    {
     "data": {
      "application/vnd.jupyter.widget-view+json": {
       "model_id": "ff8b02008a3a461fa5db85ff343de09c",
       "version_major": 2,
       "version_minor": 0
      },
      "text/plain": [
       "Batches:   0%|          | 0/1 [00:00<?, ?it/s]"
      ]
     },
     "metadata": {},
     "output_type": "display_data"
    },
    {
     "name": "stderr",
     "output_type": "stream",
     "text": [
      "2022-08-05 20:53:53,171 - BERTopic - Transformed documents to Embeddings\n",
      "2022-08-05 20:53:54,958 - BERTopic - Reduced dimensionality\n"
     ]
    },
    {
     "name": "stdout",
     "output_type": "stream",
     "text": [
      "An exception occurred\n",
      "'NoneType' object has no attribute 'get_mappings'\n",
      "Argentina neutral Dataset not big enough\n"
     ]
    },
    {
     "data": {
      "application/vnd.jupyter.widget-view+json": {
       "model_id": "1d0572039a80436fa855939b2d19de1c",
       "version_major": 2,
       "version_minor": 0
      },
      "text/plain": [
       "Batches:   0%|          | 0/3 [00:00<?, ?it/s]"
      ]
     },
     "metadata": {},
     "output_type": "display_data"
    },
    {
     "name": "stderr",
     "output_type": "stream",
     "text": [
      "2022-08-05 20:53:56,084 - BERTopic - Transformed documents to Embeddings\n",
      "2022-08-05 20:53:57,834 - BERTopic - Reduced dimensionality\n",
      "2022-08-05 20:53:57,840 - BERTopic - Clustered reduced embeddings\n"
     ]
    },
    {
     "name": "stdout",
     "output_type": "stream",
     "text": [
      "Austria positive topics generated\n"
     ]
    },
    {
     "data": {
      "application/vnd.jupyter.widget-view+json": {
       "model_id": "3221c0d95e57465f86bc749195ddc2e7",
       "version_major": 2,
       "version_minor": 0
      },
      "text/plain": [
       "Batches:   0%|          | 0/2 [00:00<?, ?it/s]"
      ]
     },
     "metadata": {},
     "output_type": "display_data"
    },
    {
     "name": "stderr",
     "output_type": "stream",
     "text": [
      "2022-08-05 20:53:58,651 - BERTopic - Transformed documents to Embeddings\n",
      "2022-08-05 20:54:00,479 - BERTopic - Reduced dimensionality\n",
      "2022-08-05 20:54:00,484 - BERTopic - Clustered reduced embeddings\n"
     ]
    },
    {
     "name": "stdout",
     "output_type": "stream",
     "text": [
      "Austria negative topics generated\n"
     ]
    },
    {
     "data": {
      "application/vnd.jupyter.widget-view+json": {
       "model_id": "f0131231eee64584a2e72e5c1809e9be",
       "version_major": 2,
       "version_minor": 0
      },
      "text/plain": [
       "Batches:   0%|          | 0/1 [00:00<?, ?it/s]"
      ]
     },
     "metadata": {},
     "output_type": "display_data"
    },
    {
     "name": "stderr",
     "output_type": "stream",
     "text": [
      "2022-08-05 20:54:01,006 - BERTopic - Transformed documents to Embeddings\n",
      "2022-08-05 20:54:02,654 - BERTopic - Reduced dimensionality\n",
      "2022-08-05 20:54:02,658 - BERTopic - Clustered reduced embeddings\n"
     ]
    },
    {
     "name": "stdout",
     "output_type": "stream",
     "text": [
      "Austria neutral topics generated\n"
     ]
    },
    {
     "data": {
      "application/vnd.jupyter.widget-view+json": {
       "model_id": "be5148c2790b49a1ac321133d1102ede",
       "version_major": 2,
       "version_minor": 0
      },
      "text/plain": [
       "Batches:   0%|          | 0/247 [00:00<?, ?it/s]"
      ]
     },
     "metadata": {},
     "output_type": "display_data"
    },
    {
     "name": "stderr",
     "output_type": "stream",
     "text": [
      "2022-08-05 20:55:16,097 - BERTopic - Transformed documents to Embeddings\n",
      "2022-08-05 20:55:41,848 - BERTopic - Reduced dimensionality\n",
      "2022-08-05 20:55:42,249 - BERTopic - Clustered reduced embeddings\n",
      "2022-08-05 20:55:49,142 - BERTopic - Reduced number of topics from 213 to 21\n"
     ]
    },
    {
     "name": "stdout",
     "output_type": "stream",
     "text": [
      "Bangladesh positive topics generated\n"
     ]
    },
    {
     "data": {
      "application/vnd.jupyter.widget-view+json": {
       "model_id": "29df602ed488495c9b9c035676fe3c13",
       "version_major": 2,
       "version_minor": 0
      },
      "text/plain": [
       "Batches:   0%|          | 0/108 [00:00<?, ?it/s]"
      ]
     },
     "metadata": {},
     "output_type": "display_data"
    },
    {
     "name": "stderr",
     "output_type": "stream",
     "text": [
      "2022-08-05 20:56:30,243 - BERTopic - Transformed documents to Embeddings\n",
      "2022-08-05 20:56:42,014 - BERTopic - Reduced dimensionality\n",
      "2022-08-05 20:56:42,173 - BERTopic - Clustered reduced embeddings\n",
      "2022-08-05 20:56:45,364 - BERTopic - Reduced number of topics from 80 to 21\n"
     ]
    },
    {
     "name": "stdout",
     "output_type": "stream",
     "text": [
      "Bangladesh negative topics generated\n"
     ]
    },
    {
     "data": {
      "application/vnd.jupyter.widget-view+json": {
       "model_id": "eda19959ac2d4e6598d7af6aa5f7b4bc",
       "version_major": 2,
       "version_minor": 0
      },
      "text/plain": [
       "Batches:   0%|          | 0/15 [00:00<?, ?it/s]"
      ]
     },
     "metadata": {},
     "output_type": "display_data"
    },
    {
     "name": "stderr",
     "output_type": "stream",
     "text": [
      "2022-08-05 20:56:52,443 - BERTopic - Transformed documents to Embeddings\n",
      "2022-08-05 20:56:54,482 - BERTopic - Reduced dimensionality\n",
      "2022-08-05 20:56:54,505 - BERTopic - Clustered reduced embeddings\n"
     ]
    },
    {
     "name": "stdout",
     "output_type": "stream",
     "text": [
      "Bangladesh neutral topics generated\n"
     ]
    },
    {
     "data": {
      "application/vnd.jupyter.widget-view+json": {
       "model_id": "80cec730f4264d25b59818c19ddad12e",
       "version_major": 2,
       "version_minor": 0
      },
      "text/plain": [
       "Batches:   0%|          | 0/15 [00:00<?, ?it/s]"
      ]
     },
     "metadata": {},
     "output_type": "display_data"
    },
    {
     "name": "stderr",
     "output_type": "stream",
     "text": [
      "2022-08-05 20:57:00,923 - BERTopic - Transformed documents to Embeddings\n",
      "2022-08-05 20:57:03,101 - BERTopic - Reduced dimensionality\n",
      "2022-08-05 20:57:03,121 - BERTopic - Clustered reduced embeddings\n"
     ]
    },
    {
     "name": "stdout",
     "output_type": "stream",
     "text": [
      "Belgium positive topics generated\n"
     ]
    },
    {
     "data": {
      "application/vnd.jupyter.widget-view+json": {
       "model_id": "d94d452f304e4f25a6cc5608e5890553",
       "version_major": 2,
       "version_minor": 0
      },
      "text/plain": [
       "Batches:   0%|          | 0/8 [00:00<?, ?it/s]"
      ]
     },
     "metadata": {},
     "output_type": "display_data"
    },
    {
     "name": "stderr",
     "output_type": "stream",
     "text": [
      "2022-08-05 20:57:07,627 - BERTopic - Transformed documents to Embeddings\n",
      "2022-08-05 20:57:09,683 - BERTopic - Reduced dimensionality\n",
      "2022-08-05 20:57:09,694 - BERTopic - Clustered reduced embeddings\n"
     ]
    },
    {
     "name": "stdout",
     "output_type": "stream",
     "text": [
      "Belgium negative topics generated\n"
     ]
    },
    {
     "data": {
      "application/vnd.jupyter.widget-view+json": {
       "model_id": "4e38e3e9212147678cd1c9407b4e6cb4",
       "version_major": 2,
       "version_minor": 0
      },
      "text/plain": [
       "Batches:   0%|          | 0/3 [00:00<?, ?it/s]"
      ]
     },
     "metadata": {},
     "output_type": "display_data"
    },
    {
     "name": "stderr",
     "output_type": "stream",
     "text": [
      "2022-08-05 20:57:12,606 - BERTopic - Transformed documents to Embeddings\n",
      "2022-08-05 20:57:14,523 - BERTopic - Reduced dimensionality\n",
      "2022-08-05 20:57:14,530 - BERTopic - Clustered reduced embeddings\n"
     ]
    },
    {
     "name": "stdout",
     "output_type": "stream",
     "text": [
      "Belgium neutral topics generated\n"
     ]
    },
    {
     "data": {
      "application/vnd.jupyter.widget-view+json": {
       "model_id": "7da4533f09f54411be00de1ba477607a",
       "version_major": 2,
       "version_minor": 0
      },
      "text/plain": [
       "Batches:   0%|          | 0/4 [00:00<?, ?it/s]"
      ]
     },
     "metadata": {},
     "output_type": "display_data"
    },
    {
     "name": "stderr",
     "output_type": "stream",
     "text": [
      "2022-08-05 20:57:15,788 - BERTopic - Transformed documents to Embeddings\n",
      "2022-08-05 20:57:17,524 - BERTopic - Reduced dimensionality\n",
      "2022-08-05 20:57:17,532 - BERTopic - Clustered reduced embeddings\n"
     ]
    },
    {
     "name": "stdout",
     "output_type": "stream",
     "text": [
      "Bolivia positive topics generated\n"
     ]
    },
    {
     "data": {
      "application/vnd.jupyter.widget-view+json": {
       "model_id": "5aef23cc3e3445a0885ee832351e389c",
       "version_major": 2,
       "version_minor": 0
      },
      "text/plain": [
       "Batches:   0%|          | 0/3 [00:00<?, ?it/s]"
      ]
     },
     "metadata": {},
     "output_type": "display_data"
    },
    {
     "name": "stderr",
     "output_type": "stream",
     "text": [
      "2022-08-05 20:57:18,832 - BERTopic - Transformed documents to Embeddings\n",
      "2022-08-05 20:57:20,548 - BERTopic - Reduced dimensionality\n",
      "2022-08-05 20:57:20,556 - BERTopic - Clustered reduced embeddings\n"
     ]
    },
    {
     "name": "stdout",
     "output_type": "stream",
     "text": [
      "Bolivia negative topics generated\n"
     ]
    },
    {
     "data": {
      "application/vnd.jupyter.widget-view+json": {
       "model_id": "1e924bd797bd42c39af045d417d8170e",
       "version_major": 2,
       "version_minor": 0
      },
      "text/plain": [
       "Batches:   0%|          | 0/1 [00:00<?, ?it/s]"
      ]
     },
     "metadata": {},
     "output_type": "display_data"
    },
    {
     "name": "stderr",
     "output_type": "stream",
     "text": [
      "2022-08-05 20:57:21,139 - BERTopic - Transformed documents to Embeddings\n",
      "2022-08-05 20:57:23,034 - BERTopic - Reduced dimensionality\n",
      "2022-08-05 20:57:23,039 - BERTopic - Clustered reduced embeddings\n"
     ]
    },
    {
     "name": "stdout",
     "output_type": "stream",
     "text": [
      "Bolivia neutral topics generated\n"
     ]
    },
    {
     "data": {
      "application/vnd.jupyter.widget-view+json": {
       "model_id": "ca1e9f9b93984ca2bd2368f4df30a66d",
       "version_major": 2,
       "version_minor": 0
      },
      "text/plain": [
       "Batches:   0%|          | 0/6 [00:00<?, ?it/s]"
      ]
     },
     "metadata": {},
     "output_type": "display_data"
    },
    {
     "name": "stderr",
     "output_type": "stream",
     "text": [
      "2022-08-05 20:57:24,889 - BERTopic - Transformed documents to Embeddings\n",
      "2022-08-05 20:57:26,721 - BERTopic - Reduced dimensionality\n",
      "2022-08-05 20:57:26,730 - BERTopic - Clustered reduced embeddings\n"
     ]
    },
    {
     "name": "stdout",
     "output_type": "stream",
     "text": [
      "Brazil positive topics generated\n"
     ]
    },
    {
     "data": {
      "application/vnd.jupyter.widget-view+json": {
       "model_id": "c790b98db7c34eb8995892116b06e9a3",
       "version_major": 2,
       "version_minor": 0
      },
      "text/plain": [
       "Batches:   0%|          | 0/4 [00:00<?, ?it/s]"
      ]
     },
     "metadata": {},
     "output_type": "display_data"
    },
    {
     "name": "stderr",
     "output_type": "stream",
     "text": [
      "2022-08-05 20:57:27,987 - BERTopic - Transformed documents to Embeddings\n",
      "2022-08-05 20:57:29,920 - BERTopic - Reduced dimensionality\n",
      "2022-08-05 20:57:29,927 - BERTopic - Clustered reduced embeddings\n"
     ]
    },
    {
     "name": "stdout",
     "output_type": "stream",
     "text": [
      "Brazil negative topics generated\n"
     ]
    },
    {
     "data": {
      "application/vnd.jupyter.widget-view+json": {
       "model_id": "4543a892886a48d2b182d08611ee7d68",
       "version_major": 2,
       "version_minor": 0
      },
      "text/plain": [
       "Batches:   0%|          | 0/1 [00:00<?, ?it/s]"
      ]
     },
     "metadata": {},
     "output_type": "display_data"
    },
    {
     "name": "stderr",
     "output_type": "stream",
     "text": [
      "2022-08-05 20:57:30,459 - BERTopic - Transformed documents to Embeddings\n",
      "2022-08-05 20:57:32,124 - BERTopic - Reduced dimensionality\n",
      "2022-08-05 20:57:32,129 - BERTopic - Clustered reduced embeddings\n"
     ]
    },
    {
     "name": "stdout",
     "output_type": "stream",
     "text": [
      "Brazil neutral topics generated\n"
     ]
    },
    {
     "data": {
      "application/vnd.jupyter.widget-view+json": {
       "model_id": "7bda1d2ab5be4ea1aceb61c04d552e52",
       "version_major": 2,
       "version_minor": 0
      },
      "text/plain": [
       "Batches:   0%|          | 0/2 [00:00<?, ?it/s]"
      ]
     },
     "metadata": {},
     "output_type": "display_data"
    },
    {
     "name": "stderr",
     "output_type": "stream",
     "text": [
      "2022-08-05 20:57:33,038 - BERTopic - Transformed documents to Embeddings\n",
      "2022-08-05 20:57:34,744 - BERTopic - Reduced dimensionality\n",
      "2022-08-05 20:57:34,751 - BERTopic - Clustered reduced embeddings\n"
     ]
    },
    {
     "name": "stdout",
     "output_type": "stream",
     "text": [
      "Bulgaria positive topics generated\n"
     ]
    },
    {
     "data": {
      "application/vnd.jupyter.widget-view+json": {
       "model_id": "6556774ae8dc4ca7b7d87b2bdc032fe3",
       "version_major": 2,
       "version_minor": 0
      },
      "text/plain": [
       "Batches:   0%|          | 0/2 [00:00<?, ?it/s]"
      ]
     },
     "metadata": {},
     "output_type": "display_data"
    },
    {
     "name": "stderr",
     "output_type": "stream",
     "text": [
      "2022-08-05 20:57:35,416 - BERTopic - Transformed documents to Embeddings\n",
      "2022-08-05 20:57:37,293 - BERTopic - Reduced dimensionality\n",
      "2022-08-05 20:57:37,297 - BERTopic - Clustered reduced embeddings\n"
     ]
    },
    {
     "name": "stdout",
     "output_type": "stream",
     "text": [
      "Bulgaria negative topics generated\n"
     ]
    },
    {
     "data": {
      "application/vnd.jupyter.widget-view+json": {
       "model_id": "72853d678b464cdd8d4ef5fcd9b50078",
       "version_major": 2,
       "version_minor": 0
      },
      "text/plain": [
       "Batches:   0%|          | 0/1 [00:00<?, ?it/s]"
      ]
     },
     "metadata": {},
     "output_type": "display_data"
    },
    {
     "name": "stderr",
     "output_type": "stream",
     "text": [
      "2022-08-05 20:57:37,678 - BERTopic - Transformed documents to Embeddings\n",
      "2022-08-05 20:57:39,331 - BERTopic - Reduced dimensionality\n",
      "2022-08-05 20:57:39,335 - BERTopic - Clustered reduced embeddings\n"
     ]
    },
    {
     "name": "stdout",
     "output_type": "stream",
     "text": [
      "Bulgaria neutral topics generated\n"
     ]
    },
    {
     "data": {
      "application/vnd.jupyter.widget-view+json": {
       "model_id": "87c3618bcdb54fbebb6d7b37867933e4",
       "version_major": 2,
       "version_minor": 0
      },
      "text/plain": [
       "Batches:   0%|          | 0/130 [00:00<?, ?it/s]"
      ]
     },
     "metadata": {},
     "output_type": "display_data"
    },
    {
     "name": "stderr",
     "output_type": "stream",
     "text": [
      "2022-08-05 20:58:13,502 - BERTopic - Transformed documents to Embeddings\n",
      "2022-08-05 20:58:17,704 - BERTopic - Reduced dimensionality\n",
      "2022-08-05 20:58:17,895 - BERTopic - Clustered reduced embeddings\n",
      "2022-08-05 20:58:20,889 - BERTopic - Reduced number of topics from 71 to 21\n"
     ]
    },
    {
     "name": "stdout",
     "output_type": "stream",
     "text": [
      "Canada positive topics generated\n"
     ]
    },
    {
     "data": {
      "application/vnd.jupyter.widget-view+json": {
       "model_id": "fd7e832b0a6d4541bbde6ca56676a08f",
       "version_major": 2,
       "version_minor": 0
      },
      "text/plain": [
       "Batches:   0%|          | 0/87 [00:00<?, ?it/s]"
      ]
     },
     "metadata": {},
     "output_type": "display_data"
    },
    {
     "name": "stderr",
     "output_type": "stream",
     "text": [
      "2022-08-05 20:58:47,958 - BERTopic - Transformed documents to Embeddings\n",
      "2022-08-05 20:58:55,452 - BERTopic - Reduced dimensionality\n",
      "2022-08-05 20:58:55,580 - BERTopic - Clustered reduced embeddings\n",
      "2022-08-05 20:58:57,996 - BERTopic - Reduced number of topics from 55 to 21\n"
     ]
    },
    {
     "name": "stdout",
     "output_type": "stream",
     "text": [
      "Canada negative topics generated\n"
     ]
    },
    {
     "data": {
      "application/vnd.jupyter.widget-view+json": {
       "model_id": "20d4d37cc08c46a7b367a34bf9d50acc",
       "version_major": 2,
       "version_minor": 0
      },
      "text/plain": [
       "Batches:   0%|          | 0/26 [00:00<?, ?it/s]"
      ]
     },
     "metadata": {},
     "output_type": "display_data"
    },
    {
     "name": "stderr",
     "output_type": "stream",
     "text": [
      "2022-08-05 20:59:07,153 - BERTopic - Transformed documents to Embeddings\n",
      "2022-08-05 20:59:09,639 - BERTopic - Reduced dimensionality\n",
      "2022-08-05 20:59:09,670 - BERTopic - Clustered reduced embeddings\n"
     ]
    },
    {
     "name": "stdout",
     "output_type": "stream",
     "text": [
      "Canada neutral topics generated\n"
     ]
    },
    {
     "data": {
      "application/vnd.jupyter.widget-view+json": {
       "model_id": "5615a049ca96498a88d5f07d29d8b578",
       "version_major": 2,
       "version_minor": 0
      },
      "text/plain": [
       "Batches:   0%|          | 0/1 [00:00<?, ?it/s]"
      ]
     },
     "metadata": {},
     "output_type": "display_data"
    },
    {
     "name": "stderr",
     "output_type": "stream",
     "text": [
      "2022-08-05 20:59:10,349 - BERTopic - Transformed documents to Embeddings\n",
      "2022-08-05 20:59:12,049 - BERTopic - Reduced dimensionality\n",
      "2022-08-05 20:59:12,054 - BERTopic - Clustered reduced embeddings\n"
     ]
    },
    {
     "name": "stdout",
     "output_type": "stream",
     "text": [
      "Chile positive topics generated\n"
     ]
    },
    {
     "data": {
      "application/vnd.jupyter.widget-view+json": {
       "model_id": "77303a68654f4bcc9286f4f2db7e7edf",
       "version_major": 2,
       "version_minor": 0
      },
      "text/plain": [
       "Batches:   0%|          | 0/1 [00:00<?, ?it/s]"
      ]
     },
     "metadata": {},
     "output_type": "display_data"
    },
    {
     "name": "stderr",
     "output_type": "stream",
     "text": [
      "2022-08-05 20:59:12,464 - BERTopic - Transformed documents to Embeddings\n",
      "2022-08-05 20:59:14,386 - BERTopic - Reduced dimensionality\n",
      "2022-08-05 20:59:14,390 - BERTopic - Clustered reduced embeddings\n"
     ]
    },
    {
     "name": "stdout",
     "output_type": "stream",
     "text": [
      "Chile negative topics generated\n"
     ]
    },
    {
     "data": {
      "application/vnd.jupyter.widget-view+json": {
       "model_id": "297bf0825dda43e9a44573607c39d6a9",
       "version_major": 2,
       "version_minor": 0
      },
      "text/plain": [
       "Batches:   0%|          | 0/1 [00:00<?, ?it/s]"
      ]
     },
     "metadata": {},
     "output_type": "display_data"
    },
    {
     "name": "stderr",
     "output_type": "stream",
     "text": [
      "2022-08-05 20:59:14,732 - BERTopic - Transformed documents to Embeddings\n",
      "C:\\Users\\65866\\anaconda3\\envs\\RL FX\\lib\\site-packages\\scipy\\sparse\\linalg\\eigen\\arpack\\arpack.py:1595: RuntimeWarning:\n",
      "\n",
      "k >= N for N * N square matrix. Attempting to use scipy.linalg.eigh instead.\n",
      "\n",
      "2022-08-05 20:59:14,737 - BERTopic - The dimensionality reduction algorithm did not contain the `y` parameter and therefore the `y` parameter was not used\n",
      "C:\\Users\\65866\\anaconda3\\envs\\RL FX\\lib\\site-packages\\scipy\\sparse\\linalg\\eigen\\arpack\\arpack.py:1595: RuntimeWarning:\n",
      "\n",
      "k >= N for N * N square matrix. Attempting to use scipy.linalg.eigh instead.\n",
      "\n"
     ]
    },
    {
     "name": "stdout",
     "output_type": "stream",
     "text": [
      "An exception occurred\n",
      "'HDBSCAN' object has no attribute 'labels_'\n",
      "Chile neutral Dataset not big enough\n"
     ]
    },
    {
     "data": {
      "application/vnd.jupyter.widget-view+json": {
       "model_id": "fd1bb8b0ee294ecda20d8789b0b6f860",
       "version_major": 2,
       "version_minor": 0
      },
      "text/plain": [
       "Batches:   0%|          | 0/219 [00:00<?, ?it/s]"
      ]
     },
     "metadata": {},
     "output_type": "display_data"
    },
    {
     "name": "stderr",
     "output_type": "stream",
     "text": [
      "2022-08-05 21:00:14,977 - BERTopic - Transformed documents to Embeddings\n",
      "2022-08-05 21:00:22,503 - BERTopic - Reduced dimensionality\n",
      "2022-08-05 21:00:22,826 - BERTopic - Clustered reduced embeddings\n",
      "2022-08-05 21:00:28,831 - BERTopic - Reduced number of topics from 181 to 21\n"
     ]
    },
    {
     "name": "stdout",
     "output_type": "stream",
     "text": [
      "China positive topics generated\n"
     ]
    },
    {
     "data": {
      "application/vnd.jupyter.widget-view+json": {
       "model_id": "489c67edf1d845bc932eb2cfcb446b8c",
       "version_major": 2,
       "version_minor": 0
      },
      "text/plain": [
       "Batches:   0%|          | 0/85 [00:00<?, ?it/s]"
      ]
     },
     "metadata": {},
     "output_type": "display_data"
    },
    {
     "name": "stderr",
     "output_type": "stream",
     "text": [
      "2022-08-05 21:00:59,402 - BERTopic - Transformed documents to Embeddings\n",
      "2022-08-05 21:01:07,669 - BERTopic - Reduced dimensionality\n",
      "2022-08-05 21:01:07,794 - BERTopic - Clustered reduced embeddings\n",
      "2022-08-05 21:01:10,284 - BERTopic - Reduced number of topics from 58 to 21\n"
     ]
    },
    {
     "name": "stdout",
     "output_type": "stream",
     "text": [
      "China negative topics generated\n"
     ]
    },
    {
     "data": {
      "application/vnd.jupyter.widget-view+json": {
       "model_id": "279aab547f0f413896b08da55b8411b4",
       "version_major": 2,
       "version_minor": 0
      },
      "text/plain": [
       "Batches:   0%|          | 0/18 [00:00<?, ?it/s]"
      ]
     },
     "metadata": {},
     "output_type": "display_data"
    },
    {
     "name": "stderr",
     "output_type": "stream",
     "text": [
      "2022-08-05 21:01:17,990 - BERTopic - Transformed documents to Embeddings\n",
      "2022-08-05 21:01:20,395 - BERTopic - Reduced dimensionality\n",
      "2022-08-05 21:01:20,422 - BERTopic - Clustered reduced embeddings\n"
     ]
    },
    {
     "name": "stdout",
     "output_type": "stream",
     "text": [
      "China neutral topics generated\n"
     ]
    },
    {
     "data": {
      "application/vnd.jupyter.widget-view+json": {
       "model_id": "eb11d4d2fe1b4ec68c111efc9d1d2266",
       "version_major": 2,
       "version_minor": 0
      },
      "text/plain": [
       "Batches:   0%|          | 0/10 [00:00<?, ?it/s]"
      ]
     },
     "metadata": {},
     "output_type": "display_data"
    },
    {
     "name": "stderr",
     "output_type": "stream",
     "text": [
      "2022-08-05 21:01:25,408 - BERTopic - Transformed documents to Embeddings\n",
      "2022-08-05 21:01:27,309 - BERTopic - Reduced dimensionality\n",
      "2022-08-05 21:01:27,323 - BERTopic - Clustered reduced embeddings\n"
     ]
    },
    {
     "name": "stdout",
     "output_type": "stream",
     "text": [
      "Colombia positive topics generated\n"
     ]
    },
    {
     "data": {
      "application/vnd.jupyter.widget-view+json": {
       "model_id": "63c944ac4a4b4ae3b858712e77109627",
       "version_major": 2,
       "version_minor": 0
      },
      "text/plain": [
       "Batches:   0%|          | 0/7 [00:00<?, ?it/s]"
      ]
     },
     "metadata": {},
     "output_type": "display_data"
    },
    {
     "name": "stderr",
     "output_type": "stream",
     "text": [
      "2022-08-05 21:01:31,874 - BERTopic - Transformed documents to Embeddings\n",
      "2022-08-05 21:01:33,698 - BERTopic - Reduced dimensionality\n",
      "2022-08-05 21:01:33,709 - BERTopic - Clustered reduced embeddings\n"
     ]
    },
    {
     "name": "stdout",
     "output_type": "stream",
     "text": [
      "Colombia negative topics generated\n"
     ]
    },
    {
     "data": {
      "application/vnd.jupyter.widget-view+json": {
       "model_id": "c17fcf191e164573bfd55f834276aa7f",
       "version_major": 2,
       "version_minor": 0
      },
      "text/plain": [
       "Batches:   0%|          | 0/2 [00:00<?, ?it/s]"
      ]
     },
     "metadata": {},
     "output_type": "display_data"
    },
    {
     "name": "stderr",
     "output_type": "stream",
     "text": [
      "2022-08-05 21:01:36,304 - BERTopic - Transformed documents to Embeddings\n",
      "2022-08-05 21:01:38,235 - BERTopic - Reduced dimensionality\n",
      "2022-08-05 21:01:38,240 - BERTopic - Clustered reduced embeddings\n"
     ]
    },
    {
     "name": "stdout",
     "output_type": "stream",
     "text": [
      "Colombia neutral topics generated\n"
     ]
    },
    {
     "data": {
      "application/vnd.jupyter.widget-view+json": {
       "model_id": "34a15fd84a6542499d1fa9d4732e672a",
       "version_major": 2,
       "version_minor": 0
      },
      "text/plain": [
       "Batches:   0%|          | 0/7 [00:00<?, ?it/s]"
      ]
     },
     "metadata": {},
     "output_type": "display_data"
    },
    {
     "name": "stderr",
     "output_type": "stream",
     "text": [
      "2022-08-05 21:01:40,220 - BERTopic - Transformed documents to Embeddings\n",
      "2022-08-05 21:01:42,047 - BERTopic - Reduced dimensionality\n",
      "2022-08-05 21:01:42,059 - BERTopic - Clustered reduced embeddings\n"
     ]
    },
    {
     "name": "stdout",
     "output_type": "stream",
     "text": [
      "Costa Rica positive topics generated\n"
     ]
    },
    {
     "data": {
      "application/vnd.jupyter.widget-view+json": {
       "model_id": "d30a894363da47e4a290d215334446d8",
       "version_major": 2,
       "version_minor": 0
      },
      "text/plain": [
       "Batches:   0%|          | 0/8 [00:00<?, ?it/s]"
      ]
     },
     "metadata": {},
     "output_type": "display_data"
    },
    {
     "name": "stderr",
     "output_type": "stream",
     "text": [
      "2022-08-05 21:01:44,817 - BERTopic - Transformed documents to Embeddings\n",
      "2022-08-05 21:01:46,953 - BERTopic - Reduced dimensionality\n",
      "2022-08-05 21:01:46,966 - BERTopic - Clustered reduced embeddings\n"
     ]
    },
    {
     "name": "stdout",
     "output_type": "stream",
     "text": [
      "Costa Rica negative topics generated\n"
     ]
    },
    {
     "data": {
      "application/vnd.jupyter.widget-view+json": {
       "model_id": "0ee9abb414674d048f0dde0a49423cc5",
       "version_major": 2,
       "version_minor": 0
      },
      "text/plain": [
       "Batches:   0%|          | 0/2 [00:00<?, ?it/s]"
      ]
     },
     "metadata": {},
     "output_type": "display_data"
    },
    {
     "name": "stderr",
     "output_type": "stream",
     "text": [
      "2022-08-05 21:01:49,400 - BERTopic - Transformed documents to Embeddings\n",
      "2022-08-05 21:01:51,096 - BERTopic - Reduced dimensionality\n",
      "2022-08-05 21:01:51,100 - BERTopic - Clustered reduced embeddings\n"
     ]
    },
    {
     "name": "stdout",
     "output_type": "stream",
     "text": [
      "Costa Rica neutral topics generated\n"
     ]
    },
    {
     "data": {
      "application/vnd.jupyter.widget-view+json": {
       "model_id": "6f98cfcee8bc412ea29d8bf50ad3387a",
       "version_major": 2,
       "version_minor": 0
      },
      "text/plain": [
       "Batches:   0%|          | 0/1 [00:00<?, ?it/s]"
      ]
     },
     "metadata": {},
     "output_type": "display_data"
    },
    {
     "name": "stderr",
     "output_type": "stream",
     "text": [
      "2022-08-05 21:01:51,420 - BERTopic - Transformed documents to Embeddings\n"
     ]
    },
    {
     "name": "stdout",
     "output_type": "stream",
     "text": [
      "An exception occurred\n",
      "'HDBSCAN' object has no attribute 'labels_'\n",
      "Croatia positive Dataset not big enough\n",
      "An exception occurred\n",
      "'HDBSCAN' object has no attribute 'labels_'\n",
      "Croatia negative Dataset not big enough\n",
      "An exception occurred\n",
      "'HDBSCAN' object has no attribute 'labels_'\n",
      "Croatia neutral Dataset not big enough\n"
     ]
    },
    {
     "data": {
      "application/vnd.jupyter.widget-view+json": {
       "model_id": "bfab19c18d564292a7eb28961d875b2a",
       "version_major": 2,
       "version_minor": 0
      },
      "text/plain": [
       "Batches:   0%|          | 0/2 [00:00<?, ?it/s]"
      ]
     },
     "metadata": {},
     "output_type": "display_data"
    },
    {
     "name": "stderr",
     "output_type": "stream",
     "text": [
      "2022-08-05 21:01:52,326 - BERTopic - Transformed documents to Embeddings\n",
      "2022-08-05 21:01:54,314 - BERTopic - Reduced dimensionality\n",
      "2022-08-05 21:01:54,321 - BERTopic - Clustered reduced embeddings\n"
     ]
    },
    {
     "name": "stdout",
     "output_type": "stream",
     "text": [
      "Czech Republic positive topics generated\n"
     ]
    },
    {
     "data": {
      "application/vnd.jupyter.widget-view+json": {
       "model_id": "36ef9e491b0a4cf58d6f09a95e45f610",
       "version_major": 2,
       "version_minor": 0
      },
      "text/plain": [
       "Batches:   0%|          | 0/2 [00:00<?, ?it/s]"
      ]
     },
     "metadata": {},
     "output_type": "display_data"
    },
    {
     "name": "stderr",
     "output_type": "stream",
     "text": [
      "2022-08-05 21:01:55,124 - BERTopic - Transformed documents to Embeddings\n",
      "2022-08-05 21:01:56,872 - BERTopic - Reduced dimensionality\n",
      "2022-08-05 21:01:56,879 - BERTopic - Clustered reduced embeddings\n"
     ]
    },
    {
     "name": "stdout",
     "output_type": "stream",
     "text": [
      "Czech Republic negative topics generated\n"
     ]
    },
    {
     "data": {
      "application/vnd.jupyter.widget-view+json": {
       "model_id": "86a4ccef045e45e1a39adc334e53fcdb",
       "version_major": 2,
       "version_minor": 0
      },
      "text/plain": [
       "Batches:   0%|          | 0/1 [00:00<?, ?it/s]"
      ]
     },
     "metadata": {},
     "output_type": "display_data"
    },
    {
     "name": "stderr",
     "output_type": "stream",
     "text": [
      "2022-08-05 21:01:57,477 - BERTopic - Transformed documents to Embeddings\n",
      "2022-08-05 21:01:59,220 - BERTopic - Reduced dimensionality\n",
      "2022-08-05 21:01:59,225 - BERTopic - Clustered reduced embeddings\n"
     ]
    },
    {
     "name": "stdout",
     "output_type": "stream",
     "text": [
      "Czech Republic neutral topics generated\n"
     ]
    },
    {
     "data": {
      "application/vnd.jupyter.widget-view+json": {
       "model_id": "f30873cbcadc41118afb86110373a1f8",
       "version_major": 2,
       "version_minor": 0
      },
      "text/plain": [
       "Batches:   0%|          | 0/4 [00:00<?, ?it/s]"
      ]
     },
     "metadata": {},
     "output_type": "display_data"
    },
    {
     "name": "stderr",
     "output_type": "stream",
     "text": [
      "2022-08-05 21:02:00,390 - BERTopic - Transformed documents to Embeddings\n",
      "2022-08-05 21:02:02,375 - BERTopic - Reduced dimensionality\n",
      "2022-08-05 21:02:02,383 - BERTopic - Clustered reduced embeddings\n"
     ]
    },
    {
     "name": "stdout",
     "output_type": "stream",
     "text": [
      "Denmark positive topics generated\n"
     ]
    },
    {
     "data": {
      "application/vnd.jupyter.widget-view+json": {
       "model_id": "0c8dc95958ef4c68b74029b8b7c52057",
       "version_major": 2,
       "version_minor": 0
      },
      "text/plain": [
       "Batches:   0%|          | 0/3 [00:00<?, ?it/s]"
      ]
     },
     "metadata": {},
     "output_type": "display_data"
    },
    {
     "name": "stderr",
     "output_type": "stream",
     "text": [
      "2022-08-05 21:02:03,469 - BERTopic - Transformed documents to Embeddings\n",
      "2022-08-05 21:02:05,207 - BERTopic - Reduced dimensionality\n",
      "2022-08-05 21:02:05,213 - BERTopic - Clustered reduced embeddings\n"
     ]
    },
    {
     "name": "stdout",
     "output_type": "stream",
     "text": [
      "Denmark negative topics generated\n"
     ]
    },
    {
     "data": {
      "application/vnd.jupyter.widget-view+json": {
       "model_id": "8433c206be0d46c4b98fa4a1e617ff3c",
       "version_major": 2,
       "version_minor": 0
      },
      "text/plain": [
       "Batches:   0%|          | 0/1 [00:00<?, ?it/s]"
      ]
     },
     "metadata": {},
     "output_type": "display_data"
    },
    {
     "name": "stderr",
     "output_type": "stream",
     "text": [
      "2022-08-05 21:02:05,776 - BERTopic - Transformed documents to Embeddings\n",
      "2022-08-05 21:02:07,466 - BERTopic - Reduced dimensionality\n",
      "2022-08-05 21:02:07,471 - BERTopic - Clustered reduced embeddings\n"
     ]
    },
    {
     "name": "stdout",
     "output_type": "stream",
     "text": [
      "Denmark neutral topics generated\n"
     ]
    },
    {
     "data": {
      "application/vnd.jupyter.widget-view+json": {
       "model_id": "3fd629b6daf94b6cb64e8d1f379ffa78",
       "version_major": 2,
       "version_minor": 0
      },
      "text/plain": [
       "Batches:   0%|          | 0/3 [00:00<?, ?it/s]"
      ]
     },
     "metadata": {},
     "output_type": "display_data"
    },
    {
     "name": "stderr",
     "output_type": "stream",
     "text": [
      "2022-08-05 21:02:08,300 - BERTopic - Transformed documents to Embeddings\n",
      "2022-08-05 21:02:10,267 - BERTopic - Reduced dimensionality\n",
      "2022-08-05 21:02:10,273 - BERTopic - Clustered reduced embeddings\n"
     ]
    },
    {
     "name": "stdout",
     "output_type": "stream",
     "text": [
      "Ecuador positive topics generated\n"
     ]
    },
    {
     "data": {
      "application/vnd.jupyter.widget-view+json": {
       "model_id": "c104103dc700437faf6cebc88a1e6b4b",
       "version_major": 2,
       "version_minor": 0
      },
      "text/plain": [
       "Batches:   0%|          | 0/1 [00:00<?, ?it/s]"
      ]
     },
     "metadata": {},
     "output_type": "display_data"
    },
    {
     "name": "stderr",
     "output_type": "stream",
     "text": [
      "2022-08-05 21:02:10,815 - BERTopic - Transformed documents to Embeddings\n",
      "2022-08-05 21:02:12,502 - BERTopic - Reduced dimensionality\n",
      "2022-08-05 21:02:12,506 - BERTopic - Clustered reduced embeddings\n"
     ]
    },
    {
     "name": "stdout",
     "output_type": "stream",
     "text": [
      "Ecuador negative topics generated\n"
     ]
    },
    {
     "data": {
      "application/vnd.jupyter.widget-view+json": {
       "model_id": "efa211ad3a4144e49f3fa92c9fe91849",
       "version_major": 2,
       "version_minor": 0
      },
      "text/plain": [
       "Batches:   0%|          | 0/1 [00:00<?, ?it/s]"
      ]
     },
     "metadata": {},
     "output_type": "display_data"
    },
    {
     "name": "stderr",
     "output_type": "stream",
     "text": [
      "2022-08-05 21:02:12,896 - BERTopic - Transformed documents to Embeddings\n",
      "2022-08-05 21:02:14,598 - BERTopic - Reduced dimensionality\n",
      "2022-08-05 21:02:14,602 - BERTopic - Clustered reduced embeddings\n"
     ]
    },
    {
     "name": "stdout",
     "output_type": "stream",
     "text": [
      "Ecuador neutral topics generated\n"
     ]
    },
    {
     "data": {
      "application/vnd.jupyter.widget-view+json": {
       "model_id": "2c29abad86354953b3fb500694eb4335",
       "version_major": 2,
       "version_minor": 0
      },
      "text/plain": [
       "Batches:   0%|          | 0/18 [00:00<?, ?it/s]"
      ]
     },
     "metadata": {},
     "output_type": "display_data"
    },
    {
     "name": "stderr",
     "output_type": "stream",
     "text": [
      "2022-08-05 21:02:18,960 - BERTopic - Transformed documents to Embeddings\n",
      "2022-08-05 21:02:21,362 - BERTopic - Reduced dimensionality\n",
      "2022-08-05 21:02:21,387 - BERTopic - Clustered reduced embeddings\n"
     ]
    },
    {
     "name": "stdout",
     "output_type": "stream",
     "text": [
      "Egypt positive topics generated\n"
     ]
    },
    {
     "data": {
      "application/vnd.jupyter.widget-view+json": {
       "model_id": "4dec1eb2a0174eb598e191c5a069ed86",
       "version_major": 2,
       "version_minor": 0
      },
      "text/plain": [
       "Batches:   0%|          | 0/8 [00:00<?, ?it/s]"
      ]
     },
     "metadata": {},
     "output_type": "display_data"
    },
    {
     "name": "stderr",
     "output_type": "stream",
     "text": [
      "2022-08-05 21:02:25,772 - BERTopic - Transformed documents to Embeddings\n",
      "2022-08-05 21:02:27,751 - BERTopic - Reduced dimensionality\n",
      "2022-08-05 21:02:27,762 - BERTopic - Clustered reduced embeddings\n"
     ]
    },
    {
     "name": "stdout",
     "output_type": "stream",
     "text": [
      "Egypt negative topics generated\n"
     ]
    },
    {
     "data": {
      "application/vnd.jupyter.widget-view+json": {
       "model_id": "a99f5b180fe2430d8ec7ae847ca0e4a0",
       "version_major": 2,
       "version_minor": 0
      },
      "text/plain": [
       "Batches:   0%|          | 0/2 [00:00<?, ?it/s]"
      ]
     },
     "metadata": {},
     "output_type": "display_data"
    },
    {
     "name": "stderr",
     "output_type": "stream",
     "text": [
      "2022-08-05 21:02:28,630 - BERTopic - Transformed documents to Embeddings\n",
      "2022-08-05 21:02:30,616 - BERTopic - Reduced dimensionality\n",
      "2022-08-05 21:02:30,622 - BERTopic - Clustered reduced embeddings\n"
     ]
    },
    {
     "name": "stdout",
     "output_type": "stream",
     "text": [
      "Egypt neutral topics generated\n"
     ]
    },
    {
     "data": {
      "application/vnd.jupyter.widget-view+json": {
       "model_id": "e38251de76d847a6af68bbd0734574f7",
       "version_major": 2,
       "version_minor": 0
      },
      "text/plain": [
       "Batches:   0%|          | 0/2 [00:00<?, ?it/s]"
      ]
     },
     "metadata": {},
     "output_type": "display_data"
    },
    {
     "name": "stderr",
     "output_type": "stream",
     "text": [
      "2022-08-05 21:02:31,622 - BERTopic - Transformed documents to Embeddings\n",
      "2022-08-05 21:02:33,336 - BERTopic - Reduced dimensionality\n",
      "2022-08-05 21:02:33,341 - BERTopic - Clustered reduced embeddings\n"
     ]
    },
    {
     "name": "stdout",
     "output_type": "stream",
     "text": [
      "El Salvador positive topics generated\n"
     ]
    },
    {
     "data": {
      "application/vnd.jupyter.widget-view+json": {
       "model_id": "78ab9b47833f43da860515da209dbf31",
       "version_major": 2,
       "version_minor": 0
      },
      "text/plain": [
       "Batches:   0%|          | 0/3 [00:00<?, ?it/s]"
      ]
     },
     "metadata": {},
     "output_type": "display_data"
    },
    {
     "name": "stderr",
     "output_type": "stream",
     "text": [
      "2022-08-05 21:02:34,370 - BERTopic - Transformed documents to Embeddings\n",
      "2022-08-05 21:02:36,092 - BERTopic - Reduced dimensionality\n",
      "2022-08-05 21:02:36,099 - BERTopic - Clustered reduced embeddings\n"
     ]
    },
    {
     "name": "stdout",
     "output_type": "stream",
     "text": [
      "El Salvador negative topics generated\n"
     ]
    },
    {
     "data": {
      "application/vnd.jupyter.widget-view+json": {
       "model_id": "f8a8addf90bf430c965e3a411a5e1bd6",
       "version_major": 2,
       "version_minor": 0
      },
      "text/plain": [
       "Batches:   0%|          | 0/1 [00:00<?, ?it/s]"
      ]
     },
     "metadata": {},
     "output_type": "display_data"
    },
    {
     "name": "stderr",
     "output_type": "stream",
     "text": [
      "2022-08-05 21:02:36,642 - BERTopic - Transformed documents to Embeddings\n",
      "2022-08-05 21:02:38,590 - BERTopic - Reduced dimensionality\n",
      "2022-08-05 21:02:38,595 - BERTopic - Clustered reduced embeddings\n"
     ]
    },
    {
     "name": "stdout",
     "output_type": "stream",
     "text": [
      "El Salvador neutral topics generated\n"
     ]
    },
    {
     "data": {
      "application/vnd.jupyter.widget-view+json": {
       "model_id": "5884ab864c0b4c51b4094b197e1dfc38",
       "version_major": 2,
       "version_minor": 0
      },
      "text/plain": [
       "Batches:   0%|          | 0/6 [00:00<?, ?it/s]"
      ]
     },
     "metadata": {},
     "output_type": "display_data"
    },
    {
     "name": "stderr",
     "output_type": "stream",
     "text": [
      "2022-08-05 21:02:40,429 - BERTopic - Transformed documents to Embeddings\n",
      "2022-08-05 21:02:42,217 - BERTopic - Reduced dimensionality\n",
      "2022-08-05 21:02:42,228 - BERTopic - Clustered reduced embeddings\n"
     ]
    },
    {
     "name": "stdout",
     "output_type": "stream",
     "text": [
      "Estonia positive topics generated\n"
     ]
    },
    {
     "data": {
      "application/vnd.jupyter.widget-view+json": {
       "model_id": "0f12f9b641e04e71bcc969dc8667f634",
       "version_major": 2,
       "version_minor": 0
      },
      "text/plain": [
       "Batches:   0%|          | 0/3 [00:00<?, ?it/s]"
      ]
     },
     "metadata": {},
     "output_type": "display_data"
    },
    {
     "name": "stderr",
     "output_type": "stream",
     "text": [
      "2022-08-05 21:02:45,158 - BERTopic - Transformed documents to Embeddings\n",
      "2022-08-05 21:02:47,203 - BERTopic - Reduced dimensionality\n",
      "2022-08-05 21:02:47,210 - BERTopic - Clustered reduced embeddings\n"
     ]
    },
    {
     "name": "stdout",
     "output_type": "stream",
     "text": [
      "Estonia negative topics generated\n"
     ]
    },
    {
     "data": {
      "application/vnd.jupyter.widget-view+json": {
       "model_id": "2daa626d41264b459725ba4292dbf256",
       "version_major": 2,
       "version_minor": 0
      },
      "text/plain": [
       "Batches:   0%|          | 0/1 [00:00<?, ?it/s]"
      ]
     },
     "metadata": {},
     "output_type": "display_data"
    },
    {
     "name": "stderr",
     "output_type": "stream",
     "text": [
      "2022-08-05 21:02:47,808 - BERTopic - Transformed documents to Embeddings\n",
      "2022-08-05 21:02:49,509 - BERTopic - Reduced dimensionality\n",
      "2022-08-05 21:02:49,514 - BERTopic - Clustered reduced embeddings\n"
     ]
    },
    {
     "name": "stdout",
     "output_type": "stream",
     "text": [
      "Estonia neutral topics generated\n"
     ]
    },
    {
     "data": {
      "application/vnd.jupyter.widget-view+json": {
       "model_id": "af00db9e22844496955809195cc1a814",
       "version_major": 2,
       "version_minor": 0
      },
      "text/plain": [
       "Batches:   0%|          | 0/10 [00:00<?, ?it/s]"
      ]
     },
     "metadata": {},
     "output_type": "display_data"
    },
    {
     "name": "stderr",
     "output_type": "stream",
     "text": [
      "2022-08-05 21:02:52,377 - BERTopic - Transformed documents to Embeddings\n",
      "2022-08-05 21:02:54,367 - BERTopic - Reduced dimensionality\n",
      "2022-08-05 21:02:54,382 - BERTopic - Clustered reduced embeddings\n"
     ]
    },
    {
     "name": "stdout",
     "output_type": "stream",
     "text": [
      "Finland positive topics generated\n"
     ]
    },
    {
     "data": {
      "application/vnd.jupyter.widget-view+json": {
       "model_id": "d8cd993996534ef4afb5ce153ca06418",
       "version_major": 2,
       "version_minor": 0
      },
      "text/plain": [
       "Batches:   0%|          | 0/6 [00:00<?, ?it/s]"
      ]
     },
     "metadata": {},
     "output_type": "display_data"
    },
    {
     "name": "stderr",
     "output_type": "stream",
     "text": [
      "2022-08-05 21:02:58,310 - BERTopic - Transformed documents to Embeddings\n",
      "2022-08-05 21:03:00,084 - BERTopic - Reduced dimensionality\n",
      "2022-08-05 21:03:00,094 - BERTopic - Clustered reduced embeddings\n"
     ]
    },
    {
     "name": "stdout",
     "output_type": "stream",
     "text": [
      "Finland negative topics generated\n"
     ]
    },
    {
     "data": {
      "application/vnd.jupyter.widget-view+json": {
       "model_id": "59c1f865bf7a45e79eefbf27d2d6fa5f",
       "version_major": 2,
       "version_minor": 0
      },
      "text/plain": [
       "Batches:   0%|          | 0/2 [00:00<?, ?it/s]"
      ]
     },
     "metadata": {},
     "output_type": "display_data"
    },
    {
     "name": "stderr",
     "output_type": "stream",
     "text": [
      "2022-08-05 21:03:02,724 - BERTopic - Transformed documents to Embeddings\n",
      "2022-08-05 21:03:04,426 - BERTopic - Reduced dimensionality\n",
      "2022-08-05 21:03:04,431 - BERTopic - Clustered reduced embeddings\n"
     ]
    },
    {
     "name": "stdout",
     "output_type": "stream",
     "text": [
      "Finland neutral topics generated\n"
     ]
    },
    {
     "data": {
      "application/vnd.jupyter.widget-view+json": {
       "model_id": "898c1cdde88e4d3aaf27593c513d0b0d",
       "version_major": 2,
       "version_minor": 0
      },
      "text/plain": [
       "Batches:   0%|          | 0/23 [00:00<?, ?it/s]"
      ]
     },
     "metadata": {},
     "output_type": "display_data"
    },
    {
     "name": "stderr",
     "output_type": "stream",
     "text": [
      "2022-08-05 21:03:10,737 - BERTopic - Transformed documents to Embeddings\n",
      "2022-08-05 21:03:13,136 - BERTopic - Reduced dimensionality\n",
      "2022-08-05 21:03:13,166 - BERTopic - Clustered reduced embeddings\n"
     ]
    },
    {
     "name": "stdout",
     "output_type": "stream",
     "text": [
      "France positive topics generated\n"
     ]
    },
    {
     "data": {
      "application/vnd.jupyter.widget-view+json": {
       "model_id": "2861b96b8a45484dbbe491c315254154",
       "version_major": 2,
       "version_minor": 0
      },
      "text/plain": [
       "Batches:   0%|          | 0/15 [00:00<?, ?it/s]"
      ]
     },
     "metadata": {},
     "output_type": "display_data"
    },
    {
     "name": "stderr",
     "output_type": "stream",
     "text": [
      "2022-08-05 21:03:17,859 - BERTopic - Transformed documents to Embeddings\n",
      "2022-08-05 21:03:20,117 - BERTopic - Reduced dimensionality\n",
      "2022-08-05 21:03:20,138 - BERTopic - Clustered reduced embeddings\n"
     ]
    },
    {
     "name": "stdout",
     "output_type": "stream",
     "text": [
      "France negative topics generated\n"
     ]
    },
    {
     "data": {
      "application/vnd.jupyter.widget-view+json": {
       "model_id": "1a0d146e570d4057874673ced9094691",
       "version_major": 2,
       "version_minor": 0
      },
      "text/plain": [
       "Batches:   0%|          | 0/4 [00:00<?, ?it/s]"
      ]
     },
     "metadata": {},
     "output_type": "display_data"
    },
    {
     "name": "stderr",
     "output_type": "stream",
     "text": [
      "2022-08-05 21:03:21,817 - BERTopic - Transformed documents to Embeddings\n",
      "2022-08-05 21:03:23,855 - BERTopic - Reduced dimensionality\n",
      "2022-08-05 21:03:23,864 - BERTopic - Clustered reduced embeddings\n"
     ]
    },
    {
     "name": "stdout",
     "output_type": "stream",
     "text": [
      "France neutral topics generated\n"
     ]
    },
    {
     "data": {
      "application/vnd.jupyter.widget-view+json": {
       "model_id": "086ed0ac1b5d427ca84fcebbdaf6fbc8",
       "version_major": 2,
       "version_minor": 0
      },
      "text/plain": [
       "Batches:   0%|          | 0/2 [00:00<?, ?it/s]"
      ]
     },
     "metadata": {},
     "output_type": "display_data"
    },
    {
     "name": "stderr",
     "output_type": "stream",
     "text": [
      "2022-08-05 21:03:26,425 - BERTopic - Transformed documents to Embeddings\n",
      "2022-08-05 21:03:28,182 - BERTopic - Reduced dimensionality\n",
      "2022-08-05 21:03:28,188 - BERTopic - Clustered reduced embeddings\n"
     ]
    },
    {
     "name": "stdout",
     "output_type": "stream",
     "text": [
      "Georgia positive topics generated\n"
     ]
    },
    {
     "data": {
      "application/vnd.jupyter.widget-view+json": {
       "model_id": "25b6c921d0ce45b5a85d9de2a3a75495",
       "version_major": 2,
       "version_minor": 0
      },
      "text/plain": [
       "Batches:   0%|          | 0/1 [00:00<?, ?it/s]"
      ]
     },
     "metadata": {},
     "output_type": "display_data"
    },
    {
     "name": "stderr",
     "output_type": "stream",
     "text": [
      "2022-08-05 21:03:28,705 - BERTopic - Transformed documents to Embeddings\n",
      "2022-08-05 21:03:30,401 - BERTopic - Reduced dimensionality\n",
      "2022-08-05 21:03:30,406 - BERTopic - Clustered reduced embeddings\n"
     ]
    },
    {
     "name": "stdout",
     "output_type": "stream",
     "text": [
      "Georgia negative topics generated\n"
     ]
    },
    {
     "data": {
      "application/vnd.jupyter.widget-view+json": {
       "model_id": "189a7b0f4a4b4b709dd9ed9ab68c4ac8",
       "version_major": 2,
       "version_minor": 0
      },
      "text/plain": [
       "Batches:   0%|          | 0/1 [00:00<?, ?it/s]"
      ]
     },
     "metadata": {},
     "output_type": "display_data"
    },
    {
     "name": "stderr",
     "output_type": "stream",
     "text": [
      "2022-08-05 21:03:30,776 - BERTopic - Transformed documents to Embeddings\n",
      "2022-08-05 21:03:32,720 - BERTopic - Reduced dimensionality\n",
      "2022-08-05 21:03:32,724 - BERTopic - Clustered reduced embeddings\n"
     ]
    },
    {
     "name": "stdout",
     "output_type": "stream",
     "text": [
      "Georgia neutral topics generated\n"
     ]
    },
    {
     "data": {
      "application/vnd.jupyter.widget-view+json": {
       "model_id": "2a15ebe645c043d0a53ff96d7583a776",
       "version_major": 2,
       "version_minor": 0
      },
      "text/plain": [
       "Batches:   0%|          | 0/7 [00:00<?, ?it/s]"
      ]
     },
     "metadata": {},
     "output_type": "display_data"
    },
    {
     "name": "stderr",
     "output_type": "stream",
     "text": [
      "2022-08-05 21:03:35,056 - BERTopic - Transformed documents to Embeddings\n",
      "2022-08-05 21:03:36,928 - BERTopic - Reduced dimensionality\n",
      "2022-08-05 21:03:36,938 - BERTopic - Clustered reduced embeddings\n"
     ]
    },
    {
     "name": "stdout",
     "output_type": "stream",
     "text": [
      "Germany positive topics generated\n"
     ]
    },
    {
     "data": {
      "application/vnd.jupyter.widget-view+json": {
       "model_id": "22effec53b2f437caa6dbccadb3919b1",
       "version_major": 2,
       "version_minor": 0
      },
      "text/plain": [
       "Batches:   0%|          | 0/4 [00:00<?, ?it/s]"
      ]
     },
     "metadata": {},
     "output_type": "display_data"
    },
    {
     "name": "stderr",
     "output_type": "stream",
     "text": [
      "2022-08-05 21:03:38,459 - BERTopic - Transformed documents to Embeddings\n",
      "2022-08-05 21:03:40,570 - BERTopic - Reduced dimensionality\n",
      "2022-08-05 21:03:40,579 - BERTopic - Clustered reduced embeddings\n"
     ]
    },
    {
     "name": "stdout",
     "output_type": "stream",
     "text": [
      "Germany negative topics generated\n"
     ]
    },
    {
     "data": {
      "application/vnd.jupyter.widget-view+json": {
       "model_id": "6b3d1452cb994fb8a95eb7201a0be924",
       "version_major": 2,
       "version_minor": 0
      },
      "text/plain": [
       "Batches:   0%|          | 0/1 [00:00<?, ?it/s]"
      ]
     },
     "metadata": {},
     "output_type": "display_data"
    },
    {
     "name": "stderr",
     "output_type": "stream",
     "text": [
      "2022-08-05 21:03:43,928 - BERTopic - Transformed documents to Embeddings\n",
      "2022-08-05 21:03:45,822 - BERTopic - Reduced dimensionality\n",
      "2022-08-05 21:03:45,827 - BERTopic - Clustered reduced embeddings\n"
     ]
    },
    {
     "name": "stdout",
     "output_type": "stream",
     "text": [
      "Germany neutral topics generated\n"
     ]
    },
    {
     "data": {
      "application/vnd.jupyter.widget-view+json": {
       "model_id": "f97955d5d5c84f59a75c639658872bcf",
       "version_major": 2,
       "version_minor": 0
      },
      "text/plain": [
       "Batches:   0%|          | 0/5 [00:00<?, ?it/s]"
      ]
     },
     "metadata": {},
     "output_type": "display_data"
    },
    {
     "name": "stderr",
     "output_type": "stream",
     "text": [
      "2022-08-05 21:03:47,599 - BERTopic - Transformed documents to Embeddings\n",
      "2022-08-05 21:03:49,371 - BERTopic - Reduced dimensionality\n",
      "2022-08-05 21:03:49,380 - BERTopic - Clustered reduced embeddings\n"
     ]
    },
    {
     "name": "stdout",
     "output_type": "stream",
     "text": [
      "Greece positive topics generated\n"
     ]
    },
    {
     "data": {
      "application/vnd.jupyter.widget-view+json": {
       "model_id": "7ec199c2326c4a329f3510aded91bfd7",
       "version_major": 2,
       "version_minor": 0
      },
      "text/plain": [
       "Batches:   0%|          | 0/3 [00:00<?, ?it/s]"
      ]
     },
     "metadata": {},
     "output_type": "display_data"
    },
    {
     "name": "stderr",
     "output_type": "stream",
     "text": [
      "2022-08-05 21:03:50,503 - BERTopic - Transformed documents to Embeddings\n",
      "2022-08-05 21:03:52,505 - BERTopic - Reduced dimensionality\n",
      "2022-08-05 21:03:52,511 - BERTopic - Clustered reduced embeddings\n"
     ]
    },
    {
     "name": "stdout",
     "output_type": "stream",
     "text": [
      "Greece negative topics generated\n"
     ]
    },
    {
     "data": {
      "application/vnd.jupyter.widget-view+json": {
       "model_id": "98e35330e58a42e0971aa950b2425356",
       "version_major": 2,
       "version_minor": 0
      },
      "text/plain": [
       "Batches:   0%|          | 0/1 [00:00<?, ?it/s]"
      ]
     },
     "metadata": {},
     "output_type": "display_data"
    },
    {
     "name": "stderr",
     "output_type": "stream",
     "text": [
      "2022-08-05 21:03:53,050 - BERTopic - Transformed documents to Embeddings\n",
      "2022-08-05 21:03:54,725 - BERTopic - Reduced dimensionality\n",
      "2022-08-05 21:03:54,729 - BERTopic - Clustered reduced embeddings\n"
     ]
    },
    {
     "name": "stdout",
     "output_type": "stream",
     "text": [
      "Greece neutral topics generated\n"
     ]
    },
    {
     "data": {
      "application/vnd.jupyter.widget-view+json": {
       "model_id": "5bf4d94b8a4e4008987574ca26b1a5a8",
       "version_major": 2,
       "version_minor": 0
      },
      "text/plain": [
       "Batches:   0%|          | 0/4 [00:00<?, ?it/s]"
      ]
     },
     "metadata": {},
     "output_type": "display_data"
    },
    {
     "name": "stderr",
     "output_type": "stream",
     "text": [
      "2022-08-05 21:03:55,949 - BERTopic - Transformed documents to Embeddings\n",
      "2022-08-05 21:03:57,689 - BERTopic - Reduced dimensionality\n",
      "2022-08-05 21:03:57,697 - BERTopic - Clustered reduced embeddings\n"
     ]
    },
    {
     "name": "stdout",
     "output_type": "stream",
     "text": [
      "Guatemala positive topics generated\n"
     ]
    },
    {
     "data": {
      "application/vnd.jupyter.widget-view+json": {
       "model_id": "a9b479c438df4bdc8c2002ad6030016e",
       "version_major": 2,
       "version_minor": 0
      },
      "text/plain": [
       "Batches:   0%|          | 0/2 [00:00<?, ?it/s]"
      ]
     },
     "metadata": {},
     "output_type": "display_data"
    },
    {
     "name": "stderr",
     "output_type": "stream",
     "text": [
      "2022-08-05 21:03:58,712 - BERTopic - Transformed documents to Embeddings\n",
      "2022-08-05 21:04:00,407 - BERTopic - Reduced dimensionality\n",
      "2022-08-05 21:04:00,412 - BERTopic - Clustered reduced embeddings\n"
     ]
    },
    {
     "name": "stdout",
     "output_type": "stream",
     "text": [
      "Guatemala negative topics generated\n"
     ]
    },
    {
     "data": {
      "application/vnd.jupyter.widget-view+json": {
       "model_id": "b19101a990684748bf234b61bf31c458",
       "version_major": 2,
       "version_minor": 0
      },
      "text/plain": [
       "Batches:   0%|          | 0/1 [00:00<?, ?it/s]"
      ]
     },
     "metadata": {},
     "output_type": "display_data"
    },
    {
     "name": "stderr",
     "output_type": "stream",
     "text": [
      "2022-08-05 21:04:00,895 - BERTopic - Transformed documents to Embeddings\n",
      "2022-08-05 21:04:02,861 - BERTopic - Reduced dimensionality\n",
      "2022-08-05 21:04:02,866 - BERTopic - Clustered reduced embeddings\n"
     ]
    },
    {
     "name": "stdout",
     "output_type": "stream",
     "text": [
      "Guatemala neutral topics generated\n"
     ]
    },
    {
     "data": {
      "application/vnd.jupyter.widget-view+json": {
       "model_id": "fac4aab1368742fcabc48a5a2d5ab171",
       "version_major": 2,
       "version_minor": 0
      },
      "text/plain": [
       "Batches:   0%|          | 0/12 [00:00<?, ?it/s]"
      ]
     },
     "metadata": {},
     "output_type": "display_data"
    },
    {
     "name": "stderr",
     "output_type": "stream",
     "text": [
      "2022-08-05 21:04:06,085 - BERTopic - Transformed documents to Embeddings\n",
      "2022-08-05 21:04:08,025 - BERTopic - Reduced dimensionality\n",
      "2022-08-05 21:04:08,041 - BERTopic - Clustered reduced embeddings\n"
     ]
    },
    {
     "name": "stdout",
     "output_type": "stream",
     "text": [
      "Hong Kong positive topics generated\n"
     ]
    },
    {
     "data": {
      "application/vnd.jupyter.widget-view+json": {
       "model_id": "b2488bab137145958dd8e5dc9aab2d92",
       "version_major": 2,
       "version_minor": 0
      },
      "text/plain": [
       "Batches:   0%|          | 0/10 [00:00<?, ?it/s]"
      ]
     },
     "metadata": {},
     "output_type": "display_data"
    },
    {
     "name": "stderr",
     "output_type": "stream",
     "text": [
      "2022-08-05 21:04:11,273 - BERTopic - Transformed documents to Embeddings\n",
      "2022-08-05 21:04:13,201 - BERTopic - Reduced dimensionality\n",
      "2022-08-05 21:04:13,218 - BERTopic - Clustered reduced embeddings\n"
     ]
    },
    {
     "name": "stdout",
     "output_type": "stream",
     "text": [
      "Hong Kong negative topics generated\n"
     ]
    },
    {
     "data": {
      "application/vnd.jupyter.widget-view+json": {
       "model_id": "ea0b936ec1ce4bfeb0c119074389f5e0",
       "version_major": 2,
       "version_minor": 0
      },
      "text/plain": [
       "Batches:   0%|          | 0/3 [00:00<?, ?it/s]"
      ]
     },
     "metadata": {},
     "output_type": "display_data"
    },
    {
     "name": "stderr",
     "output_type": "stream",
     "text": [
      "2022-08-05 21:04:16,425 - BERTopic - Transformed documents to Embeddings\n",
      "2022-08-05 21:04:18,201 - BERTopic - Reduced dimensionality\n",
      "2022-08-05 21:04:18,208 - BERTopic - Clustered reduced embeddings\n"
     ]
    },
    {
     "name": "stdout",
     "output_type": "stream",
     "text": [
      "Hong Kong neutral topics generated\n"
     ]
    },
    {
     "data": {
      "application/vnd.jupyter.widget-view+json": {
       "model_id": "d0744d84719945648c0e6184b48fe1bd",
       "version_major": 2,
       "version_minor": 0
      },
      "text/plain": [
       "Batches:   0%|          | 0/6 [00:00<?, ?it/s]"
      ]
     },
     "metadata": {},
     "output_type": "display_data"
    },
    {
     "name": "stderr",
     "output_type": "stream",
     "text": [
      "2022-08-05 21:04:20,551 - BERTopic - Transformed documents to Embeddings\n",
      "2022-08-05 21:04:22,354 - BERTopic - Reduced dimensionality\n",
      "2022-08-05 21:04:22,364 - BERTopic - Clustered reduced embeddings\n"
     ]
    },
    {
     "name": "stdout",
     "output_type": "stream",
     "text": [
      "Hungary positive topics generated\n"
     ]
    },
    {
     "data": {
      "application/vnd.jupyter.widget-view+json": {
       "model_id": "6b33616ddae54510901d5756676758c9",
       "version_major": 2,
       "version_minor": 0
      },
      "text/plain": [
       "Batches:   0%|          | 0/3 [00:00<?, ?it/s]"
      ]
     },
     "metadata": {},
     "output_type": "display_data"
    },
    {
     "name": "stderr",
     "output_type": "stream",
     "text": [
      "2022-08-05 21:04:23,535 - BERTopic - Transformed documents to Embeddings\n",
      "2022-08-05 21:04:25,551 - BERTopic - Reduced dimensionality\n",
      "2022-08-05 21:04:25,558 - BERTopic - Clustered reduced embeddings\n"
     ]
    },
    {
     "name": "stdout",
     "output_type": "stream",
     "text": [
      "Hungary negative topics generated\n"
     ]
    },
    {
     "data": {
      "application/vnd.jupyter.widget-view+json": {
       "model_id": "19d0eb137e2c407f9ae963fbaeb6d990",
       "version_major": 2,
       "version_minor": 0
      },
      "text/plain": [
       "Batches:   0%|          | 0/1 [00:00<?, ?it/s]"
      ]
     },
     "metadata": {},
     "output_type": "display_data"
    },
    {
     "name": "stderr",
     "output_type": "stream",
     "text": [
      "2022-08-05 21:04:26,192 - BERTopic - Transformed documents to Embeddings\n",
      "2022-08-05 21:04:27,888 - BERTopic - Reduced dimensionality\n",
      "2022-08-05 21:04:27,893 - BERTopic - Clustered reduced embeddings\n"
     ]
    },
    {
     "name": "stdout",
     "output_type": "stream",
     "text": [
      "Hungary neutral topics generated\n"
     ]
    },
    {
     "data": {
      "application/vnd.jupyter.widget-view+json": {
       "model_id": "dba8c3d9f3494135994dba8865dc3822",
       "version_major": 2,
       "version_minor": 0
      },
      "text/plain": [
       "Batches:   0%|          | 0/60 [00:00<?, ?it/s]"
      ]
     },
     "metadata": {},
     "output_type": "display_data"
    },
    {
     "name": "stderr",
     "output_type": "stream",
     "text": [
      "2022-08-05 21:04:44,170 - BERTopic - Transformed documents to Embeddings\n",
      "2022-08-05 21:04:49,595 - BERTopic - Reduced dimensionality\n",
      "2022-08-05 21:04:49,679 - BERTopic - Clustered reduced embeddings\n",
      "2022-08-05 21:04:51,345 - BERTopic - Reduced number of topics from 36 to 21\n"
     ]
    },
    {
     "name": "stdout",
     "output_type": "stream",
     "text": [
      "Indonesia positive topics generated\n"
     ]
    },
    {
     "data": {
      "application/vnd.jupyter.widget-view+json": {
       "model_id": "b3486072f0304342af9742004e787888",
       "version_major": 2,
       "version_minor": 0
      },
      "text/plain": [
       "Batches:   0%|          | 0/44 [00:00<?, ?it/s]"
      ]
     },
     "metadata": {},
     "output_type": "display_data"
    },
    {
     "name": "stderr",
     "output_type": "stream",
     "text": [
      "2022-08-05 21:05:04,319 - BERTopic - Transformed documents to Embeddings\n",
      "2022-08-05 21:05:08,136 - BERTopic - Reduced dimensionality\n",
      "2022-08-05 21:05:08,196 - BERTopic - Clustered reduced embeddings\n",
      "2022-08-05 21:05:09,733 - BERTopic - Reduced number of topics from 32 to 21\n"
     ]
    },
    {
     "name": "stdout",
     "output_type": "stream",
     "text": [
      "Indonesia negative topics generated\n"
     ]
    },
    {
     "data": {
      "application/vnd.jupyter.widget-view+json": {
       "model_id": "1188781b37e74d84b28d331878d6b1b8",
       "version_major": 2,
       "version_minor": 0
      },
      "text/plain": [
       "Batches:   0%|          | 0/9 [00:00<?, ?it/s]"
      ]
     },
     "metadata": {},
     "output_type": "display_data"
    },
    {
     "name": "stderr",
     "output_type": "stream",
     "text": [
      "2022-08-05 21:05:14,197 - BERTopic - Transformed documents to Embeddings\n",
      "2022-08-05 21:05:16,017 - BERTopic - Reduced dimensionality\n",
      "2022-08-05 21:05:16,030 - BERTopic - Clustered reduced embeddings\n"
     ]
    },
    {
     "name": "stdout",
     "output_type": "stream",
     "text": [
      "Indonesia neutral topics generated\n"
     ]
    },
    {
     "data": {
      "application/vnd.jupyter.widget-view+json": {
       "model_id": "3b719f67b6fa473f8fbeab812bb1f408",
       "version_major": 2,
       "version_minor": 0
      },
      "text/plain": [
       "Batches:   0%|          | 0/4 [00:00<?, ?it/s]"
      ]
     },
     "metadata": {},
     "output_type": "display_data"
    },
    {
     "name": "stderr",
     "output_type": "stream",
     "text": [
      "2022-08-05 21:05:17,303 - BERTopic - Transformed documents to Embeddings\n",
      "2022-08-05 21:05:19,368 - BERTopic - Reduced dimensionality\n",
      "2022-08-05 21:05:19,375 - BERTopic - Clustered reduced embeddings\n"
     ]
    },
    {
     "name": "stdout",
     "output_type": "stream",
     "text": [
      "Iran positive topics generated\n"
     ]
    },
    {
     "data": {
      "application/vnd.jupyter.widget-view+json": {
       "model_id": "e134b9a65b1f42a6b55118fb98fcfb5c",
       "version_major": 2,
       "version_minor": 0
      },
      "text/plain": [
       "Batches:   0%|          | 0/2 [00:00<?, ?it/s]"
      ]
     },
     "metadata": {},
     "output_type": "display_data"
    },
    {
     "name": "stderr",
     "output_type": "stream",
     "text": [
      "2022-08-05 21:05:20,702 - BERTopic - Transformed documents to Embeddings\n",
      "2022-08-05 21:05:22,393 - BERTopic - Reduced dimensionality\n",
      "2022-08-05 21:05:22,399 - BERTopic - Clustered reduced embeddings\n"
     ]
    },
    {
     "name": "stdout",
     "output_type": "stream",
     "text": [
      "Iran negative topics generated\n"
     ]
    },
    {
     "data": {
      "application/vnd.jupyter.widget-view+json": {
       "model_id": "9cb37b6fa37142a58ce43e57bade93f4",
       "version_major": 2,
       "version_minor": 0
      },
      "text/plain": [
       "Batches:   0%|          | 0/1 [00:00<?, ?it/s]"
      ]
     },
     "metadata": {},
     "output_type": "display_data"
    },
    {
     "name": "stderr",
     "output_type": "stream",
     "text": [
      "2022-08-05 21:05:23,020 - BERTopic - Transformed documents to Embeddings\n",
      "2022-08-05 21:05:24,695 - BERTopic - Reduced dimensionality\n",
      "2022-08-05 21:05:24,699 - BERTopic - Clustered reduced embeddings\n"
     ]
    },
    {
     "name": "stdout",
     "output_type": "stream",
     "text": [
      "Iran neutral topics generated\n"
     ]
    },
    {
     "data": {
      "application/vnd.jupyter.widget-view+json": {
       "model_id": "cb3aea99d0454ac48e8da69d3925042c",
       "version_major": 2,
       "version_minor": 0
      },
      "text/plain": [
       "Batches:   0%|          | 0/283 [00:00<?, ?it/s]"
      ]
     },
     "metadata": {},
     "output_type": "display_data"
    },
    {
     "name": "stderr",
     "output_type": "stream",
     "text": [
      "2022-08-05 21:06:40,879 - BERTopic - Transformed documents to Embeddings\n",
      "2022-08-05 21:06:47,880 - BERTopic - Reduced dimensionality\n",
      "2022-08-05 21:06:48,309 - BERTopic - Clustered reduced embeddings\n",
      "2022-08-05 21:06:55,377 - BERTopic - Reduced number of topics from 196 to 21\n"
     ]
    },
    {
     "name": "stdout",
     "output_type": "stream",
     "text": [
      "Ireland positive topics generated\n"
     ]
    },
    {
     "data": {
      "application/vnd.jupyter.widget-view+json": {
       "model_id": "e827e43e30bc4f0e8fd026503ee79ad3",
       "version_major": 2,
       "version_minor": 0
      },
      "text/plain": [
       "Batches:   0%|          | 0/186 [00:00<?, ?it/s]"
      ]
     },
     "metadata": {},
     "output_type": "display_data"
    },
    {
     "name": "stderr",
     "output_type": "stream",
     "text": [
      "2022-08-05 21:07:50,304 - BERTopic - Transformed documents to Embeddings\n",
      "2022-08-05 21:07:55,522 - BERTopic - Reduced dimensionality\n",
      "2022-08-05 21:07:55,803 - BERTopic - Clustered reduced embeddings\n",
      "2022-08-05 21:08:00,659 - BERTopic - Reduced number of topics from 124 to 21\n"
     ]
    },
    {
     "name": "stdout",
     "output_type": "stream",
     "text": [
      "Ireland negative topics generated\n"
     ]
    },
    {
     "data": {
      "application/vnd.jupyter.widget-view+json": {
       "model_id": "afad40a0f62147e197ab161181b51e28",
       "version_major": 2,
       "version_minor": 0
      },
      "text/plain": [
       "Batches:   0%|          | 0/54 [00:00<?, ?it/s]"
      ]
     },
     "metadata": {},
     "output_type": "display_data"
    },
    {
     "name": "stderr",
     "output_type": "stream",
     "text": [
      "2022-08-05 21:08:16,949 - BERTopic - Transformed documents to Embeddings\n",
      "2022-08-05 21:08:21,517 - BERTopic - Reduced dimensionality\n",
      "2022-08-05 21:08:21,600 - BERTopic - Clustered reduced embeddings\n",
      "2022-08-05 21:08:23,384 - BERTopic - Reduced number of topics from 39 to 21\n"
     ]
    },
    {
     "name": "stdout",
     "output_type": "stream",
     "text": [
      "Ireland neutral topics generated\n"
     ]
    },
    {
     "data": {
      "application/vnd.jupyter.widget-view+json": {
       "model_id": "f5695f39c13b4102b4a3b7be0449213f",
       "version_major": 2,
       "version_minor": 0
      },
      "text/plain": [
       "Batches:   0%|          | 0/6 [00:00<?, ?it/s]"
      ]
     },
     "metadata": {},
     "output_type": "display_data"
    },
    {
     "name": "stderr",
     "output_type": "stream",
     "text": [
      "2022-08-05 21:08:27,129 - BERTopic - Transformed documents to Embeddings\n",
      "2022-08-05 21:08:28,974 - BERTopic - Reduced dimensionality\n",
      "2022-08-05 21:08:28,985 - BERTopic - Clustered reduced embeddings\n"
     ]
    },
    {
     "name": "stdout",
     "output_type": "stream",
     "text": [
      "Israel positive topics generated\n"
     ]
    },
    {
     "data": {
      "application/vnd.jupyter.widget-view+json": {
       "model_id": "0e9320f2f148450fba52eb8880122c82",
       "version_major": 2,
       "version_minor": 0
      },
      "text/plain": [
       "Batches:   0%|          | 0/4 [00:00<?, ?it/s]"
      ]
     },
     "metadata": {},
     "output_type": "display_data"
    },
    {
     "name": "stderr",
     "output_type": "stream",
     "text": [
      "2022-08-05 21:08:32,448 - BERTopic - Transformed documents to Embeddings\n",
      "2022-08-05 21:08:34,352 - BERTopic - Reduced dimensionality\n",
      "2022-08-05 21:08:34,360 - BERTopic - Clustered reduced embeddings\n"
     ]
    },
    {
     "name": "stdout",
     "output_type": "stream",
     "text": [
      "Israel negative topics generated\n"
     ]
    },
    {
     "data": {
      "application/vnd.jupyter.widget-view+json": {
       "model_id": "1d0a4851229648e0ad8d8e763fc9e528",
       "version_major": 2,
       "version_minor": 0
      },
      "text/plain": [
       "Batches:   0%|          | 0/1 [00:00<?, ?it/s]"
      ]
     },
     "metadata": {},
     "output_type": "display_data"
    },
    {
     "name": "stderr",
     "output_type": "stream",
     "text": [
      "2022-08-05 21:08:34,930 - BERTopic - Transformed documents to Embeddings\n",
      "2022-08-05 21:08:36,606 - BERTopic - Reduced dimensionality\n",
      "2022-08-05 21:08:36,610 - BERTopic - Clustered reduced embeddings\n"
     ]
    },
    {
     "name": "stdout",
     "output_type": "stream",
     "text": [
      "Israel neutral topics generated\n"
     ]
    },
    {
     "data": {
      "application/vnd.jupyter.widget-view+json": {
       "model_id": "6eacf9d019b24d52b16d259e98e00cc1",
       "version_major": 2,
       "version_minor": 0
      },
      "text/plain": [
       "Batches:   0%|          | 0/25 [00:00<?, ?it/s]"
      ]
     },
     "metadata": {},
     "output_type": "display_data"
    },
    {
     "name": "stderr",
     "output_type": "stream",
     "text": [
      "2022-08-05 21:08:42,911 - BERTopic - Transformed documents to Embeddings\n",
      "2022-08-05 21:08:45,375 - BERTopic - Reduced dimensionality\n",
      "2022-08-05 21:08:45,410 - BERTopic - Clustered reduced embeddings\n",
      "2022-08-05 21:08:46,405 - BERTopic - Reduced number of topics from 24 to 21\n"
     ]
    },
    {
     "name": "stdout",
     "output_type": "stream",
     "text": [
      "Italy positive topics generated\n"
     ]
    },
    {
     "data": {
      "application/vnd.jupyter.widget-view+json": {
       "model_id": "f4e46ba587084bfeacc10eda03a5e3e9",
       "version_major": 2,
       "version_minor": 0
      },
      "text/plain": [
       "Batches:   0%|          | 0/13 [00:00<?, ?it/s]"
      ]
     },
     "metadata": {},
     "output_type": "display_data"
    },
    {
     "name": "stderr",
     "output_type": "stream",
     "text": [
      "2022-08-05 21:08:53,168 - BERTopic - Transformed documents to Embeddings\n",
      "2022-08-05 21:08:55,196 - BERTopic - Reduced dimensionality\n",
      "2022-08-05 21:08:55,217 - BERTopic - Clustered reduced embeddings\n"
     ]
    },
    {
     "name": "stdout",
     "output_type": "stream",
     "text": [
      "Italy negative topics generated\n"
     ]
    },
    {
     "data": {
      "application/vnd.jupyter.widget-view+json": {
       "model_id": "2302e956027a40289b20d6adfb7e37d7",
       "version_major": 2,
       "version_minor": 0
      },
      "text/plain": [
       "Batches:   0%|          | 0/3 [00:00<?, ?it/s]"
      ]
     },
     "metadata": {},
     "output_type": "display_data"
    },
    {
     "name": "stderr",
     "output_type": "stream",
     "text": [
      "2022-08-05 21:08:58,402 - BERTopic - Transformed documents to Embeddings\n",
      "2022-08-05 21:09:00,133 - BERTopic - Reduced dimensionality\n",
      "2022-08-05 21:09:00,139 - BERTopic - Clustered reduced embeddings\n"
     ]
    },
    {
     "name": "stdout",
     "output_type": "stream",
     "text": [
      "Italy neutral topics generated\n"
     ]
    },
    {
     "data": {
      "application/vnd.jupyter.widget-view+json": {
       "model_id": "8f929997846548519dcc7e46a95b267b",
       "version_major": 2,
       "version_minor": 0
      },
      "text/plain": [
       "Batches:   0%|          | 0/53 [00:00<?, ?it/s]"
      ]
     },
     "metadata": {},
     "output_type": "display_data"
    },
    {
     "name": "stderr",
     "output_type": "stream",
     "text": [
      "2022-08-05 21:09:14,281 - BERTopic - Transformed documents to Embeddings\n",
      "2022-08-05 21:09:19,053 - BERTopic - Reduced dimensionality\n",
      "2022-08-05 21:09:19,136 - BERTopic - Clustered reduced embeddings\n",
      "2022-08-05 21:09:21,020 - BERTopic - Reduced number of topics from 51 to 21\n"
     ]
    },
    {
     "name": "stdout",
     "output_type": "stream",
     "text": [
      "Jamaica positive topics generated\n"
     ]
    },
    {
     "data": {
      "application/vnd.jupyter.widget-view+json": {
       "model_id": "0eaf8d0120484995b020e5e0d324e774",
       "version_major": 2,
       "version_minor": 0
      },
      "text/plain": [
       "Batches:   0%|          | 0/24 [00:00<?, ?it/s]"
      ]
     },
     "metadata": {},
     "output_type": "display_data"
    },
    {
     "name": "stderr",
     "output_type": "stream",
     "text": [
      "2022-08-05 21:09:29,210 - BERTopic - Transformed documents to Embeddings\n",
      "2022-08-05 21:09:31,843 - BERTopic - Reduced dimensionality\n",
      "2022-08-05 21:09:31,878 - BERTopic - Clustered reduced embeddings\n",
      "2022-08-05 21:09:32,832 - BERTopic - Reduced number of topics from 23 to 21\n"
     ]
    },
    {
     "name": "stdout",
     "output_type": "stream",
     "text": [
      "Jamaica negative topics generated\n"
     ]
    },
    {
     "data": {
      "application/vnd.jupyter.widget-view+json": {
       "model_id": "5659d3b8748b4e7785069fd1b69a8709",
       "version_major": 2,
       "version_minor": 0
      },
      "text/plain": [
       "Batches:   0%|          | 0/9 [00:00<?, ?it/s]"
      ]
     },
     "metadata": {},
     "output_type": "display_data"
    },
    {
     "name": "stderr",
     "output_type": "stream",
     "text": [
      "2022-08-05 21:09:37,201 - BERTopic - Transformed documents to Embeddings\n",
      "2022-08-05 21:09:39,035 - BERTopic - Reduced dimensionality\n",
      "2022-08-05 21:09:39,048 - BERTopic - Clustered reduced embeddings\n"
     ]
    },
    {
     "name": "stdout",
     "output_type": "stream",
     "text": [
      "Jamaica neutral topics generated\n"
     ]
    },
    {
     "data": {
      "application/vnd.jupyter.widget-view+json": {
       "model_id": "448e8cb8d4d3401d9b1120161c66d37a",
       "version_major": 2,
       "version_minor": 0
      },
      "text/plain": [
       "Batches:   0%|          | 0/10 [00:00<?, ?it/s]"
      ]
     },
     "metadata": {},
     "output_type": "display_data"
    },
    {
     "name": "stderr",
     "output_type": "stream",
     "text": [
      "2022-08-05 21:09:42,031 - BERTopic - Transformed documents to Embeddings\n",
      "2022-08-05 21:09:44,043 - BERTopic - Reduced dimensionality\n",
      "2022-08-05 21:09:44,057 - BERTopic - Clustered reduced embeddings\n"
     ]
    },
    {
     "name": "stdout",
     "output_type": "stream",
     "text": [
      "Japan positive topics generated\n"
     ]
    },
    {
     "data": {
      "application/vnd.jupyter.widget-view+json": {
       "model_id": "b0f0a164aad641bfa4598df3a020da76",
       "version_major": 2,
       "version_minor": 0
      },
      "text/plain": [
       "Batches:   0%|          | 0/6 [00:00<?, ?it/s]"
      ]
     },
     "metadata": {},
     "output_type": "display_data"
    },
    {
     "name": "stderr",
     "output_type": "stream",
     "text": [
      "2022-08-05 21:09:46,217 - BERTopic - Transformed documents to Embeddings\n",
      "2022-08-05 21:09:48,001 - BERTopic - Reduced dimensionality\n",
      "2022-08-05 21:09:48,010 - BERTopic - Clustered reduced embeddings\n"
     ]
    },
    {
     "name": "stdout",
     "output_type": "stream",
     "text": [
      "Japan negative topics generated\n"
     ]
    },
    {
     "data": {
      "application/vnd.jupyter.widget-view+json": {
       "model_id": "8c10b9642c0d4629bc0f5c1058867a1c",
       "version_major": 2,
       "version_minor": 0
      },
      "text/plain": [
       "Batches:   0%|          | 0/3 [00:00<?, ?it/s]"
      ]
     },
     "metadata": {},
     "output_type": "display_data"
    },
    {
     "name": "stderr",
     "output_type": "stream",
     "text": [
      "2022-08-05 21:09:49,129 - BERTopic - Transformed documents to Embeddings\n",
      "2022-08-05 21:09:51,195 - BERTopic - Reduced dimensionality\n",
      "2022-08-05 21:09:51,201 - BERTopic - Clustered reduced embeddings\n"
     ]
    },
    {
     "name": "stdout",
     "output_type": "stream",
     "text": [
      "Japan neutral topics generated\n"
     ]
    },
    {
     "data": {
      "application/vnd.jupyter.widget-view+json": {
       "model_id": "beb945d38d284386902dca1c7718f684",
       "version_major": 2,
       "version_minor": 0
      },
      "text/plain": [
       "Batches:   0%|          | 0/2 [00:00<?, ?it/s]"
      ]
     },
     "metadata": {},
     "output_type": "display_data"
    },
    {
     "name": "stderr",
     "output_type": "stream",
     "text": [
      "2022-08-05 21:09:52,018 - BERTopic - Transformed documents to Embeddings\n",
      "2022-08-05 21:09:53,725 - BERTopic - Reduced dimensionality\n",
      "2022-08-05 21:09:53,730 - BERTopic - Clustered reduced embeddings\n"
     ]
    },
    {
     "name": "stdout",
     "output_type": "stream",
     "text": [
      "Kazakhstan positive topics generated\n"
     ]
    },
    {
     "data": {
      "application/vnd.jupyter.widget-view+json": {
       "model_id": "9f48ba60bd03404f920b696a18aaf582",
       "version_major": 2,
       "version_minor": 0
      },
      "text/plain": [
       "Batches:   0%|          | 0/3 [00:00<?, ?it/s]"
      ]
     },
     "metadata": {},
     "output_type": "display_data"
    },
    {
     "name": "stderr",
     "output_type": "stream",
     "text": [
      "2022-08-05 21:09:54,637 - BERTopic - Transformed documents to Embeddings\n",
      "2022-08-05 21:09:56,411 - BERTopic - Reduced dimensionality\n",
      "2022-08-05 21:09:56,418 - BERTopic - Clustered reduced embeddings\n"
     ]
    },
    {
     "name": "stdout",
     "output_type": "stream",
     "text": [
      "Kazakhstan negative topics generated\n"
     ]
    },
    {
     "data": {
      "application/vnd.jupyter.widget-view+json": {
       "model_id": "b692aa27757a4dd58c1549f7d9a1706c",
       "version_major": 2,
       "version_minor": 0
      },
      "text/plain": [
       "Batches:   0%|          | 0/1 [00:00<?, ?it/s]"
      ]
     },
     "metadata": {},
     "output_type": "display_data"
    },
    {
     "name": "stderr",
     "output_type": "stream",
     "text": [
      "2022-08-05 21:09:56,846 - BERTopic - Transformed documents to Embeddings\n",
      "2022-08-05 21:09:58,527 - BERTopic - Reduced dimensionality\n",
      "2022-08-05 21:09:58,531 - BERTopic - Clustered reduced embeddings\n"
     ]
    },
    {
     "name": "stdout",
     "output_type": "stream",
     "text": [
      "Kazakhstan neutral topics generated\n"
     ]
    },
    {
     "data": {
      "application/vnd.jupyter.widget-view+json": {
       "model_id": "915b38ccad6b4f5bab4eb7ea65368023",
       "version_major": 2,
       "version_minor": 0
      },
      "text/plain": [
       "Batches:   0%|          | 0/3 [00:00<?, ?it/s]"
      ]
     },
     "metadata": {},
     "output_type": "display_data"
    },
    {
     "name": "stderr",
     "output_type": "stream",
     "text": [
      "2022-08-05 21:09:59,440 - BERTopic - Transformed documents to Embeddings\n",
      "2022-08-05 21:10:01,515 - BERTopic - Reduced dimensionality\n",
      "2022-08-05 21:10:01,522 - BERTopic - Clustered reduced embeddings\n"
     ]
    },
    {
     "name": "stdout",
     "output_type": "stream",
     "text": [
      "Kuwait positive topics generated\n"
     ]
    },
    {
     "data": {
      "application/vnd.jupyter.widget-view+json": {
       "model_id": "7efdcf3f012a4d4a9d65aeb4349e11c9",
       "version_major": 2,
       "version_minor": 0
      },
      "text/plain": [
       "Batches:   0%|          | 0/1 [00:00<?, ?it/s]"
      ]
     },
     "metadata": {},
     "output_type": "display_data"
    },
    {
     "name": "stderr",
     "output_type": "stream",
     "text": [
      "2022-08-05 21:10:02,232 - BERTopic - Transformed documents to Embeddings\n",
      "2022-08-05 21:10:03,955 - BERTopic - Reduced dimensionality\n",
      "2022-08-05 21:10:03,960 - BERTopic - Clustered reduced embeddings\n"
     ]
    },
    {
     "name": "stdout",
     "output_type": "stream",
     "text": [
      "Kuwait negative topics generated\n"
     ]
    },
    {
     "data": {
      "application/vnd.jupyter.widget-view+json": {
       "model_id": "095c734c2b004be799757f6c5d8af65b",
       "version_major": 2,
       "version_minor": 0
      },
      "text/plain": [
       "Batches:   0%|          | 0/1 [00:00<?, ?it/s]"
      ]
     },
     "metadata": {},
     "output_type": "display_data"
    },
    {
     "name": "stderr",
     "output_type": "stream",
     "text": [
      "2022-08-05 21:10:04,339 - BERTopic - Transformed documents to Embeddings\n",
      "2022-08-05 21:10:06,014 - BERTopic - Reduced dimensionality\n",
      "2022-08-05 21:10:06,019 - BERTopic - Clustered reduced embeddings\n"
     ]
    },
    {
     "name": "stdout",
     "output_type": "stream",
     "text": [
      "Kuwait neutral topics generated\n"
     ]
    },
    {
     "data": {
      "application/vnd.jupyter.widget-view+json": {
       "model_id": "dbfb0336ca4e4c82b455784ac0bf8be4",
       "version_major": 2,
       "version_minor": 0
      },
      "text/plain": [
       "Batches:   0%|          | 0/4 [00:00<?, ?it/s]"
      ]
     },
     "metadata": {},
     "output_type": "display_data"
    },
    {
     "name": "stderr",
     "output_type": "stream",
     "text": [
      "2022-08-05 21:10:07,097 - BERTopic - Transformed documents to Embeddings\n",
      "2022-08-05 21:10:09,233 - BERTopic - Reduced dimensionality\n",
      "2022-08-05 21:10:09,240 - BERTopic - Clustered reduced embeddings\n"
     ]
    },
    {
     "name": "stdout",
     "output_type": "stream",
     "text": [
      "Luxembourg positive topics generated\n"
     ]
    },
    {
     "data": {
      "application/vnd.jupyter.widget-view+json": {
       "model_id": "aac68c9dc3774adeb55e4d6c2f4b4bc6",
       "version_major": 2,
       "version_minor": 0
      },
      "text/plain": [
       "Batches:   0%|          | 0/4 [00:00<?, ?it/s]"
      ]
     },
     "metadata": {},
     "output_type": "display_data"
    },
    {
     "name": "stderr",
     "output_type": "stream",
     "text": [
      "2022-08-05 21:10:10,581 - BERTopic - Transformed documents to Embeddings\n",
      "2022-08-05 21:10:12,363 - BERTopic - Reduced dimensionality\n",
      "2022-08-05 21:10:12,371 - BERTopic - Clustered reduced embeddings\n"
     ]
    },
    {
     "name": "stdout",
     "output_type": "stream",
     "text": [
      "Luxembourg negative topics generated\n"
     ]
    },
    {
     "data": {
      "application/vnd.jupyter.widget-view+json": {
       "model_id": "e3cfa4aeffd7488b976195847d5e4c8c",
       "version_major": 2,
       "version_minor": 0
      },
      "text/plain": [
       "Batches:   0%|          | 0/1 [00:00<?, ?it/s]"
      ]
     },
     "metadata": {},
     "output_type": "display_data"
    },
    {
     "name": "stderr",
     "output_type": "stream",
     "text": [
      "2022-08-05 21:10:12,898 - BERTopic - Transformed documents to Embeddings\n",
      "2022-08-05 21:10:14,625 - BERTopic - Reduced dimensionality\n",
      "2022-08-05 21:10:14,629 - BERTopic - Clustered reduced embeddings\n"
     ]
    },
    {
     "name": "stdout",
     "output_type": "stream",
     "text": [
      "Luxembourg neutral topics generated\n"
     ]
    },
    {
     "data": {
      "application/vnd.jupyter.widget-view+json": {
       "model_id": "5c4565f15b5b43d68c1c9ba062c5a0e4",
       "version_major": 2,
       "version_minor": 0
      },
      "text/plain": [
       "Batches:   0%|          | 0/265 [00:00<?, ?it/s]"
      ]
     },
     "metadata": {},
     "output_type": "display_data"
    },
    {
     "name": "stderr",
     "output_type": "stream",
     "text": [
      "2022-08-05 21:11:29,581 - BERTopic - Transformed documents to Embeddings\n",
      "2022-08-05 21:11:36,705 - BERTopic - Reduced dimensionality\n",
      "2022-08-05 21:11:37,050 - BERTopic - Clustered reduced embeddings\n",
      "2022-08-05 21:11:44,404 - BERTopic - Reduced number of topics from 204 to 21\n"
     ]
    },
    {
     "name": "stdout",
     "output_type": "stream",
     "text": [
      "Malaysia positive topics generated\n"
     ]
    },
    {
     "data": {
      "application/vnd.jupyter.widget-view+json": {
       "model_id": "d3b41f4646b049ab9d987c7db9bc8c82",
       "version_major": 2,
       "version_minor": 0
      },
      "text/plain": [
       "Batches:   0%|          | 0/186 [00:00<?, ?it/s]"
      ]
     },
     "metadata": {},
     "output_type": "display_data"
    },
    {
     "name": "stderr",
     "output_type": "stream",
     "text": [
      "2022-08-05 21:12:43,008 - BERTopic - Transformed documents to Embeddings\n",
      "2022-08-05 21:12:48,448 - BERTopic - Reduced dimensionality\n",
      "2022-08-05 21:12:48,694 - BERTopic - Clustered reduced embeddings\n",
      "2022-08-05 21:12:54,231 - BERTopic - Reduced number of topics from 152 to 21\n"
     ]
    },
    {
     "name": "stdout",
     "output_type": "stream",
     "text": [
      "Malaysia negative topics generated\n"
     ]
    },
    {
     "data": {
      "application/vnd.jupyter.widget-view+json": {
       "model_id": "6bf6770b014a45fcbae48e31d82bf6b0",
       "version_major": 2,
       "version_minor": 0
      },
      "text/plain": [
       "Batches:   0%|          | 0/41 [00:00<?, ?it/s]"
      ]
     },
     "metadata": {},
     "output_type": "display_data"
    },
    {
     "name": "stderr",
     "output_type": "stream",
     "text": [
      "2022-08-05 21:13:08,930 - BERTopic - Transformed documents to Embeddings\n",
      "2022-08-05 21:13:12,279 - BERTopic - Reduced dimensionality\n",
      "2022-08-05 21:13:12,344 - BERTopic - Clustered reduced embeddings\n",
      "2022-08-05 21:13:13,889 - BERTopic - Reduced number of topics from 34 to 21\n"
     ]
    },
    {
     "name": "stdout",
     "output_type": "stream",
     "text": [
      "Malaysia neutral topics generated\n"
     ]
    },
    {
     "data": {
      "application/vnd.jupyter.widget-view+json": {
       "model_id": "ef12bd17d3374d559a2e2c7994532520",
       "version_major": 2,
       "version_minor": 0
      },
      "text/plain": [
       "Batches:   0%|          | 0/5 [00:00<?, ?it/s]"
      ]
     },
     "metadata": {},
     "output_type": "display_data"
    },
    {
     "name": "stderr",
     "output_type": "stream",
     "text": [
      "2022-08-05 21:13:17,768 - BERTopic - Transformed documents to Embeddings\n",
      "2022-08-05 21:13:19,577 - BERTopic - Reduced dimensionality\n",
      "2022-08-05 21:13:19,587 - BERTopic - Clustered reduced embeddings\n"
     ]
    },
    {
     "name": "stdout",
     "output_type": "stream",
     "text": [
      "Malta positive topics generated\n"
     ]
    },
    {
     "data": {
      "application/vnd.jupyter.widget-view+json": {
       "model_id": "bfd53f0684514283ac76fb4d28e2ac35",
       "version_major": 2,
       "version_minor": 0
      },
      "text/plain": [
       "Batches:   0%|          | 0/3 [00:00<?, ?it/s]"
      ]
     },
     "metadata": {},
     "output_type": "display_data"
    },
    {
     "name": "stderr",
     "output_type": "stream",
     "text": [
      "2022-08-05 21:13:22,643 - BERTopic - Transformed documents to Embeddings\n",
      "2022-08-05 21:13:24,737 - BERTopic - Reduced dimensionality\n",
      "2022-08-05 21:13:24,744 - BERTopic - Clustered reduced embeddings\n"
     ]
    },
    {
     "name": "stdout",
     "output_type": "stream",
     "text": [
      "Malta negative topics generated\n"
     ]
    },
    {
     "data": {
      "application/vnd.jupyter.widget-view+json": {
       "model_id": "7e7b46dea44e4525af15676a8ec792c3",
       "version_major": 2,
       "version_minor": 0
      },
      "text/plain": [
       "Batches:   0%|          | 0/1 [00:00<?, ?it/s]"
      ]
     },
     "metadata": {},
     "output_type": "display_data"
    },
    {
     "name": "stderr",
     "output_type": "stream",
     "text": [
      "2022-08-05 21:13:25,392 - BERTopic - Transformed documents to Embeddings\n",
      "2022-08-05 21:13:27,160 - BERTopic - Reduced dimensionality\n",
      "2022-08-05 21:13:27,165 - BERTopic - Clustered reduced embeddings\n"
     ]
    },
    {
     "name": "stdout",
     "output_type": "stream",
     "text": [
      "Malta neutral topics generated\n"
     ]
    },
    {
     "data": {
      "application/vnd.jupyter.widget-view+json": {
       "model_id": "d3afb4a1aa33492ab7be8e1a23f6fd99",
       "version_major": 2,
       "version_minor": 0
      },
      "text/plain": [
       "Batches:   0%|          | 0/156 [00:00<?, ?it/s]"
      ]
     },
     "metadata": {},
     "output_type": "display_data"
    },
    {
     "name": "stderr",
     "output_type": "stream",
     "text": [
      "2022-08-05 21:14:09,059 - BERTopic - Transformed documents to Embeddings\n",
      "2022-08-05 21:14:13,684 - BERTopic - Reduced dimensionality\n",
      "2022-08-05 21:14:13,920 - BERTopic - Clustered reduced embeddings\n",
      "2022-08-05 21:14:18,025 - BERTopic - Reduced number of topics from 113 to 21\n"
     ]
    },
    {
     "name": "stdout",
     "output_type": "stream",
     "text": [
      "Mexico positive topics generated\n"
     ]
    },
    {
     "data": {
      "application/vnd.jupyter.widget-view+json": {
       "model_id": "18c33fad0493412884eada7a724ce3f0",
       "version_major": 2,
       "version_minor": 0
      },
      "text/plain": [
       "Batches:   0%|          | 0/95 [00:00<?, ?it/s]"
      ]
     },
     "metadata": {},
     "output_type": "display_data"
    },
    {
     "name": "stderr",
     "output_type": "stream",
     "text": [
      "2022-08-05 21:14:46,833 - BERTopic - Transformed documents to Embeddings\n",
      "2022-08-05 21:14:55,866 - BERTopic - Reduced dimensionality\n",
      "2022-08-05 21:14:56,013 - BERTopic - Clustered reduced embeddings\n",
      "2022-08-05 21:14:58,584 - BERTopic - Reduced number of topics from 56 to 21\n"
     ]
    },
    {
     "name": "stdout",
     "output_type": "stream",
     "text": [
      "Mexico negative topics generated\n"
     ]
    },
    {
     "data": {
      "application/vnd.jupyter.widget-view+json": {
       "model_id": "51e941237d074cfc8ec46d47073455d8",
       "version_major": 2,
       "version_minor": 0
      },
      "text/plain": [
       "Batches:   0%|          | 0/25 [00:00<?, ?it/s]"
      ]
     },
     "metadata": {},
     "output_type": "display_data"
    },
    {
     "name": "stderr",
     "output_type": "stream",
     "text": [
      "2022-08-05 21:15:07,107 - BERTopic - Transformed documents to Embeddings\n",
      "2022-08-05 21:15:09,919 - BERTopic - Reduced dimensionality\n",
      "2022-08-05 21:15:09,955 - BERTopic - Clustered reduced embeddings\n"
     ]
    },
    {
     "name": "stdout",
     "output_type": "stream",
     "text": [
      "Mexico neutral topics generated\n"
     ]
    },
    {
     "data": {
      "application/vnd.jupyter.widget-view+json": {
       "model_id": "821e68f2f2e94703890bf90d0a55b3a1",
       "version_major": 2,
       "version_minor": 0
      },
      "text/plain": [
       "Batches:   0%|          | 0/2 [00:00<?, ?it/s]"
      ]
     },
     "metadata": {},
     "output_type": "display_data"
    },
    {
     "name": "stderr",
     "output_type": "stream",
     "text": [
      "2022-08-05 21:15:12,963 - BERTopic - Transformed documents to Embeddings\n",
      "2022-08-05 21:15:15,223 - BERTopic - Reduced dimensionality\n",
      "2022-08-05 21:15:15,228 - BERTopic - Clustered reduced embeddings\n"
     ]
    },
    {
     "name": "stdout",
     "output_type": "stream",
     "text": [
      "Morocco positive topics generated\n"
     ]
    },
    {
     "data": {
      "application/vnd.jupyter.widget-view+json": {
       "model_id": "6d75a38fde8c40aa894698d0af387d8e",
       "version_major": 2,
       "version_minor": 0
      },
      "text/plain": [
       "Batches:   0%|          | 0/2 [00:00<?, ?it/s]"
      ]
     },
     "metadata": {},
     "output_type": "display_data"
    },
    {
     "name": "stderr",
     "output_type": "stream",
     "text": [
      "2022-08-05 21:15:16,032 - BERTopic - Transformed documents to Embeddings\n",
      "2022-08-05 21:15:17,876 - BERTopic - Reduced dimensionality\n",
      "2022-08-05 21:15:17,883 - BERTopic - Clustered reduced embeddings\n"
     ]
    },
    {
     "name": "stdout",
     "output_type": "stream",
     "text": [
      "Morocco negative topics generated\n"
     ]
    },
    {
     "data": {
      "application/vnd.jupyter.widget-view+json": {
       "model_id": "21e4711ea2604cd8a7ef46b14bf50cd5",
       "version_major": 2,
       "version_minor": 0
      },
      "text/plain": [
       "Batches:   0%|          | 0/1 [00:00<?, ?it/s]"
      ]
     },
     "metadata": {},
     "output_type": "display_data"
    },
    {
     "name": "stderr",
     "output_type": "stream",
     "text": [
      "2022-08-05 21:15:18,429 - BERTopic - Transformed documents to Embeddings\n",
      "2022-08-05 21:15:20,155 - BERTopic - Reduced dimensionality\n",
      "2022-08-05 21:15:20,160 - BERTopic - Clustered reduced embeddings\n"
     ]
    },
    {
     "name": "stdout",
     "output_type": "stream",
     "text": [
      "Morocco neutral topics generated\n"
     ]
    },
    {
     "data": {
      "application/vnd.jupyter.widget-view+json": {
       "model_id": "5d107bbc51104f08b840483c2c4f6304",
       "version_major": 2,
       "version_minor": 0
      },
      "text/plain": [
       "Batches:   0%|          | 0/29 [00:00<?, ?it/s]"
      ]
     },
     "metadata": {},
     "output_type": "display_data"
    },
    {
     "name": "stderr",
     "output_type": "stream",
     "text": [
      "2022-08-05 21:15:27,777 - BERTopic - Transformed documents to Embeddings\n",
      "2022-08-05 21:15:30,482 - BERTopic - Reduced dimensionality\n",
      "2022-08-05 21:15:30,524 - BERTopic - Clustered reduced embeddings\n",
      "2022-08-05 21:15:31,860 - BERTopic - Reduced number of topics from 29 to 21\n"
     ]
    },
    {
     "name": "stdout",
     "output_type": "stream",
     "text": [
      "Namibia positive topics generated\n"
     ]
    },
    {
     "data": {
      "application/vnd.jupyter.widget-view+json": {
       "model_id": "8f7ac106160542f5a6ca0501c88a32c3",
       "version_major": 2,
       "version_minor": 0
      },
      "text/plain": [
       "Batches:   0%|          | 0/21 [00:00<?, ?it/s]"
      ]
     },
     "metadata": {},
     "output_type": "display_data"
    },
    {
     "name": "stderr",
     "output_type": "stream",
     "text": [
      "2022-08-05 21:15:41,307 - BERTopic - Transformed documents to Embeddings\n",
      "2022-08-05 21:15:43,804 - BERTopic - Reduced dimensionality\n",
      "2022-08-05 21:15:43,841 - BERTopic - Clustered reduced embeddings\n",
      "2022-08-05 21:15:45,054 - BERTopic - Reduced number of topics from 22 to 21\n"
     ]
    },
    {
     "name": "stdout",
     "output_type": "stream",
     "text": [
      "Namibia negative topics generated\n"
     ]
    },
    {
     "data": {
      "application/vnd.jupyter.widget-view+json": {
       "model_id": "d1a137d44b784dcba54698eae8b82c13",
       "version_major": 2,
       "version_minor": 0
      },
      "text/plain": [
       "Batches:   0%|          | 0/6 [00:00<?, ?it/s]"
      ]
     },
     "metadata": {},
     "output_type": "display_data"
    },
    {
     "name": "stderr",
     "output_type": "stream",
     "text": [
      "2022-08-05 21:15:48,789 - BERTopic - Transformed documents to Embeddings\n",
      "2022-08-05 21:15:50,614 - BERTopic - Reduced dimensionality\n",
      "2022-08-05 21:15:50,625 - BERTopic - Clustered reduced embeddings\n"
     ]
    },
    {
     "name": "stdout",
     "output_type": "stream",
     "text": [
      "Namibia neutral topics generated\n"
     ]
    },
    {
     "data": {
      "application/vnd.jupyter.widget-view+json": {
       "model_id": "56701f6eb349489ea5199403ffe62bc2",
       "version_major": 2,
       "version_minor": 0
      },
      "text/plain": [
       "Batches:   0%|          | 0/43 [00:00<?, ?it/s]"
      ]
     },
     "metadata": {},
     "output_type": "display_data"
    },
    {
     "name": "stderr",
     "output_type": "stream",
     "text": [
      "2022-08-05 21:16:05,144 - BERTopic - Transformed documents to Embeddings\n",
      "2022-08-05 21:16:08,823 - BERTopic - Reduced dimensionality\n",
      "2022-08-05 21:16:08,886 - BERTopic - Clustered reduced embeddings\n",
      "2022-08-05 21:16:10,276 - BERTopic - Reduced number of topics from 28 to 21\n"
     ]
    },
    {
     "name": "stdout",
     "output_type": "stream",
     "text": [
      "Netherlands positive topics generated\n"
     ]
    },
    {
     "data": {
      "application/vnd.jupyter.widget-view+json": {
       "model_id": "65eb440151c04046b4b08357b61ab0ca",
       "version_major": 2,
       "version_minor": 0
      },
      "text/plain": [
       "Batches:   0%|          | 0/22 [00:00<?, ?it/s]"
      ]
     },
     "metadata": {},
     "output_type": "display_data"
    },
    {
     "name": "stderr",
     "output_type": "stream",
     "text": [
      "2022-08-05 21:16:18,853 - BERTopic - Transformed documents to Embeddings\n",
      "2022-08-05 21:16:21,180 - BERTopic - Reduced dimensionality\n",
      "2022-08-05 21:16:21,209 - BERTopic - Clustered reduced embeddings\n"
     ]
    },
    {
     "name": "stdout",
     "output_type": "stream",
     "text": [
      "Netherlands negative topics generated\n"
     ]
    },
    {
     "data": {
      "application/vnd.jupyter.widget-view+json": {
       "model_id": "f3f4073c54c341ff995862102ffa2555",
       "version_major": 2,
       "version_minor": 0
      },
      "text/plain": [
       "Batches:   0%|          | 0/9 [00:00<?, ?it/s]"
      ]
     },
     "metadata": {},
     "output_type": "display_data"
    },
    {
     "name": "stderr",
     "output_type": "stream",
     "text": [
      "2022-08-05 21:16:24,063 - BERTopic - Transformed documents to Embeddings\n",
      "2022-08-05 21:16:25,999 - BERTopic - Reduced dimensionality\n",
      "2022-08-05 21:16:26,012 - BERTopic - Clustered reduced embeddings\n"
     ]
    },
    {
     "name": "stdout",
     "output_type": "stream",
     "text": [
      "Netherlands neutral topics generated\n"
     ]
    },
    {
     "data": {
      "application/vnd.jupyter.widget-view+json": {
       "model_id": "1ca843d019aa41d1bb55853e05b7172f",
       "version_major": 2,
       "version_minor": 0
      },
      "text/plain": [
       "Batches:   0%|          | 0/56 [00:00<?, ?it/s]"
      ]
     },
     "metadata": {},
     "output_type": "display_data"
    },
    {
     "name": "stderr",
     "output_type": "stream",
     "text": [
      "2022-08-05 21:16:41,666 - BERTopic - Transformed documents to Embeddings\n",
      "2022-08-05 21:16:46,879 - BERTopic - Reduced dimensionality\n",
      "2022-08-05 21:16:46,964 - BERTopic - Clustered reduced embeddings\n",
      "2022-08-05 21:16:48,896 - BERTopic - Reduced number of topics from 53 to 21\n"
     ]
    },
    {
     "name": "stdout",
     "output_type": "stream",
     "text": [
      "New Zealand positive topics generated\n"
     ]
    },
    {
     "data": {
      "application/vnd.jupyter.widget-view+json": {
       "model_id": "ba8b68515ec44d12a6ffceccdeb5d577",
       "version_major": 2,
       "version_minor": 0
      },
      "text/plain": [
       "Batches:   0%|          | 0/49 [00:00<?, ?it/s]"
      ]
     },
     "metadata": {},
     "output_type": "display_data"
    },
    {
     "name": "stderr",
     "output_type": "stream",
     "text": [
      "2022-08-05 21:17:04,668 - BERTopic - Transformed documents to Embeddings\n",
      "2022-08-05 21:17:08,721 - BERTopic - Reduced dimensionality\n",
      "2022-08-05 21:17:08,799 - BERTopic - Clustered reduced embeddings\n",
      "2022-08-05 21:17:10,817 - BERTopic - Reduced number of topics from 45 to 21\n"
     ]
    },
    {
     "name": "stdout",
     "output_type": "stream",
     "text": [
      "New Zealand negative topics generated\n"
     ]
    },
    {
     "data": {
      "application/vnd.jupyter.widget-view+json": {
       "model_id": "3d6162a108e54f5b938710a1b03ed93e",
       "version_major": 2,
       "version_minor": 0
      },
      "text/plain": [
       "Batches:   0%|          | 0/17 [00:00<?, ?it/s]"
      ]
     },
     "metadata": {},
     "output_type": "display_data"
    },
    {
     "name": "stderr",
     "output_type": "stream",
     "text": [
      "2022-08-05 21:17:17,557 - BERTopic - Transformed documents to Embeddings\n",
      "2022-08-05 21:17:20,217 - BERTopic - Reduced dimensionality\n",
      "2022-08-05 21:17:20,244 - BERTopic - Clustered reduced embeddings\n"
     ]
    },
    {
     "name": "stdout",
     "output_type": "stream",
     "text": [
      "New Zealand neutral topics generated\n"
     ]
    },
    {
     "data": {
      "application/vnd.jupyter.widget-view+json": {
       "model_id": "08aaef1c469641bbae9999c786689b74",
       "version_major": 2,
       "version_minor": 0
      },
      "text/plain": [
       "Batches:   0%|          | 0/737 [00:00<?, ?it/s]"
      ]
     },
     "metadata": {},
     "output_type": "display_data"
    },
    {
     "name": "stderr",
     "output_type": "stream",
     "text": [
      "2022-08-05 21:20:53,220 - BERTopic - Transformed documents to Embeddings\n",
      "2022-08-05 21:21:03,747 - BERTopic - Reduced dimensionality\n",
      "2022-08-05 21:21:05,796 - BERTopic - Clustered reduced embeddings\n",
      "2022-08-05 21:21:26,384 - BERTopic - Reduced number of topics from 527 to 21\n"
     ]
    },
    {
     "name": "stdout",
     "output_type": "stream",
     "text": [
      "Nigeria positive topics generated\n"
     ]
    },
    {
     "data": {
      "application/vnd.jupyter.widget-view+json": {
       "model_id": "d113e1f20cc14ee4a9328fa0a5de780f",
       "version_major": 2,
       "version_minor": 0
      },
      "text/plain": [
       "Batches:   0%|          | 0/325 [00:00<?, ?it/s]"
      ]
     },
     "metadata": {},
     "output_type": "display_data"
    },
    {
     "name": "stderr",
     "output_type": "stream",
     "text": [
      "2022-08-05 21:23:11,713 - BERTopic - Transformed documents to Embeddings\n",
      "2022-08-05 21:23:18,692 - BERTopic - Reduced dimensionality\n",
      "2022-08-05 21:23:19,199 - BERTopic - Clustered reduced embeddings\n",
      "2022-08-05 21:23:29,207 - BERTopic - Reduced number of topics from 257 to 21\n"
     ]
    },
    {
     "name": "stdout",
     "output_type": "stream",
     "text": [
      "Nigeria negative topics generated\n"
     ]
    },
    {
     "data": {
      "application/vnd.jupyter.widget-view+json": {
       "model_id": "9d19bac56a324b7895630779b0445a7b",
       "version_major": 2,
       "version_minor": 0
      },
      "text/plain": [
       "Batches:   0%|          | 0/81 [00:00<?, ?it/s]"
      ]
     },
     "metadata": {},
     "output_type": "display_data"
    },
    {
     "name": "stderr",
     "output_type": "stream",
     "text": [
      "2022-08-05 21:23:53,195 - BERTopic - Transformed documents to Embeddings\n",
      "2022-08-05 21:24:00,108 - BERTopic - Reduced dimensionality\n",
      "2022-08-05 21:24:00,226 - BERTopic - Clustered reduced embeddings\n",
      "2022-08-05 21:24:02,859 - BERTopic - Reduced number of topics from 73 to 21\n"
     ]
    },
    {
     "name": "stdout",
     "output_type": "stream",
     "text": [
      "Nigeria neutral topics generated\n"
     ]
    },
    {
     "data": {
      "application/vnd.jupyter.widget-view+json": {
       "model_id": "e2638e277ad84decb358f8e586d632c3",
       "version_major": 2,
       "version_minor": 0
      },
      "text/plain": [
       "Batches:   0%|          | 0/9 [00:00<?, ?it/s]"
      ]
     },
     "metadata": {},
     "output_type": "display_data"
    },
    {
     "name": "stderr",
     "output_type": "stream",
     "text": [
      "2022-08-05 21:24:06,917 - BERTopic - Transformed documents to Embeddings\n",
      "2022-08-05 21:24:09,222 - BERTopic - Reduced dimensionality\n",
      "2022-08-05 21:24:09,235 - BERTopic - Clustered reduced embeddings\n"
     ]
    },
    {
     "name": "stdout",
     "output_type": "stream",
     "text": [
      "Norway positive topics generated\n"
     ]
    },
    {
     "data": {
      "application/vnd.jupyter.widget-view+json": {
       "model_id": "a1544035e13948ca8b427b6aa7a9b475",
       "version_major": 2,
       "version_minor": 0
      },
      "text/plain": [
       "Batches:   0%|          | 0/6 [00:00<?, ?it/s]"
      ]
     },
     "metadata": {},
     "output_type": "display_data"
    },
    {
     "name": "stderr",
     "output_type": "stream",
     "text": [
      "2022-08-05 21:24:13,075 - BERTopic - Transformed documents to Embeddings\n",
      "2022-08-05 21:24:14,895 - BERTopic - Reduced dimensionality\n",
      "2022-08-05 21:24:14,905 - BERTopic - Clustered reduced embeddings\n"
     ]
    },
    {
     "name": "stdout",
     "output_type": "stream",
     "text": [
      "Norway negative topics generated\n"
     ]
    },
    {
     "data": {
      "application/vnd.jupyter.widget-view+json": {
       "model_id": "27b264535789485d83ab0e5c87b671d6",
       "version_major": 2,
       "version_minor": 0
      },
      "text/plain": [
       "Batches:   0%|          | 0/2 [00:00<?, ?it/s]"
      ]
     },
     "metadata": {},
     "output_type": "display_data"
    },
    {
     "name": "stderr",
     "output_type": "stream",
     "text": [
      "2022-08-05 21:24:15,544 - BERTopic - Transformed documents to Embeddings\n",
      "2022-08-05 21:24:17,322 - BERTopic - Reduced dimensionality\n",
      "2022-08-05 21:24:17,327 - BERTopic - Clustered reduced embeddings\n"
     ]
    },
    {
     "name": "stdout",
     "output_type": "stream",
     "text": [
      "Norway neutral topics generated\n"
     ]
    },
    {
     "data": {
      "application/vnd.jupyter.widget-view+json": {
       "model_id": "3209168d6a5c45c99e6c8084f7d10e17",
       "version_major": 2,
       "version_minor": 0
      },
      "text/plain": [
       "Batches:   0%|          | 0/133 [00:00<?, ?it/s]"
      ]
     },
     "metadata": {},
     "output_type": "display_data"
    },
    {
     "name": "stderr",
     "output_type": "stream",
     "text": [
      "2022-08-05 21:25:00,019 - BERTopic - Transformed documents to Embeddings\n",
      "2022-08-05 21:25:05,190 - BERTopic - Reduced dimensionality\n",
      "2022-08-05 21:25:05,373 - BERTopic - Clustered reduced embeddings\n",
      "2022-08-05 21:25:09,501 - BERTopic - Reduced number of topics from 96 to 21\n"
     ]
    },
    {
     "name": "stdout",
     "output_type": "stream",
     "text": [
      "Pakistan positive topics generated\n"
     ]
    },
    {
     "data": {
      "application/vnd.jupyter.widget-view+json": {
       "model_id": "28e8866b70114164b7b42b8b80b05796",
       "version_major": 2,
       "version_minor": 0
      },
      "text/plain": [
       "Batches:   0%|          | 0/77 [00:00<?, ?it/s]"
      ]
     },
     "metadata": {},
     "output_type": "display_data"
    },
    {
     "name": "stderr",
     "output_type": "stream",
     "text": [
      "2022-08-05 21:25:37,902 - BERTopic - Transformed documents to Embeddings\n",
      "2022-08-05 21:25:45,125 - BERTopic - Reduced dimensionality\n",
      "2022-08-05 21:25:45,241 - BERTopic - Clustered reduced embeddings\n",
      "2022-08-05 21:25:47,478 - BERTopic - Reduced number of topics from 48 to 21\n"
     ]
    },
    {
     "name": "stdout",
     "output_type": "stream",
     "text": [
      "Pakistan negative topics generated\n"
     ]
    },
    {
     "data": {
      "application/vnd.jupyter.widget-view+json": {
       "model_id": "7e249df862cc486e85506ce4d1b6eb8b",
       "version_major": 2,
       "version_minor": 0
      },
      "text/plain": [
       "Batches:   0%|          | 0/10 [00:00<?, ?it/s]"
      ]
     },
     "metadata": {},
     "output_type": "display_data"
    },
    {
     "name": "stderr",
     "output_type": "stream",
     "text": [
      "2022-08-05 21:25:52,771 - BERTopic - Transformed documents to Embeddings\n",
      "2022-08-05 21:25:55,075 - BERTopic - Reduced dimensionality\n",
      "2022-08-05 21:25:55,090 - BERTopic - Clustered reduced embeddings\n"
     ]
    },
    {
     "name": "stdout",
     "output_type": "stream",
     "text": [
      "Pakistan neutral topics generated\n"
     ]
    },
    {
     "data": {
      "application/vnd.jupyter.widget-view+json": {
       "model_id": "f0855c2704614c2b84bce79ea2f6fefd",
       "version_major": 2,
       "version_minor": 0
      },
      "text/plain": [
       "Batches:   0%|          | 0/7 [00:00<?, ?it/s]"
      ]
     },
     "metadata": {},
     "output_type": "display_data"
    },
    {
     "name": "stderr",
     "output_type": "stream",
     "text": [
      "2022-08-05 21:25:59,063 - BERTopic - Transformed documents to Embeddings\n",
      "2022-08-05 21:26:00,966 - BERTopic - Reduced dimensionality\n",
      "2022-08-05 21:26:00,977 - BERTopic - Clustered reduced embeddings\n"
     ]
    },
    {
     "name": "stdout",
     "output_type": "stream",
     "text": [
      "Panama positive topics generated\n"
     ]
    },
    {
     "data": {
      "application/vnd.jupyter.widget-view+json": {
       "model_id": "957981cb3dab406fa82b8e3bee6eecef",
       "version_major": 2,
       "version_minor": 0
      },
      "text/plain": [
       "Batches:   0%|          | 0/8 [00:00<?, ?it/s]"
      ]
     },
     "metadata": {},
     "output_type": "display_data"
    },
    {
     "name": "stderr",
     "output_type": "stream",
     "text": [
      "2022-08-05 21:26:03,549 - BERTopic - Transformed documents to Embeddings\n",
      "2022-08-05 21:26:05,382 - BERTopic - Reduced dimensionality\n",
      "2022-08-05 21:26:05,393 - BERTopic - Clustered reduced embeddings\n"
     ]
    },
    {
     "name": "stdout",
     "output_type": "stream",
     "text": [
      "Panama negative topics generated\n"
     ]
    },
    {
     "data": {
      "application/vnd.jupyter.widget-view+json": {
       "model_id": "d976ea2b2292468faed857954b59c11d",
       "version_major": 2,
       "version_minor": 0
      },
      "text/plain": [
       "Batches:   0%|          | 0/2 [00:00<?, ?it/s]"
      ]
     },
     "metadata": {},
     "output_type": "display_data"
    },
    {
     "name": "stderr",
     "output_type": "stream",
     "text": [
      "2022-08-05 21:26:06,169 - BERTopic - Transformed documents to Embeddings\n",
      "2022-08-05 21:26:08,300 - BERTopic - Reduced dimensionality\n",
      "2022-08-05 21:26:08,305 - BERTopic - Clustered reduced embeddings\n"
     ]
    },
    {
     "name": "stdout",
     "output_type": "stream",
     "text": [
      "Panama neutral topics generated\n"
     ]
    },
    {
     "data": {
      "application/vnd.jupyter.widget-view+json": {
       "model_id": "314593fc34a9460aa583b1bc657eb72e",
       "version_major": 2,
       "version_minor": 0
      },
      "text/plain": [
       "Batches:   0%|          | 0/2 [00:00<?, ?it/s]"
      ]
     },
     "metadata": {},
     "output_type": "display_data"
    },
    {
     "name": "stderr",
     "output_type": "stream",
     "text": [
      "2022-08-05 21:26:09,150 - BERTopic - Transformed documents to Embeddings\n",
      "2022-08-05 21:26:10,876 - BERTopic - Reduced dimensionality\n",
      "2022-08-05 21:26:10,883 - BERTopic - Clustered reduced embeddings\n"
     ]
    },
    {
     "name": "stdout",
     "output_type": "stream",
     "text": [
      "Peru positive topics generated\n"
     ]
    },
    {
     "data": {
      "application/vnd.jupyter.widget-view+json": {
       "model_id": "8acc36683eac4e8e99555cdc7337f055",
       "version_major": 2,
       "version_minor": 0
      },
      "text/plain": [
       "Batches:   0%|          | 0/2 [00:00<?, ?it/s]"
      ]
     },
     "metadata": {},
     "output_type": "display_data"
    },
    {
     "name": "stderr",
     "output_type": "stream",
     "text": [
      "2022-08-05 21:26:11,587 - BERTopic - Transformed documents to Embeddings\n",
      "2022-08-05 21:26:13,292 - BERTopic - Reduced dimensionality\n",
      "2022-08-05 21:26:13,298 - BERTopic - Clustered reduced embeddings\n"
     ]
    },
    {
     "name": "stdout",
     "output_type": "stream",
     "text": [
      "Peru negative topics generated\n"
     ]
    },
    {
     "data": {
      "application/vnd.jupyter.widget-view+json": {
       "model_id": "642870d9ee4648e99e4ba93da0d116bd",
       "version_major": 2,
       "version_minor": 0
      },
      "text/plain": [
       "Batches:   0%|          | 0/1 [00:00<?, ?it/s]"
      ]
     },
     "metadata": {},
     "output_type": "display_data"
    },
    {
     "name": "stderr",
     "output_type": "stream",
     "text": [
      "2022-08-05 21:26:13,726 - BERTopic - Transformed documents to Embeddings\n",
      "2022-08-05 21:26:15,415 - BERTopic - Reduced dimensionality\n"
     ]
    },
    {
     "name": "stdout",
     "output_type": "stream",
     "text": [
      "An exception occurred\n",
      "'NoneType' object has no attribute 'get_mappings'\n",
      "Peru neutral Dataset not big enough\n"
     ]
    },
    {
     "data": {
      "application/vnd.jupyter.widget-view+json": {
       "model_id": "d1b9f1f2b91a4877b7c24b188c41c557",
       "version_major": 2,
       "version_minor": 0
      },
      "text/plain": [
       "Batches:   0%|          | 0/309 [00:00<?, ?it/s]"
      ]
     },
     "metadata": {},
     "output_type": "display_data"
    },
    {
     "name": "stderr",
     "output_type": "stream",
     "text": [
      "2022-08-05 21:27:45,548 - BERTopic - Transformed documents to Embeddings\n",
      "2022-08-05 21:27:58,485 - BERTopic - Reduced dimensionality\n",
      "2022-08-05 21:27:58,920 - BERTopic - Clustered reduced embeddings\n",
      "2022-08-05 21:28:07,490 - BERTopic - Reduced number of topics from 217 to 21\n"
     ]
    },
    {
     "name": "stdout",
     "output_type": "stream",
     "text": [
      "Philippines positive topics generated\n"
     ]
    },
    {
     "data": {
      "application/vnd.jupyter.widget-view+json": {
       "model_id": "4fe559870d704fdd94fb8af9a4c07433",
       "version_major": 2,
       "version_minor": 0
      },
      "text/plain": [
       "Batches:   0%|          | 0/117 [00:00<?, ?it/s]"
      ]
     },
     "metadata": {},
     "output_type": "display_data"
    },
    {
     "name": "stderr",
     "output_type": "stream",
     "text": [
      "2022-08-05 21:28:50,690 - BERTopic - Transformed documents to Embeddings\n",
      "2022-08-05 21:29:02,410 - BERTopic - Reduced dimensionality\n",
      "2022-08-05 21:29:02,588 - BERTopic - Clustered reduced embeddings\n",
      "2022-08-05 21:29:06,886 - BERTopic - Reduced number of topics from 108 to 21\n"
     ]
    },
    {
     "name": "stdout",
     "output_type": "stream",
     "text": [
      "Philippines negative topics generated\n"
     ]
    },
    {
     "data": {
      "application/vnd.jupyter.widget-view+json": {
       "model_id": "f87f199e4a724d7894b54bf484784965",
       "version_major": 2,
       "version_minor": 0
      },
      "text/plain": [
       "Batches:   0%|          | 0/39 [00:00<?, ?it/s]"
      ]
     },
     "metadata": {},
     "output_type": "display_data"
    },
    {
     "name": "stderr",
     "output_type": "stream",
     "text": [
      "2022-08-05 21:29:21,384 - BERTopic - Transformed documents to Embeddings\n",
      "2022-08-05 21:29:24,625 - BERTopic - Reduced dimensionality\n",
      "2022-08-05 21:29:24,684 - BERTopic - Clustered reduced embeddings\n",
      "2022-08-05 21:29:25,940 - BERTopic - Reduced number of topics from 24 to 21\n"
     ]
    },
    {
     "name": "stdout",
     "output_type": "stream",
     "text": [
      "Philippines neutral topics generated\n"
     ]
    },
    {
     "data": {
      "application/vnd.jupyter.widget-view+json": {
       "model_id": "565ed2f89e1741879611ba674138caf1",
       "version_major": 2,
       "version_minor": 0
      },
      "text/plain": [
       "Batches:   0%|          | 0/4 [00:00<?, ?it/s]"
      ]
     },
     "metadata": {},
     "output_type": "display_data"
    },
    {
     "name": "stderr",
     "output_type": "stream",
     "text": [
      "2022-08-05 21:29:29,550 - BERTopic - Transformed documents to Embeddings\n",
      "2022-08-05 21:29:31,416 - BERTopic - Reduced dimensionality\n",
      "2022-08-05 21:29:31,424 - BERTopic - Clustered reduced embeddings\n"
     ]
    },
    {
     "name": "stdout",
     "output_type": "stream",
     "text": [
      "Poland positive topics generated\n"
     ]
    },
    {
     "data": {
      "application/vnd.jupyter.widget-view+json": {
       "model_id": "7bfae95baccf4e5ba60d1bdf9e36cf63",
       "version_major": 2,
       "version_minor": 0
      },
      "text/plain": [
       "Batches:   0%|          | 0/3 [00:00<?, ?it/s]"
      ]
     },
     "metadata": {},
     "output_type": "display_data"
    },
    {
     "name": "stderr",
     "output_type": "stream",
     "text": [
      "2022-08-05 21:29:32,613 - BERTopic - Transformed documents to Embeddings\n",
      "2022-08-05 21:29:34,374 - BERTopic - Reduced dimensionality\n",
      "2022-08-05 21:29:34,381 - BERTopic - Clustered reduced embeddings\n"
     ]
    },
    {
     "name": "stdout",
     "output_type": "stream",
     "text": [
      "Poland negative topics generated\n"
     ]
    },
    {
     "data": {
      "application/vnd.jupyter.widget-view+json": {
       "model_id": "7fe98881ad504a21b7c4d0324ec991b8",
       "version_major": 2,
       "version_minor": 0
      },
      "text/plain": [
       "Batches:   0%|          | 0/1 [00:00<?, ?it/s]"
      ]
     },
     "metadata": {},
     "output_type": "display_data"
    },
    {
     "name": "stderr",
     "output_type": "stream",
     "text": [
      "2022-08-05 21:29:34,947 - BERTopic - Transformed documents to Embeddings\n",
      "2022-08-05 21:29:36,638 - BERTopic - Reduced dimensionality\n",
      "2022-08-05 21:29:36,643 - BERTopic - Clustered reduced embeddings\n"
     ]
    },
    {
     "name": "stdout",
     "output_type": "stream",
     "text": [
      "Poland neutral topics generated\n"
     ]
    },
    {
     "data": {
      "application/vnd.jupyter.widget-view+json": {
       "model_id": "e4a61c1f79994e5bb63ef6b66354a033",
       "version_major": 2,
       "version_minor": 0
      },
      "text/plain": [
       "Batches:   0%|          | 0/6 [00:00<?, ?it/s]"
      ]
     },
     "metadata": {},
     "output_type": "display_data"
    },
    {
     "name": "stderr",
     "output_type": "stream",
     "text": [
      "2022-08-05 21:29:38,406 - BERTopic - Transformed documents to Embeddings\n",
      "2022-08-05 21:29:40,701 - BERTopic - Reduced dimensionality\n",
      "2022-08-05 21:29:40,710 - BERTopic - Clustered reduced embeddings\n"
     ]
    },
    {
     "name": "stdout",
     "output_type": "stream",
     "text": [
      "Portugal positive topics generated\n"
     ]
    },
    {
     "data": {
      "application/vnd.jupyter.widget-view+json": {
       "model_id": "714e34fee7b54968b10604dba3d76971",
       "version_major": 2,
       "version_minor": 0
      },
      "text/plain": [
       "Batches:   0%|          | 0/4 [00:00<?, ?it/s]"
      ]
     },
     "metadata": {},
     "output_type": "display_data"
    },
    {
     "name": "stderr",
     "output_type": "stream",
     "text": [
      "2022-08-05 21:29:42,088 - BERTopic - Transformed documents to Embeddings\n",
      "2022-08-05 21:29:43,874 - BERTopic - Reduced dimensionality\n",
      "2022-08-05 21:29:43,882 - BERTopic - Clustered reduced embeddings\n"
     ]
    },
    {
     "name": "stdout",
     "output_type": "stream",
     "text": [
      "Portugal negative topics generated\n"
     ]
    },
    {
     "data": {
      "application/vnd.jupyter.widget-view+json": {
       "model_id": "9d7018ad740a4abc89738f8b30123a6c",
       "version_major": 2,
       "version_minor": 0
      },
      "text/plain": [
       "Batches:   0%|          | 0/1 [00:00<?, ?it/s]"
      ]
     },
     "metadata": {},
     "output_type": "display_data"
    },
    {
     "name": "stderr",
     "output_type": "stream",
     "text": [
      "2022-08-05 21:29:44,556 - BERTopic - Transformed documents to Embeddings\n",
      "2022-08-05 21:29:46,318 - BERTopic - Reduced dimensionality\n",
      "2022-08-05 21:29:46,323 - BERTopic - Clustered reduced embeddings\n"
     ]
    },
    {
     "name": "stdout",
     "output_type": "stream",
     "text": [
      "Portugal neutral topics generated\n"
     ]
    },
    {
     "data": {
      "application/vnd.jupyter.widget-view+json": {
       "model_id": "e76ca9a26365475e8576e3cd8c131822",
       "version_major": 2,
       "version_minor": 0
      },
      "text/plain": [
       "Batches:   0%|          | 0/138 [00:00<?, ?it/s]"
      ]
     },
     "metadata": {},
     "output_type": "display_data"
    },
    {
     "name": "stderr",
     "output_type": "stream",
     "text": [
      "2022-08-05 21:30:28,058 - BERTopic - Transformed documents to Embeddings\n",
      "2022-08-05 21:30:33,142 - BERTopic - Reduced dimensionality\n",
      "2022-08-05 21:30:33,346 - BERTopic - Clustered reduced embeddings\n",
      "2022-08-05 21:30:37,651 - BERTopic - Reduced number of topics from 124 to 21\n"
     ]
    },
    {
     "name": "stdout",
     "output_type": "stream",
     "text": [
      "Qatar positive topics generated\n"
     ]
    },
    {
     "data": {
      "application/vnd.jupyter.widget-view+json": {
       "model_id": "7c43226b3c0842bb96ea643c991bdb2a",
       "version_major": 2,
       "version_minor": 0
      },
      "text/plain": [
       "Batches:   0%|          | 0/58 [00:00<?, ?it/s]"
      ]
     },
     "metadata": {},
     "output_type": "display_data"
    },
    {
     "name": "stderr",
     "output_type": "stream",
     "text": [
      "2022-08-05 21:30:59,029 - BERTopic - Transformed documents to Embeddings\n",
      "2022-08-05 21:31:04,375 - BERTopic - Reduced dimensionality\n",
      "2022-08-05 21:31:04,476 - BERTopic - Clustered reduced embeddings\n",
      "2022-08-05 21:31:06,906 - BERTopic - Reduced number of topics from 63 to 21\n"
     ]
    },
    {
     "name": "stdout",
     "output_type": "stream",
     "text": [
      "Qatar negative topics generated\n"
     ]
    },
    {
     "data": {
      "application/vnd.jupyter.widget-view+json": {
       "model_id": "0e1084019802495681eca608979dd618",
       "version_major": 2,
       "version_minor": 0
      },
      "text/plain": [
       "Batches:   0%|          | 0/12 [00:00<?, ?it/s]"
      ]
     },
     "metadata": {},
     "output_type": "display_data"
    },
    {
     "name": "stderr",
     "output_type": "stream",
     "text": [
      "2022-08-05 21:31:12,612 - BERTopic - Transformed documents to Embeddings\n",
      "2022-08-05 21:31:14,649 - BERTopic - Reduced dimensionality\n",
      "2022-08-05 21:31:14,669 - BERTopic - Clustered reduced embeddings\n"
     ]
    },
    {
     "name": "stdout",
     "output_type": "stream",
     "text": [
      "Qatar neutral topics generated\n"
     ]
    },
    {
     "data": {
      "application/vnd.jupyter.widget-view+json": {
       "model_id": "31ad35f904fd4bc3833f8c24b38f069f",
       "version_major": 2,
       "version_minor": 0
      },
      "text/plain": [
       "Batches:   0%|          | 0/4 [00:00<?, ?it/s]"
      ]
     },
     "metadata": {},
     "output_type": "display_data"
    },
    {
     "name": "stderr",
     "output_type": "stream",
     "text": [
      "2022-08-05 21:31:17,943 - BERTopic - Transformed documents to Embeddings\n",
      "2022-08-05 21:31:20,228 - BERTopic - Reduced dimensionality\n",
      "2022-08-05 21:31:20,236 - BERTopic - Clustered reduced embeddings\n"
     ]
    },
    {
     "name": "stdout",
     "output_type": "stream",
     "text": [
      "Romania positive topics generated\n"
     ]
    },
    {
     "data": {
      "application/vnd.jupyter.widget-view+json": {
       "model_id": "1af90d64e01945fba3321139287eb8c1",
       "version_major": 2,
       "version_minor": 0
      },
      "text/plain": [
       "Batches:   0%|          | 0/2 [00:00<?, ?it/s]"
      ]
     },
     "metadata": {},
     "output_type": "display_data"
    },
    {
     "name": "stderr",
     "output_type": "stream",
     "text": [
      "2022-08-05 21:31:20,986 - BERTopic - Transformed documents to Embeddings\n",
      "2022-08-05 21:31:22,755 - BERTopic - Reduced dimensionality\n",
      "2022-08-05 21:31:22,760 - BERTopic - Clustered reduced embeddings\n"
     ]
    },
    {
     "name": "stdout",
     "output_type": "stream",
     "text": [
      "Romania negative topics generated\n"
     ]
    },
    {
     "data": {
      "application/vnd.jupyter.widget-view+json": {
       "model_id": "bcb07dee77784cfd96a571198174446e",
       "version_major": 2,
       "version_minor": 0
      },
      "text/plain": [
       "Batches:   0%|          | 0/1 [00:00<?, ?it/s]"
      ]
     },
     "metadata": {},
     "output_type": "display_data"
    },
    {
     "name": "stderr",
     "output_type": "stream",
     "text": [
      "2022-08-05 21:31:23,148 - BERTopic - Transformed documents to Embeddings\n",
      "2022-08-05 21:31:24,866 - BERTopic - Reduced dimensionality\n",
      "2022-08-05 21:31:24,870 - BERTopic - Clustered reduced embeddings\n"
     ]
    },
    {
     "name": "stdout",
     "output_type": "stream",
     "text": [
      "Romania neutral topics generated\n"
     ]
    },
    {
     "data": {
      "application/vnd.jupyter.widget-view+json": {
       "model_id": "35e5ea6ec96345a7b45a5c42af13ea1c",
       "version_major": 2,
       "version_minor": 0
      },
      "text/plain": [
       "Batches:   0%|          | 0/1 [00:00<?, ?it/s]"
      ]
     },
     "metadata": {},
     "output_type": "display_data"
    },
    {
     "name": "stderr",
     "output_type": "stream",
     "text": [
      "2022-08-05 21:31:25,182 - BERTopic - Transformed documents to Embeddings\n",
      "C:\\Users\\65866\\anaconda3\\envs\\RL FX\\lib\\site-packages\\scipy\\sparse\\linalg\\eigen\\arpack\\arpack.py:1595: RuntimeWarning:\n",
      "\n",
      "k >= N for N * N square matrix. Attempting to use scipy.linalg.eigh instead.\n",
      "\n",
      "2022-08-05 21:31:25,187 - BERTopic - The dimensionality reduction algorithm did not contain the `y` parameter and therefore the `y` parameter was not used\n",
      "C:\\Users\\65866\\anaconda3\\envs\\RL FX\\lib\\site-packages\\scipy\\sparse\\linalg\\eigen\\arpack\\arpack.py:1595: RuntimeWarning:\n",
      "\n",
      "k >= N for N * N square matrix. Attempting to use scipy.linalg.eigh instead.\n",
      "\n"
     ]
    },
    {
     "name": "stdout",
     "output_type": "stream",
     "text": [
      "An exception occurred\n",
      "'HDBSCAN' object has no attribute 'labels_'\n",
      "Russia positive Dataset not big enough\n"
     ]
    },
    {
     "data": {
      "application/vnd.jupyter.widget-view+json": {
       "model_id": "ab0c9e7e16a34c968ac7576cf37ad347",
       "version_major": 2,
       "version_minor": 0
      },
      "text/plain": [
       "Batches:   0%|          | 0/1 [00:00<?, ?it/s]"
      ]
     },
     "metadata": {},
     "output_type": "display_data"
    },
    {
     "name": "stderr",
     "output_type": "stream",
     "text": [
      "2022-08-05 21:31:25,528 - BERTopic - Transformed documents to Embeddings\n",
      "2022-08-05 21:31:27,272 - BERTopic - Reduced dimensionality\n"
     ]
    },
    {
     "name": "stdout",
     "output_type": "stream",
     "text": [
      "An exception occurred\n",
      "'NoneType' object has no attribute 'get_mappings'\n",
      "Russia negative Dataset not big enough\n",
      "An exception occurred\n",
      "'HDBSCAN' object has no attribute 'labels_'\n",
      "Russia neutral Dataset not big enough\n"
     ]
    },
    {
     "data": {
      "application/vnd.jupyter.widget-view+json": {
       "model_id": "1ec8ff1a0d8f469a9598e033127df648",
       "version_major": 2,
       "version_minor": 0
      },
      "text/plain": [
       "Batches:   0%|          | 0/8 [00:00<?, ?it/s]"
      ]
     },
     "metadata": {},
     "output_type": "display_data"
    },
    {
     "name": "stderr",
     "output_type": "stream",
     "text": [
      "2022-08-05 21:31:29,845 - BERTopic - Transformed documents to Embeddings\n",
      "2022-08-05 21:31:31,792 - BERTopic - Reduced dimensionality\n",
      "2022-08-05 21:31:31,806 - BERTopic - Clustered reduced embeddings\n"
     ]
    },
    {
     "name": "stdout",
     "output_type": "stream",
     "text": [
      "Serbia positive topics generated\n"
     ]
    },
    {
     "data": {
      "application/vnd.jupyter.widget-view+json": {
       "model_id": "d40d670143744938b514a3bc57f6f15f",
       "version_major": 2,
       "version_minor": 0
      },
      "text/plain": [
       "Batches:   0%|          | 0/5 [00:00<?, ?it/s]"
      ]
     },
     "metadata": {},
     "output_type": "display_data"
    },
    {
     "name": "stderr",
     "output_type": "stream",
     "text": [
      "2022-08-05 21:31:35,978 - BERTopic - Transformed documents to Embeddings\n",
      "2022-08-05 21:31:37,824 - BERTopic - Reduced dimensionality\n",
      "2022-08-05 21:31:37,834 - BERTopic - Clustered reduced embeddings\n"
     ]
    },
    {
     "name": "stdout",
     "output_type": "stream",
     "text": [
      "Serbia negative topics generated\n"
     ]
    },
    {
     "data": {
      "application/vnd.jupyter.widget-view+json": {
       "model_id": "6f66196e71d0454a88c557528c239aa8",
       "version_major": 2,
       "version_minor": 0
      },
      "text/plain": [
       "Batches:   0%|          | 0/1 [00:00<?, ?it/s]"
      ]
     },
     "metadata": {},
     "output_type": "display_data"
    },
    {
     "name": "stderr",
     "output_type": "stream",
     "text": [
      "2022-08-05 21:31:40,204 - BERTopic - Transformed documents to Embeddings\n",
      "2022-08-05 21:31:41,933 - BERTopic - Reduced dimensionality\n",
      "2022-08-05 21:31:41,938 - BERTopic - Clustered reduced embeddings\n"
     ]
    },
    {
     "name": "stdout",
     "output_type": "stream",
     "text": [
      "Serbia neutral topics generated\n"
     ]
    },
    {
     "data": {
      "application/vnd.jupyter.widget-view+json": {
       "model_id": "ab849dc328c7429d971f85fa691e7467",
       "version_major": 2,
       "version_minor": 0
      },
      "text/plain": [
       "Batches:   0%|          | 0/239 [00:00<?, ?it/s]"
      ]
     },
     "metadata": {},
     "output_type": "display_data"
    },
    {
     "name": "stderr",
     "output_type": "stream",
     "text": [
      "2022-08-05 21:32:46,405 - BERTopic - Transformed documents to Embeddings\n",
      "2022-08-05 21:32:57,029 - BERTopic - Reduced dimensionality\n",
      "2022-08-05 21:32:57,360 - BERTopic - Clustered reduced embeddings\n",
      "2022-08-05 21:33:05,285 - BERTopic - Reduced number of topics from 226 to 21\n"
     ]
    },
    {
     "name": "stdout",
     "output_type": "stream",
     "text": [
      "Singapore positive topics generated\n"
     ]
    },
    {
     "data": {
      "application/vnd.jupyter.widget-view+json": {
       "model_id": "d720313ca64e4ac8b354dd35bd7aadb3",
       "version_major": 2,
       "version_minor": 0
      },
      "text/plain": [
       "Batches:   0%|          | 0/179 [00:00<?, ?it/s]"
      ]
     },
     "metadata": {},
     "output_type": "display_data"
    },
    {
     "name": "stderr",
     "output_type": "stream",
     "text": [
      "2022-08-05 21:33:57,110 - BERTopic - Transformed documents to Embeddings\n",
      "2022-08-05 21:34:04,847 - BERTopic - Reduced dimensionality\n",
      "2022-08-05 21:34:05,097 - BERTopic - Clustered reduced embeddings\n",
      "2022-08-05 21:34:10,914 - BERTopic - Reduced number of topics from 168 to 21\n"
     ]
    },
    {
     "name": "stdout",
     "output_type": "stream",
     "text": [
      "Singapore negative topics generated\n"
     ]
    },
    {
     "data": {
      "application/vnd.jupyter.widget-view+json": {
       "model_id": "52a1965cdae54fe6962e13d93dbc211b",
       "version_major": 2,
       "version_minor": 0
      },
      "text/plain": [
       "Batches:   0%|          | 0/34 [00:00<?, ?it/s]"
      ]
     },
     "metadata": {},
     "output_type": "display_data"
    },
    {
     "name": "stderr",
     "output_type": "stream",
     "text": [
      "2022-08-05 21:34:22,848 - BERTopic - Transformed documents to Embeddings\n",
      "2022-08-05 21:34:25,838 - BERTopic - Reduced dimensionality\n",
      "2022-08-05 21:34:25,894 - BERTopic - Clustered reduced embeddings\n",
      "2022-08-05 21:34:27,353 - BERTopic - Reduced number of topics from 36 to 21\n"
     ]
    },
    {
     "name": "stdout",
     "output_type": "stream",
     "text": [
      "Singapore neutral topics generated\n"
     ]
    },
    {
     "data": {
      "application/vnd.jupyter.widget-view+json": {
       "model_id": "9c823099390b4bf28c19ddd0d9323bf5",
       "version_major": 2,
       "version_minor": 0
      },
      "text/plain": [
       "Batches:   0%|          | 0/2 [00:00<?, ?it/s]"
      ]
     },
     "metadata": {},
     "output_type": "display_data"
    },
    {
     "name": "stderr",
     "output_type": "stream",
     "text": [
      "2022-08-05 21:34:30,575 - BERTopic - Transformed documents to Embeddings\n",
      "2022-08-05 21:34:32,304 - BERTopic - Reduced dimensionality\n",
      "2022-08-05 21:34:32,309 - BERTopic - Clustered reduced embeddings\n"
     ]
    },
    {
     "name": "stdout",
     "output_type": "stream",
     "text": [
      "Slovakia positive topics generated\n"
     ]
    },
    {
     "data": {
      "application/vnd.jupyter.widget-view+json": {
       "model_id": "e51841930ff94b8ea55c86f6d52c5d3d",
       "version_major": 2,
       "version_minor": 0
      },
      "text/plain": [
       "Batches:   0%|          | 0/1 [00:00<?, ?it/s]"
      ]
     },
     "metadata": {},
     "output_type": "display_data"
    },
    {
     "name": "stderr",
     "output_type": "stream",
     "text": [
      "2022-08-05 21:34:32,885 - BERTopic - Transformed documents to Embeddings\n",
      "2022-08-05 21:34:34,589 - BERTopic - Reduced dimensionality\n",
      "2022-08-05 21:34:34,594 - BERTopic - Clustered reduced embeddings\n"
     ]
    },
    {
     "name": "stdout",
     "output_type": "stream",
     "text": [
      "Slovakia negative topics generated\n"
     ]
    },
    {
     "data": {
      "application/vnd.jupyter.widget-view+json": {
       "model_id": "4e9488c6341c4b428849a83fab1d8902",
       "version_major": 2,
       "version_minor": 0
      },
      "text/plain": [
       "Batches:   0%|          | 0/1 [00:00<?, ?it/s]"
      ]
     },
     "metadata": {},
     "output_type": "display_data"
    },
    {
     "name": "stderr",
     "output_type": "stream",
     "text": [
      "2022-08-05 21:34:34,946 - BERTopic - Transformed documents to Embeddings\n",
      "2022-08-05 21:34:36,634 - BERTopic - Reduced dimensionality\n"
     ]
    },
    {
     "name": "stdout",
     "output_type": "stream",
     "text": [
      "An exception occurred\n",
      "'NoneType' object has no attribute 'get_mappings'\n",
      "Slovakia neutral Dataset not big enough\n"
     ]
    },
    {
     "data": {
      "application/vnd.jupyter.widget-view+json": {
       "model_id": "23d1cb09469347f4a984edb934ec6483",
       "version_major": 2,
       "version_minor": 0
      },
      "text/plain": [
       "Batches:   0%|          | 0/3 [00:00<?, ?it/s]"
      ]
     },
     "metadata": {},
     "output_type": "display_data"
    },
    {
     "name": "stderr",
     "output_type": "stream",
     "text": [
      "2022-08-05 21:34:37,556 - BERTopic - Transformed documents to Embeddings\n",
      "2022-08-05 21:34:39,285 - BERTopic - Reduced dimensionality\n",
      "2022-08-05 21:34:39,292 - BERTopic - Clustered reduced embeddings\n"
     ]
    },
    {
     "name": "stdout",
     "output_type": "stream",
     "text": [
      "Slovenia positive topics generated\n"
     ]
    },
    {
     "data": {
      "application/vnd.jupyter.widget-view+json": {
       "model_id": "61cca0a12c59483091181e220b6844f5",
       "version_major": 2,
       "version_minor": 0
      },
      "text/plain": [
       "Batches:   0%|          | 0/1 [00:00<?, ?it/s]"
      ]
     },
     "metadata": {},
     "output_type": "display_data"
    },
    {
     "name": "stderr",
     "output_type": "stream",
     "text": [
      "2022-08-05 21:34:39,939 - BERTopic - Transformed documents to Embeddings\n",
      "2022-08-05 21:34:42,174 - BERTopic - Reduced dimensionality\n",
      "2022-08-05 21:34:42,180 - BERTopic - Clustered reduced embeddings\n"
     ]
    },
    {
     "name": "stdout",
     "output_type": "stream",
     "text": [
      "Slovenia negative topics generated\n"
     ]
    },
    {
     "data": {
      "application/vnd.jupyter.widget-view+json": {
       "model_id": "2d96bcd113324b8e901150ecdc97d812",
       "version_major": 2,
       "version_minor": 0
      },
      "text/plain": [
       "Batches:   0%|          | 0/1 [00:00<?, ?it/s]"
      ]
     },
     "metadata": {},
     "output_type": "display_data"
    },
    {
     "name": "stderr",
     "output_type": "stream",
     "text": [
      "2022-08-05 21:34:42,533 - BERTopic - Transformed documents to Embeddings\n",
      "2022-08-05 21:34:44,263 - BERTopic - Reduced dimensionality\n"
     ]
    },
    {
     "name": "stdout",
     "output_type": "stream",
     "text": [
      "An exception occurred\n",
      "'NoneType' object has no attribute 'get_mappings'\n",
      "Slovenia neutral Dataset not big enough\n"
     ]
    },
    {
     "data": {
      "application/vnd.jupyter.widget-view+json": {
       "model_id": "80ffc292ee0d4af599e6e5e244f344d9",
       "version_major": 2,
       "version_minor": 0
      },
      "text/plain": [
       "Batches:   0%|          | 0/354 [00:00<?, ?it/s]"
      ]
     },
     "metadata": {},
     "output_type": "display_data"
    },
    {
     "name": "stderr",
     "output_type": "stream",
     "text": [
      "2022-08-05 21:36:20,163 - BERTopic - Transformed documents to Embeddings\n",
      "2022-08-05 21:36:25,508 - BERTopic - Reduced dimensionality\n",
      "2022-08-05 21:36:26,075 - BERTopic - Clustered reduced embeddings\n",
      "2022-08-05 21:36:35,202 - BERTopic - Reduced number of topics from 248 to 21\n"
     ]
    },
    {
     "name": "stdout",
     "output_type": "stream",
     "text": [
      "South Africa positive topics generated\n"
     ]
    },
    {
     "data": {
      "application/vnd.jupyter.widget-view+json": {
       "model_id": "f44320e9e3534987b0eee3325d5ace03",
       "version_major": 2,
       "version_minor": 0
      },
      "text/plain": [
       "Batches:   0%|          | 0/247 [00:00<?, ?it/s]"
      ]
     },
     "metadata": {},
     "output_type": "display_data"
    },
    {
     "name": "stderr",
     "output_type": "stream",
     "text": [
      "2022-08-05 21:37:52,677 - BERTopic - Transformed documents to Embeddings\n",
      "2022-08-05 21:38:00,098 - BERTopic - Reduced dimensionality\n",
      "2022-08-05 21:38:00,456 - BERTopic - Clustered reduced embeddings\n",
      "2022-08-05 21:38:07,835 - BERTopic - Reduced number of topics from 193 to 21\n"
     ]
    },
    {
     "name": "stdout",
     "output_type": "stream",
     "text": [
      "South Africa negative topics generated\n"
     ]
    },
    {
     "data": {
      "application/vnd.jupyter.widget-view+json": {
       "model_id": "4296dabfe041430d84809580a4039cc0",
       "version_major": 2,
       "version_minor": 0
      },
      "text/plain": [
       "Batches:   0%|          | 0/60 [00:00<?, ?it/s]"
      ]
     },
     "metadata": {},
     "output_type": "display_data"
    },
    {
     "name": "stderr",
     "output_type": "stream",
     "text": [
      "2022-08-05 21:38:26,351 - BERTopic - Transformed documents to Embeddings\n",
      "2022-08-05 21:38:31,180 - BERTopic - Reduced dimensionality\n",
      "2022-08-05 21:38:31,274 - BERTopic - Clustered reduced embeddings\n",
      "2022-08-05 21:38:33,449 - BERTopic - Reduced number of topics from 50 to 21\n"
     ]
    },
    {
     "name": "stdout",
     "output_type": "stream",
     "text": [
      "South Africa neutral topics generated\n"
     ]
    },
    {
     "data": {
      "application/vnd.jupyter.widget-view+json": {
       "model_id": "2ebca10edff1459abe605a2f338facf6",
       "version_major": 2,
       "version_minor": 0
      },
      "text/plain": [
       "Batches:   0%|          | 0/7 [00:00<?, ?it/s]"
      ]
     },
     "metadata": {},
     "output_type": "display_data"
    },
    {
     "name": "stderr",
     "output_type": "stream",
     "text": [
      "2022-08-05 21:38:37,743 - BERTopic - Transformed documents to Embeddings\n",
      "2022-08-05 21:38:39,563 - BERTopic - Reduced dimensionality\n",
      "2022-08-05 21:38:39,574 - BERTopic - Clustered reduced embeddings\n"
     ]
    },
    {
     "name": "stdout",
     "output_type": "stream",
     "text": [
      "South Korea positive topics generated\n"
     ]
    },
    {
     "data": {
      "application/vnd.jupyter.widget-view+json": {
       "model_id": "5aa2728bd8ce4820b437183600d193d5",
       "version_major": 2,
       "version_minor": 0
      },
      "text/plain": [
       "Batches:   0%|          | 0/5 [00:00<?, ?it/s]"
      ]
     },
     "metadata": {},
     "output_type": "display_data"
    },
    {
     "name": "stderr",
     "output_type": "stream",
     "text": [
      "2022-08-05 21:38:41,029 - BERTopic - Transformed documents to Embeddings\n",
      "2022-08-05 21:38:43,342 - BERTopic - Reduced dimensionality\n",
      "2022-08-05 21:38:43,351 - BERTopic - Clustered reduced embeddings\n"
     ]
    },
    {
     "name": "stdout",
     "output_type": "stream",
     "text": [
      "South Korea negative topics generated\n"
     ]
    },
    {
     "data": {
      "application/vnd.jupyter.widget-view+json": {
       "model_id": "aa55328933c746669e18aa92d71e71dc",
       "version_major": 2,
       "version_minor": 0
      },
      "text/plain": [
       "Batches:   0%|          | 0/2 [00:00<?, ?it/s]"
      ]
     },
     "metadata": {},
     "output_type": "display_data"
    },
    {
     "name": "stderr",
     "output_type": "stream",
     "text": [
      "2022-08-05 21:38:44,158 - BERTopic - Transformed documents to Embeddings\n",
      "2022-08-05 21:38:45,888 - BERTopic - Reduced dimensionality\n",
      "2022-08-05 21:38:45,893 - BERTopic - Clustered reduced embeddings\n"
     ]
    },
    {
     "name": "stdout",
     "output_type": "stream",
     "text": [
      "South Korea neutral topics generated\n"
     ]
    },
    {
     "data": {
      "application/vnd.jupyter.widget-view+json": {
       "model_id": "6e50368d8cfa4589bfa7093e1ad79a5d",
       "version_major": 2,
       "version_minor": 0
      },
      "text/plain": [
       "Batches:   0%|          | 0/22 [00:00<?, ?it/s]"
      ]
     },
     "metadata": {},
     "output_type": "display_data"
    },
    {
     "name": "stderr",
     "output_type": "stream",
     "text": [
      "2022-08-05 21:38:52,045 - BERTopic - Transformed documents to Embeddings\n",
      "2022-08-05 21:38:54,340 - BERTopic - Reduced dimensionality\n",
      "2022-08-05 21:38:54,371 - BERTopic - Clustered reduced embeddings\n"
     ]
    },
    {
     "name": "stdout",
     "output_type": "stream",
     "text": [
      "Spain positive topics generated\n"
     ]
    },
    {
     "data": {
      "application/vnd.jupyter.widget-view+json": {
       "model_id": "085405969d9d47e5b4fedd31200d0ef0",
       "version_major": 2,
       "version_minor": 0
      },
      "text/plain": [
       "Batches:   0%|          | 0/16 [00:00<?, ?it/s]"
      ]
     },
     "metadata": {},
     "output_type": "display_data"
    },
    {
     "name": "stderr",
     "output_type": "stream",
     "text": [
      "2022-08-05 21:39:02,065 - BERTopic - Transformed documents to Embeddings\n",
      "2022-08-05 21:39:04,333 - BERTopic - Reduced dimensionality\n",
      "2022-08-05 21:39:04,358 - BERTopic - Clustered reduced embeddings\n"
     ]
    },
    {
     "name": "stdout",
     "output_type": "stream",
     "text": [
      "Spain negative topics generated\n"
     ]
    },
    {
     "data": {
      "application/vnd.jupyter.widget-view+json": {
       "model_id": "f485d0de2e4344eea6d20d1c3446e1aa",
       "version_major": 2,
       "version_minor": 0
      },
      "text/plain": [
       "Batches:   0%|          | 0/4 [00:00<?, ?it/s]"
      ]
     },
     "metadata": {},
     "output_type": "display_data"
    },
    {
     "name": "stderr",
     "output_type": "stream",
     "text": [
      "2022-08-05 21:39:08,674 - BERTopic - Transformed documents to Embeddings\n",
      "2022-08-05 21:39:10,439 - BERTopic - Reduced dimensionality\n",
      "2022-08-05 21:39:10,447 - BERTopic - Clustered reduced embeddings\n"
     ]
    },
    {
     "name": "stdout",
     "output_type": "stream",
     "text": [
      "Spain neutral topics generated\n"
     ]
    },
    {
     "data": {
      "application/vnd.jupyter.widget-view+json": {
       "model_id": "d945efe7297743d1b8d173e3d645947a",
       "version_major": 2,
       "version_minor": 0
      },
      "text/plain": [
       "Batches:   0%|          | 0/2 [00:00<?, ?it/s]"
      ]
     },
     "metadata": {},
     "output_type": "display_data"
    },
    {
     "name": "stderr",
     "output_type": "stream",
     "text": [
      "2022-08-05 21:39:11,379 - BERTopic - Transformed documents to Embeddings\n",
      "2022-08-05 21:39:13,103 - BERTopic - Reduced dimensionality\n",
      "2022-08-05 21:39:13,109 - BERTopic - Clustered reduced embeddings\n"
     ]
    },
    {
     "name": "stdout",
     "output_type": "stream",
     "text": [
      "Suriname positive topics generated\n"
     ]
    },
    {
     "data": {
      "application/vnd.jupyter.widget-view+json": {
       "model_id": "b54ebd4eb19946f9ab8d664d1117e4c6",
       "version_major": 2,
       "version_minor": 0
      },
      "text/plain": [
       "Batches:   0%|          | 0/1 [00:00<?, ?it/s]"
      ]
     },
     "metadata": {},
     "output_type": "display_data"
    },
    {
     "name": "stderr",
     "output_type": "stream",
     "text": [
      "2022-08-05 21:39:13,615 - BERTopic - Transformed documents to Embeddings\n",
      "2022-08-05 21:39:15,318 - BERTopic - Reduced dimensionality\n",
      "2022-08-05 21:39:15,323 - BERTopic - Clustered reduced embeddings\n"
     ]
    },
    {
     "name": "stdout",
     "output_type": "stream",
     "text": [
      "Suriname negative topics generated\n"
     ]
    },
    {
     "data": {
      "application/vnd.jupyter.widget-view+json": {
       "model_id": "44b675538c56496cb925f180744b17a6",
       "version_major": 2,
       "version_minor": 0
      },
      "text/plain": [
       "Batches:   0%|          | 0/1 [00:00<?, ?it/s]"
      ]
     },
     "metadata": {},
     "output_type": "display_data"
    },
    {
     "name": "stderr",
     "output_type": "stream",
     "text": [
      "2022-08-05 21:39:15,649 - BERTopic - Transformed documents to Embeddings\n",
      "C:\\Users\\65866\\anaconda3\\envs\\RL FX\\lib\\site-packages\\scipy\\sparse\\linalg\\eigen\\arpack\\arpack.py:1595: RuntimeWarning:\n",
      "\n",
      "k >= N for N * N square matrix. Attempting to use scipy.linalg.eigh instead.\n",
      "\n",
      "2022-08-05 21:39:15,653 - BERTopic - The dimensionality reduction algorithm did not contain the `y` parameter and therefore the `y` parameter was not used\n",
      "C:\\Users\\65866\\anaconda3\\envs\\RL FX\\lib\\site-packages\\scipy\\sparse\\linalg\\eigen\\arpack\\arpack.py:1595: RuntimeWarning:\n",
      "\n",
      "k >= N for N * N square matrix. Attempting to use scipy.linalg.eigh instead.\n",
      "\n"
     ]
    },
    {
     "name": "stdout",
     "output_type": "stream",
     "text": [
      "An exception occurred\n",
      "'HDBSCAN' object has no attribute 'labels_'\n",
      "Suriname neutral Dataset not big enough\n"
     ]
    },
    {
     "data": {
      "application/vnd.jupyter.widget-view+json": {
       "model_id": "5fb60fc4d6c34a69a0b0815bc357c0c7",
       "version_major": 2,
       "version_minor": 0
      },
      "text/plain": [
       "Batches:   0%|          | 0/12 [00:00<?, ?it/s]"
      ]
     },
     "metadata": {},
     "output_type": "display_data"
    },
    {
     "name": "stderr",
     "output_type": "stream",
     "text": [
      "2022-08-05 21:39:18,904 - BERTopic - Transformed documents to Embeddings\n",
      "2022-08-05 21:39:21,030 - BERTopic - Reduced dimensionality\n",
      "2022-08-05 21:39:21,046 - BERTopic - Clustered reduced embeddings\n"
     ]
    },
    {
     "name": "stdout",
     "output_type": "stream",
     "text": [
      "Sweden positive topics generated\n"
     ]
    },
    {
     "data": {
      "application/vnd.jupyter.widget-view+json": {
       "model_id": "fcf8042eff4a4b9f988560a832feb343",
       "version_major": 2,
       "version_minor": 0
      },
      "text/plain": [
       "Batches:   0%|          | 0/11 [00:00<?, ?it/s]"
      ]
     },
     "metadata": {},
     "output_type": "display_data"
    },
    {
     "name": "stderr",
     "output_type": "stream",
     "text": [
      "2022-08-05 21:39:26,697 - BERTopic - Transformed documents to Embeddings\n",
      "2022-08-05 21:39:28,613 - BERTopic - Reduced dimensionality\n",
      "2022-08-05 21:39:28,630 - BERTopic - Clustered reduced embeddings\n"
     ]
    },
    {
     "name": "stdout",
     "output_type": "stream",
     "text": [
      "Sweden negative topics generated\n"
     ]
    },
    {
     "data": {
      "application/vnd.jupyter.widget-view+json": {
       "model_id": "4642ad9124224c3faa1e792543c00085",
       "version_major": 2,
       "version_minor": 0
      },
      "text/plain": [
       "Batches:   0%|          | 0/3 [00:00<?, ?it/s]"
      ]
     },
     "metadata": {},
     "output_type": "display_data"
    },
    {
     "name": "stderr",
     "output_type": "stream",
     "text": [
      "2022-08-05 21:39:31,535 - BERTopic - Transformed documents to Embeddings\n",
      "2022-08-05 21:39:33,255 - BERTopic - Reduced dimensionality\n",
      "2022-08-05 21:39:33,261 - BERTopic - Clustered reduced embeddings\n"
     ]
    },
    {
     "name": "stdout",
     "output_type": "stream",
     "text": [
      "Sweden neutral topics generated\n"
     ]
    },
    {
     "data": {
      "application/vnd.jupyter.widget-view+json": {
       "model_id": "e4816bfdce88421899bb8b50c48336ef",
       "version_major": 2,
       "version_minor": 0
      },
      "text/plain": [
       "Batches:   0%|          | 0/26 [00:00<?, ?it/s]"
      ]
     },
     "metadata": {},
     "output_type": "display_data"
    },
    {
     "name": "stderr",
     "output_type": "stream",
     "text": [
      "2022-08-05 21:39:40,305 - BERTopic - Transformed documents to Embeddings\n",
      "2022-08-05 21:39:42,801 - BERTopic - Reduced dimensionality\n",
      "2022-08-05 21:39:42,838 - BERTopic - Clustered reduced embeddings\n"
     ]
    },
    {
     "name": "stdout",
     "output_type": "stream",
     "text": [
      "Switzerland positive topics generated\n"
     ]
    },
    {
     "data": {
      "application/vnd.jupyter.widget-view+json": {
       "model_id": "f12bd76dc3314945b92561a98ed75f7a",
       "version_major": 2,
       "version_minor": 0
      },
      "text/plain": [
       "Batches:   0%|          | 0/14 [00:00<?, ?it/s]"
      ]
     },
     "metadata": {},
     "output_type": "display_data"
    },
    {
     "name": "stderr",
     "output_type": "stream",
     "text": [
      "2022-08-05 21:39:49,354 - BERTopic - Transformed documents to Embeddings\n",
      "2022-08-05 21:39:51,387 - BERTopic - Reduced dimensionality\n",
      "2022-08-05 21:39:51,405 - BERTopic - Clustered reduced embeddings\n"
     ]
    },
    {
     "name": "stdout",
     "output_type": "stream",
     "text": [
      "Switzerland negative topics generated\n"
     ]
    },
    {
     "data": {
      "application/vnd.jupyter.widget-view+json": {
       "model_id": "5a1e05dc649e4fafad330011c2bf4e54",
       "version_major": 2,
       "version_minor": 0
      },
      "text/plain": [
       "Batches:   0%|          | 0/4 [00:00<?, ?it/s]"
      ]
     },
     "metadata": {},
     "output_type": "display_data"
    },
    {
     "name": "stderr",
     "output_type": "stream",
     "text": [
      "2022-08-05 21:39:52,765 - BERTopic - Transformed documents to Embeddings\n",
      "2022-08-05 21:39:54,621 - BERTopic - Reduced dimensionality\n",
      "2022-08-05 21:39:54,629 - BERTopic - Clustered reduced embeddings\n"
     ]
    },
    {
     "name": "stdout",
     "output_type": "stream",
     "text": [
      "Switzerland neutral topics generated\n"
     ]
    },
    {
     "data": {
      "application/vnd.jupyter.widget-view+json": {
       "model_id": "832ad8cc451d4caeb9ab2f885993d518",
       "version_major": 2,
       "version_minor": 0
      },
      "text/plain": [
       "Batches:   0%|          | 0/16 [00:00<?, ?it/s]"
      ]
     },
     "metadata": {},
     "output_type": "display_data"
    },
    {
     "name": "stderr",
     "output_type": "stream",
     "text": [
      "2022-08-05 21:39:59,288 - BERTopic - Transformed documents to Embeddings\n",
      "2022-08-05 21:40:01,653 - BERTopic - Reduced dimensionality\n",
      "2022-08-05 21:40:01,677 - BERTopic - Clustered reduced embeddings\n"
     ]
    },
    {
     "name": "stdout",
     "output_type": "stream",
     "text": [
      "Taiwan positive topics generated\n"
     ]
    },
    {
     "data": {
      "application/vnd.jupyter.widget-view+json": {
       "model_id": "ef7598ae5705440197a3ff0648b4eb52",
       "version_major": 2,
       "version_minor": 0
      },
      "text/plain": [
       "Batches:   0%|          | 0/15 [00:00<?, ?it/s]"
      ]
     },
     "metadata": {},
     "output_type": "display_data"
    },
    {
     "name": "stderr",
     "output_type": "stream",
     "text": [
      "2022-08-05 21:40:07,583 - BERTopic - Transformed documents to Embeddings\n",
      "2022-08-05 21:40:10,401 - BERTopic - Reduced dimensionality\n",
      "2022-08-05 21:40:10,421 - BERTopic - Clustered reduced embeddings\n"
     ]
    },
    {
     "name": "stdout",
     "output_type": "stream",
     "text": [
      "Taiwan negative topics generated\n"
     ]
    },
    {
     "data": {
      "application/vnd.jupyter.widget-view+json": {
       "model_id": "a9d2b4009c414706af65a8c62edf59d6",
       "version_major": 2,
       "version_minor": 0
      },
      "text/plain": [
       "Batches:   0%|          | 0/3 [00:00<?, ?it/s]"
      ]
     },
     "metadata": {},
     "output_type": "display_data"
    },
    {
     "name": "stderr",
     "output_type": "stream",
     "text": [
      "2022-08-05 21:40:13,452 - BERTopic - Transformed documents to Embeddings\n",
      "2022-08-05 21:40:15,166 - BERTopic - Reduced dimensionality\n",
      "2022-08-05 21:40:15,174 - BERTopic - Clustered reduced embeddings\n"
     ]
    },
    {
     "name": "stdout",
     "output_type": "stream",
     "text": [
      "Taiwan neutral topics generated\n"
     ]
    },
    {
     "data": {
      "application/vnd.jupyter.widget-view+json": {
       "model_id": "2a67d005c2bf4ee8a0c2d2455594f3e4",
       "version_major": 2,
       "version_minor": 0
      },
      "text/plain": [
       "Batches:   0%|          | 0/43 [00:00<?, ?it/s]"
      ]
     },
     "metadata": {},
     "output_type": "display_data"
    },
    {
     "name": "stderr",
     "output_type": "stream",
     "text": [
      "2022-08-05 21:40:27,805 - BERTopic - Transformed documents to Embeddings\n",
      "2022-08-05 21:40:31,769 - BERTopic - Reduced dimensionality\n",
      "2022-08-05 21:40:31,837 - BERTopic - Clustered reduced embeddings\n",
      "2022-08-05 21:40:33,452 - BERTopic - Reduced number of topics from 46 to 21\n"
     ]
    },
    {
     "name": "stdout",
     "output_type": "stream",
     "text": [
      "Thailand positive topics generated\n"
     ]
    },
    {
     "data": {
      "application/vnd.jupyter.widget-view+json": {
       "model_id": "eb0d4158accf43369aa341c6e4d7c74d",
       "version_major": 2,
       "version_minor": 0
      },
      "text/plain": [
       "Batches:   0%|          | 0/44 [00:00<?, ?it/s]"
      ]
     },
     "metadata": {},
     "output_type": "display_data"
    },
    {
     "name": "stderr",
     "output_type": "stream",
     "text": [
      "2022-08-05 21:40:49,996 - BERTopic - Transformed documents to Embeddings\n",
      "2022-08-05 21:40:54,505 - BERTopic - Reduced dimensionality\n",
      "2022-08-05 21:40:54,571 - BERTopic - Clustered reduced embeddings\n",
      "2022-08-05 21:40:56,251 - BERTopic - Reduced number of topics from 39 to 21\n"
     ]
    },
    {
     "name": "stdout",
     "output_type": "stream",
     "text": [
      "Thailand negative topics generated\n"
     ]
    },
    {
     "data": {
      "application/vnd.jupyter.widget-view+json": {
       "model_id": "3d756526027a4807a53b3c7c0845729e",
       "version_major": 2,
       "version_minor": 0
      },
      "text/plain": [
       "Batches:   0%|          | 0/7 [00:00<?, ?it/s]"
      ]
     },
     "metadata": {},
     "output_type": "display_data"
    },
    {
     "name": "stderr",
     "output_type": "stream",
     "text": [
      "2022-08-05 21:41:00,259 - BERTopic - Transformed documents to Embeddings\n",
      "2022-08-05 21:41:02,055 - BERTopic - Reduced dimensionality\n",
      "2022-08-05 21:41:02,066 - BERTopic - Clustered reduced embeddings\n"
     ]
    },
    {
     "name": "stdout",
     "output_type": "stream",
     "text": [
      "Thailand neutral topics generated\n"
     ]
    },
    {
     "data": {
      "application/vnd.jupyter.widget-view+json": {
       "model_id": "30577bf39df848f29ca4df0d84693191",
       "version_major": 2,
       "version_minor": 0
      },
      "text/plain": [
       "Batches:   0%|          | 0/31 [00:00<?, ?it/s]"
      ]
     },
     "metadata": {},
     "output_type": "display_data"
    },
    {
     "name": "stderr",
     "output_type": "stream",
     "text": [
      "2022-08-05 21:41:11,772 - BERTopic - Transformed documents to Embeddings\n",
      "2022-08-05 21:41:14,766 - BERTopic - Reduced dimensionality\n",
      "2022-08-05 21:41:14,813 - BERTopic - Clustered reduced embeddings\n",
      "2022-08-05 21:41:16,071 - BERTopic - Reduced number of topics from 27 to 21\n"
     ]
    },
    {
     "name": "stdout",
     "output_type": "stream",
     "text": [
      "Trinidad and Tobago positive topics generated\n"
     ]
    },
    {
     "data": {
      "application/vnd.jupyter.widget-view+json": {
       "model_id": "8f8e622f49e0479c96630a5fc29df0c1",
       "version_major": 2,
       "version_minor": 0
      },
      "text/plain": [
       "Batches:   0%|          | 0/25 [00:00<?, ?it/s]"
      ]
     },
     "metadata": {},
     "output_type": "display_data"
    },
    {
     "name": "stderr",
     "output_type": "stream",
     "text": [
      "2022-08-05 21:41:25,278 - BERTopic - Transformed documents to Embeddings\n",
      "2022-08-05 21:41:27,853 - BERTopic - Reduced dimensionality\n",
      "2022-08-05 21:41:27,889 - BERTopic - Clustered reduced embeddings\n",
      "2022-08-05 21:41:28,903 - BERTopic - Reduced number of topics from 22 to 21\n"
     ]
    },
    {
     "name": "stdout",
     "output_type": "stream",
     "text": [
      "Trinidad and Tobago negative topics generated\n"
     ]
    },
    {
     "data": {
      "application/vnd.jupyter.widget-view+json": {
       "model_id": "7c466f0a27d04f4da58afa0a3e027600",
       "version_major": 2,
       "version_minor": 0
      },
      "text/plain": [
       "Batches:   0%|          | 0/5 [00:00<?, ?it/s]"
      ]
     },
     "metadata": {},
     "output_type": "display_data"
    },
    {
     "name": "stderr",
     "output_type": "stream",
     "text": [
      "2022-08-05 21:41:32,321 - BERTopic - Transformed documents to Embeddings\n",
      "2022-08-05 21:41:34,088 - BERTopic - Reduced dimensionality\n",
      "2022-08-05 21:41:34,099 - BERTopic - Clustered reduced embeddings\n"
     ]
    },
    {
     "name": "stdout",
     "output_type": "stream",
     "text": [
      "Trinidad and Tobago neutral topics generated\n"
     ]
    },
    {
     "data": {
      "application/vnd.jupyter.widget-view+json": {
       "model_id": "b4cfcccc59e74a5aa10034a7ca9ab545",
       "version_major": 2,
       "version_minor": 0
      },
      "text/plain": [
       "Batches:   0%|          | 0/2 [00:00<?, ?it/s]"
      ]
     },
     "metadata": {},
     "output_type": "display_data"
    },
    {
     "name": "stderr",
     "output_type": "stream",
     "text": [
      "2022-08-05 21:41:36,748 - BERTopic - Transformed documents to Embeddings\n",
      "2022-08-05 21:41:38,470 - BERTopic - Reduced dimensionality\n",
      "2022-08-05 21:41:38,475 - BERTopic - Clustered reduced embeddings\n"
     ]
    },
    {
     "name": "stdout",
     "output_type": "stream",
     "text": [
      "Turkey positive topics generated\n"
     ]
    },
    {
     "data": {
      "application/vnd.jupyter.widget-view+json": {
       "model_id": "948058d1487a4f86a06b85ec0cc62abe",
       "version_major": 2,
       "version_minor": 0
      },
      "text/plain": [
       "Batches:   0%|          | 0/1 [00:00<?, ?it/s]"
      ]
     },
     "metadata": {},
     "output_type": "display_data"
    },
    {
     "name": "stderr",
     "output_type": "stream",
     "text": [
      "2022-08-05 21:41:38,963 - BERTopic - Transformed documents to Embeddings\n",
      "2022-08-05 21:41:41,175 - BERTopic - Reduced dimensionality\n",
      "2022-08-05 21:41:41,180 - BERTopic - Clustered reduced embeddings\n"
     ]
    },
    {
     "name": "stdout",
     "output_type": "stream",
     "text": [
      "Turkey negative topics generated\n"
     ]
    },
    {
     "data": {
      "application/vnd.jupyter.widget-view+json": {
       "model_id": "4aff3d0a7c4344078ce8dca219248754",
       "version_major": 2,
       "version_minor": 0
      },
      "text/plain": [
       "Batches:   0%|          | 0/1 [00:00<?, ?it/s]"
      ]
     },
     "metadata": {},
     "output_type": "display_data"
    },
    {
     "name": "stderr",
     "output_type": "stream",
     "text": [
      "2022-08-05 21:41:41,542 - BERTopic - Transformed documents to Embeddings\n",
      "2022-08-05 21:41:43,243 - BERTopic - Reduced dimensionality\n"
     ]
    },
    {
     "name": "stdout",
     "output_type": "stream",
     "text": [
      "An exception occurred\n",
      "'NoneType' object has no attribute 'get_mappings'\n",
      "Turkey neutral Dataset not big enough\n"
     ]
    },
    {
     "data": {
      "application/vnd.jupyter.widget-view+json": {
       "model_id": "4458ddcf8aea4ce29342ff3311afa105",
       "version_major": 2,
       "version_minor": 0
      },
      "text/plain": [
       "Batches:   0%|          | 0/1 [00:00<?, ?it/s]"
      ]
     },
     "metadata": {},
     "output_type": "display_data"
    },
    {
     "name": "stderr",
     "output_type": "stream",
     "text": [
      "2022-08-05 21:41:43,697 - BERTopic - Transformed documents to Embeddings\n",
      "2022-08-05 21:41:45,383 - BERTopic - Reduced dimensionality\n",
      "2022-08-05 21:41:45,388 - BERTopic - Clustered reduced embeddings\n"
     ]
    },
    {
     "name": "stdout",
     "output_type": "stream",
     "text": [
      "Uruguay positive topics generated\n"
     ]
    },
    {
     "data": {
      "application/vnd.jupyter.widget-view+json": {
       "model_id": "607294f4aaa1438891e80b22cbec00bd",
       "version_major": 2,
       "version_minor": 0
      },
      "text/plain": [
       "Batches:   0%|          | 0/1 [00:00<?, ?it/s]"
      ]
     },
     "metadata": {},
     "output_type": "display_data"
    },
    {
     "name": "stderr",
     "output_type": "stream",
     "text": [
      "2022-08-05 21:41:45,902 - BERTopic - Transformed documents to Embeddings\n",
      "2022-08-05 21:41:47,777 - BERTopic - Reduced dimensionality\n",
      "2022-08-05 21:41:47,783 - BERTopic - Clustered reduced embeddings\n"
     ]
    },
    {
     "name": "stdout",
     "output_type": "stream",
     "text": [
      "Uruguay negative topics generated\n"
     ]
    },
    {
     "data": {
      "application/vnd.jupyter.widget-view+json": {
       "model_id": "2d8a36ea55e648339ba94d86c84c2a6b",
       "version_major": 2,
       "version_minor": 0
      },
      "text/plain": [
       "Batches:   0%|          | 0/1 [00:00<?, ?it/s]"
      ]
     },
     "metadata": {},
     "output_type": "display_data"
    },
    {
     "name": "stderr",
     "output_type": "stream",
     "text": [
      "2022-08-05 21:41:48,215 - BERTopic - Transformed documents to Embeddings\n",
      "2022-08-05 21:41:49,927 - BERTopic - Reduced dimensionality\n",
      "2022-08-05 21:41:49,932 - BERTopic - Clustered reduced embeddings\n"
     ]
    },
    {
     "name": "stdout",
     "output_type": "stream",
     "text": [
      "Uruguay neutral topics generated\n"
     ]
    },
    {
     "data": {
      "application/vnd.jupyter.widget-view+json": {
       "model_id": "693fe0c16fcf4f409ea35c0fac989775",
       "version_major": 2,
       "version_minor": 0
      },
      "text/plain": [
       "Batches:   0%|          | 0/10 [00:00<?, ?it/s]"
      ]
     },
     "metadata": {},
     "output_type": "display_data"
    },
    {
     "name": "stderr",
     "output_type": "stream",
     "text": [
      "2022-08-05 21:41:53,001 - BERTopic - Transformed documents to Embeddings\n",
      "2022-08-05 21:41:55,502 - BERTopic - Reduced dimensionality\n",
      "2022-08-05 21:41:55,517 - BERTopic - Clustered reduced embeddings\n"
     ]
    },
    {
     "name": "stdout",
     "output_type": "stream",
     "text": [
      "Venezuela positive topics generated\n"
     ]
    },
    {
     "data": {
      "application/vnd.jupyter.widget-view+json": {
       "model_id": "d1860cfc7580467683263845893f79d2",
       "version_major": 2,
       "version_minor": 0
      },
      "text/plain": [
       "Batches:   0%|          | 0/7 [00:00<?, ?it/s]"
      ]
     },
     "metadata": {},
     "output_type": "display_data"
    },
    {
     "name": "stderr",
     "output_type": "stream",
     "text": [
      "2022-08-05 21:42:00,059 - BERTopic - Transformed documents to Embeddings\n",
      "2022-08-05 21:42:01,869 - BERTopic - Reduced dimensionality\n",
      "2022-08-05 21:42:01,880 - BERTopic - Clustered reduced embeddings\n"
     ]
    },
    {
     "name": "stdout",
     "output_type": "stream",
     "text": [
      "Venezuela negative topics generated\n"
     ]
    },
    {
     "data": {
      "application/vnd.jupyter.widget-view+json": {
       "model_id": "ab99adc4315945719379b1f2e693b6ee",
       "version_major": 2,
       "version_minor": 0
      },
      "text/plain": [
       "Batches:   0%|          | 0/2 [00:00<?, ?it/s]"
      ]
     },
     "metadata": {},
     "output_type": "display_data"
    },
    {
     "name": "stderr",
     "output_type": "stream",
     "text": [
      "2022-08-05 21:42:04,409 - BERTopic - Transformed documents to Embeddings\n",
      "2022-08-05 21:42:06,104 - BERTopic - Reduced dimensionality\n",
      "2022-08-05 21:42:06,109 - BERTopic - Clustered reduced embeddings\n"
     ]
    },
    {
     "name": "stdout",
     "output_type": "stream",
     "text": [
      "Venezuela neutral topics generated\n"
     ]
    },
    {
     "data": {
      "application/vnd.jupyter.widget-view+json": {
       "model_id": "91fb623ac0d846309b7a5fd10c0c3761",
       "version_major": 2,
       "version_minor": 0
      },
      "text/plain": [
       "Batches:   0%|          | 0/10 [00:00<?, ?it/s]"
      ]
     },
     "metadata": {},
     "output_type": "display_data"
    },
    {
     "name": "stderr",
     "output_type": "stream",
     "text": [
      "2022-08-05 21:42:09,233 - BERTopic - Transformed documents to Embeddings\n",
      "2022-08-05 21:42:11,632 - BERTopic - Reduced dimensionality\n",
      "2022-08-05 21:42:11,649 - BERTopic - Clustered reduced embeddings\n"
     ]
    },
    {
     "name": "stdout",
     "output_type": "stream",
     "text": [
      "Vietnam positive topics generated\n"
     ]
    },
    {
     "data": {
      "application/vnd.jupyter.widget-view+json": {
       "model_id": "0c39c6be3d1a4da2985cb4e5719f3f72",
       "version_major": 2,
       "version_minor": 0
      },
      "text/plain": [
       "Batches:   0%|          | 0/4 [00:00<?, ?it/s]"
      ]
     },
     "metadata": {},
     "output_type": "display_data"
    },
    {
     "name": "stderr",
     "output_type": "stream",
     "text": [
      "2022-08-05 21:42:15,083 - BERTopic - Transformed documents to Embeddings\n",
      "2022-08-05 21:42:16,832 - BERTopic - Reduced dimensionality\n",
      "2022-08-05 21:42:16,840 - BERTopic - Clustered reduced embeddings\n"
     ]
    },
    {
     "name": "stdout",
     "output_type": "stream",
     "text": [
      "Vietnam negative topics generated\n"
     ]
    },
    {
     "data": {
      "application/vnd.jupyter.widget-view+json": {
       "model_id": "b223ce21f71647408e51f35dd41edc08",
       "version_major": 2,
       "version_minor": 0
      },
      "text/plain": [
       "Batches:   0%|          | 0/1 [00:00<?, ?it/s]"
      ]
     },
     "metadata": {},
     "output_type": "display_data"
    },
    {
     "name": "stderr",
     "output_type": "stream",
     "text": [
      "2022-08-05 21:42:17,412 - BERTopic - Transformed documents to Embeddings\n",
      "2022-08-05 21:42:19,108 - BERTopic - Reduced dimensionality\n",
      "2022-08-05 21:42:19,113 - BERTopic - Clustered reduced embeddings\n"
     ]
    },
    {
     "name": "stdout",
     "output_type": "stream",
     "text": [
      "Vietnam neutral topics generated\n"
     ]
    },
    {
     "data": {
      "application/vnd.jupyter.widget-view+json": {
       "model_id": "59f4677c878f4eb69f598dd40856bb36",
       "version_major": 2,
       "version_minor": 0
      },
      "text/plain": [
       "Batches:   0%|          | 0/28 [00:00<?, ?it/s]"
      ]
     },
     "metadata": {},
     "output_type": "display_data"
    },
    {
     "name": "stderr",
     "output_type": "stream",
     "text": [
      "2022-08-05 21:42:26,386 - BERTopic - Transformed documents to Embeddings\n",
      "2022-08-05 21:42:28,946 - BERTopic - Reduced dimensionality\n",
      "2022-08-05 21:42:28,987 - BERTopic - Clustered reduced embeddings\n",
      "2022-08-05 21:42:30,141 - BERTopic - Reduced number of topics from 24 to 21\n"
     ]
    },
    {
     "name": "stdout",
     "output_type": "stream",
     "text": [
      "Zambia positive topics generated\n"
     ]
    },
    {
     "data": {
      "application/vnd.jupyter.widget-view+json": {
       "model_id": "c48c87ddf326448f8cf1eb12c8ace0b5",
       "version_major": 2,
       "version_minor": 0
      },
      "text/plain": [
       "Batches:   0%|          | 0/15 [00:00<?, ?it/s]"
      ]
     },
     "metadata": {},
     "output_type": "display_data"
    },
    {
     "name": "stderr",
     "output_type": "stream",
     "text": [
      "2022-08-05 21:42:36,521 - BERTopic - Transformed documents to Embeddings\n",
      "2022-08-05 21:42:39,107 - BERTopic - Reduced dimensionality\n",
      "2022-08-05 21:42:39,127 - BERTopic - Clustered reduced embeddings\n"
     ]
    },
    {
     "name": "stdout",
     "output_type": "stream",
     "text": [
      "Zambia negative topics generated\n"
     ]
    },
    {
     "data": {
      "application/vnd.jupyter.widget-view+json": {
       "model_id": "201cdae9a96b499291bcc5ba5d9b0ad3",
       "version_major": 2,
       "version_minor": 0
      },
      "text/plain": [
       "Batches:   0%|          | 0/5 [00:00<?, ?it/s]"
      ]
     },
     "metadata": {},
     "output_type": "display_data"
    },
    {
     "name": "stderr",
     "output_type": "stream",
     "text": [
      "2022-08-05 21:42:42,624 - BERTopic - Transformed documents to Embeddings\n",
      "2022-08-05 21:42:44,421 - BERTopic - Reduced dimensionality\n",
      "2022-08-05 21:42:44,430 - BERTopic - Clustered reduced embeddings\n"
     ]
    },
    {
     "name": "stdout",
     "output_type": "stream",
     "text": [
      "Zambia neutral topics generated\n"
     ]
    },
    {
     "data": {
      "application/vnd.jupyter.widget-view+json": {
       "model_id": "83a4b6df45134c46af9542494a4fc756",
       "version_major": 2,
       "version_minor": 0
      },
      "text/plain": [
       "Batches:   0%|          | 0/133 [00:00<?, ?it/s]"
      ]
     },
     "metadata": {},
     "output_type": "display_data"
    },
    {
     "name": "stderr",
     "output_type": "stream",
     "text": [
      "2022-08-05 21:43:24,349 - BERTopic - Transformed documents to Embeddings\n",
      "2022-08-05 21:43:28,709 - BERTopic - Reduced dimensionality\n",
      "2022-08-05 21:43:28,901 - BERTopic - Clustered reduced embeddings\n",
      "2022-08-05 21:43:33,056 - BERTopic - Reduced number of topics from 112 to 21\n"
     ]
    },
    {
     "name": "stdout",
     "output_type": "stream",
     "text": [
      "Zimbabwe positive topics generated\n"
     ]
    },
    {
     "data": {
      "application/vnd.jupyter.widget-view+json": {
       "model_id": "d995b1fa99fa41129ff2b516dbb4b6a9",
       "version_major": 2,
       "version_minor": 0
      },
      "text/plain": [
       "Batches:   0%|          | 0/84 [00:00<?, ?it/s]"
      ]
     },
     "metadata": {},
     "output_type": "display_data"
    },
    {
     "name": "stderr",
     "output_type": "stream",
     "text": [
      "2022-08-05 21:44:02,790 - BERTopic - Transformed documents to Embeddings\n",
      "2022-08-05 21:44:10,949 - BERTopic - Reduced dimensionality\n",
      "2022-08-05 21:44:11,081 - BERTopic - Clustered reduced embeddings\n",
      "2022-08-05 21:44:14,143 - BERTopic - Reduced number of topics from 69 to 21\n"
     ]
    },
    {
     "name": "stdout",
     "output_type": "stream",
     "text": [
      "Zimbabwe negative topics generated\n"
     ]
    },
    {
     "data": {
      "application/vnd.jupyter.widget-view+json": {
       "model_id": "ea0f4cd63d894754a747043dc133bb8c",
       "version_major": 2,
       "version_minor": 0
      },
      "text/plain": [
       "Batches:   0%|          | 0/24 [00:00<?, ?it/s]"
      ]
     },
     "metadata": {},
     "output_type": "display_data"
    },
    {
     "name": "stderr",
     "output_type": "stream",
     "text": [
      "2022-08-05 21:44:23,215 - BERTopic - Transformed documents to Embeddings\n",
      "2022-08-05 21:44:25,650 - BERTopic - Reduced dimensionality\n",
      "2022-08-05 21:44:25,686 - BERTopic - Clustered reduced embeddings\n",
      "2022-08-05 21:44:26,742 - BERTopic - Reduced number of topics from 21 to 21\n"
     ]
    },
    {
     "name": "stdout",
     "output_type": "stream",
     "text": [
      "Zimbabwe neutral topics generated\n"
     ]
    },
    {
     "data": {
      "application/vnd.jupyter.widget-view+json": {
       "model_id": "feea742ef57e4e0cb026e513f578d263",
       "version_major": 2,
       "version_minor": 0
      },
      "text/plain": [
       "Batches:   0%|          | 0/607 [00:00<?, ?it/s]"
      ]
     },
     "metadata": {},
     "output_type": "display_data"
    },
    {
     "name": "stderr",
     "output_type": "stream",
     "text": [
      "2022-08-05 21:47:13,170 - BERTopic - Transformed documents to Embeddings\n",
      "2022-08-05 21:47:21,141 - BERTopic - Reduced dimensionality\n",
      "2022-08-05 21:47:23,332 - BERTopic - Clustered reduced embeddings\n",
      "2022-08-05 21:47:40,848 - BERTopic - Reduced number of topics from 462 to 21\n"
     ]
    },
    {
     "name": "stdout",
     "output_type": "stream",
     "text": [
      "Australia positive topics generated\n"
     ]
    },
    {
     "data": {
      "application/vnd.jupyter.widget-view+json": {
       "model_id": "ea067e02799d47199349ac3079607eb8",
       "version_major": 2,
       "version_minor": 0
      },
      "text/plain": [
       "Batches:   0%|          | 0/526 [00:00<?, ?it/s]"
      ]
     },
     "metadata": {},
     "output_type": "display_data"
    },
    {
     "name": "stderr",
     "output_type": "stream",
     "text": [
      "2022-08-05 21:50:11,442 - BERTopic - Transformed documents to Embeddings\n",
      "2022-08-05 21:50:18,400 - BERTopic - Reduced dimensionality\n",
      "2022-08-05 21:50:19,177 - BERTopic - Clustered reduced embeddings\n",
      "2022-08-05 21:50:34,434 - BERTopic - Reduced number of topics from 386 to 21\n"
     ]
    },
    {
     "name": "stdout",
     "output_type": "stream",
     "text": [
      "Australia negative topics generated\n"
     ]
    },
    {
     "data": {
      "application/vnd.jupyter.widget-view+json": {
       "model_id": "be7499c4ca0e41aabf04771f87e77c8c",
       "version_major": 2,
       "version_minor": 0
      },
      "text/plain": [
       "Batches:   0%|          | 0/143 [00:00<?, ?it/s]"
      ]
     },
     "metadata": {},
     "output_type": "display_data"
    },
    {
     "name": "stderr",
     "output_type": "stream",
     "text": [
      "2022-08-05 21:51:14,480 - BERTopic - Transformed documents to Embeddings\n",
      "2022-08-05 21:51:18,936 - BERTopic - Reduced dimensionality\n",
      "2022-08-05 21:51:19,153 - BERTopic - Clustered reduced embeddings\n",
      "2022-08-05 21:51:23,289 - BERTopic - Reduced number of topics from 114 to 21\n"
     ]
    },
    {
     "name": "stdout",
     "output_type": "stream",
     "text": [
      "Australia neutral topics generated\n"
     ]
    },
    {
     "data": {
      "application/vnd.jupyter.widget-view+json": {
       "model_id": "fccd73ccaf5741ce80afd221ad62a1ec",
       "version_major": 2,
       "version_minor": 0
      },
      "text/plain": [
       "Batches:   0%|          | 0/3173 [00:00<?, ?it/s]"
      ]
     },
     "metadata": {},
     "output_type": "display_data"
    },
    {
     "name": "stderr",
     "output_type": "stream",
     "text": [
      "2022-08-05 22:08:49,141 - BERTopic - Transformed documents to Embeddings\n",
      "2022-08-05 22:10:14,142 - BERTopic - Reduced dimensionality\n",
      "2022-08-05 22:10:23,814 - BERTopic - Clustered reduced embeddings\n",
      "2022-08-05 22:12:25,711 - BERTopic - Reduced number of topics from 2389 to 21\n"
     ]
    },
    {
     "name": "stdout",
     "output_type": "stream",
     "text": [
      "India positive topics generated\n"
     ]
    },
    {
     "data": {
      "application/vnd.jupyter.widget-view+json": {
       "model_id": "c5acd0dddbe24722b6845c1b9a6f9289",
       "version_major": 2,
       "version_minor": 0
      },
      "text/plain": [
       "Batches:   0%|          | 0/2080 [00:00<?, ?it/s]"
      ]
     },
     "metadata": {},
     "output_type": "display_data"
    },
    {
     "name": "stderr",
     "output_type": "stream",
     "text": [
      "2022-08-05 22:25:06,843 - BERTopic - Transformed documents to Embeddings\n",
      "2022-08-05 22:25:52,923 - BERTopic - Reduced dimensionality\n",
      "2022-08-05 22:25:58,966 - BERTopic - Clustered reduced embeddings\n",
      "2022-08-05 22:27:14,191 - BERTopic - Reduced number of topics from 1523 to 21\n"
     ]
    },
    {
     "name": "stdout",
     "output_type": "stream",
     "text": [
      "India negative topics generated\n"
     ]
    },
    {
     "data": {
      "application/vnd.jupyter.widget-view+json": {
       "model_id": "dcd8fa33cf66427b96516c6aaa8b5b56",
       "version_major": 2,
       "version_minor": 0
      },
      "text/plain": [
       "Batches:   0%|          | 0/330 [00:00<?, ?it/s]"
      ]
     },
     "metadata": {},
     "output_type": "display_data"
    },
    {
     "name": "stderr",
     "output_type": "stream",
     "text": [
      "2022-08-05 22:29:06,607 - BERTopic - Transformed documents to Embeddings\n",
      "2022-08-05 22:29:11,825 - BERTopic - Reduced dimensionality\n",
      "2022-08-05 22:29:12,341 - BERTopic - Clustered reduced embeddings\n",
      "2022-08-05 22:29:22,171 - BERTopic - Reduced number of topics from 258 to 21\n"
     ]
    },
    {
     "name": "stdout",
     "output_type": "stream",
     "text": [
      "India neutral topics generated\n"
     ]
    },
    {
     "data": {
      "application/vnd.jupyter.widget-view+json": {
       "model_id": "cd8007422ad94695962beb2650e9e399",
       "version_major": 2,
       "version_minor": 0
      },
      "text/plain": [
       "Batches:   0%|          | 0/2510 [00:00<?, ?it/s]"
      ]
     },
     "metadata": {},
     "output_type": "display_data"
    },
    {
     "name": "stderr",
     "output_type": "stream",
     "text": [
      "2022-08-05 22:40:23,041 - BERTopic - Transformed documents to Embeddings\n",
      "2022-08-05 22:41:00,625 - BERTopic - Reduced dimensionality\n",
      "2022-08-05 22:41:07,339 - BERTopic - Clustered reduced embeddings\n",
      "2022-08-05 22:42:22,913 - BERTopic - Reduced number of topics from 1401 to 21\n"
     ]
    },
    {
     "name": "stdout",
     "output_type": "stream",
     "text": [
      "United Kingdom positive topics generated\n"
     ]
    },
    {
     "data": {
      "application/vnd.jupyter.widget-view+json": {
       "model_id": "e1a5deb7e6b0410994cf26ee3b9b99fc",
       "version_major": 2,
       "version_minor": 0
      },
      "text/plain": [
       "Batches:   0%|          | 0/1451 [00:00<?, ?it/s]"
      ]
     },
     "metadata": {},
     "output_type": "display_data"
    },
    {
     "name": "stderr",
     "output_type": "stream",
     "text": [
      "2022-08-05 22:49:24,062 - BERTopic - Transformed documents to Embeddings\n",
      "2022-08-05 22:49:51,712 - BERTopic - Reduced dimensionality\n",
      "2022-08-05 22:49:55,171 - BERTopic - Clustered reduced embeddings\n",
      "2022-08-05 22:50:34,530 - BERTopic - Reduced number of topics from 804 to 21\n"
     ]
    },
    {
     "name": "stdout",
     "output_type": "stream",
     "text": [
      "United Kingdom negative topics generated\n"
     ]
    },
    {
     "data": {
      "application/vnd.jupyter.widget-view+json": {
       "model_id": "6e1a4765f31546e49d0f7bb51c85b238",
       "version_major": 2,
       "version_minor": 0
      },
      "text/plain": [
       "Batches:   0%|          | 0/441 [00:00<?, ?it/s]"
      ]
     },
     "metadata": {},
     "output_type": "display_data"
    },
    {
     "name": "stderr",
     "output_type": "stream",
     "text": [
      "2022-08-05 22:52:36,266 - BERTopic - Transformed documents to Embeddings\n",
      "2022-08-05 22:52:43,406 - BERTopic - Reduced dimensionality\n",
      "2022-08-05 22:52:44,143 - BERTopic - Clustered reduced embeddings\n",
      "2022-08-05 22:52:55,523 - BERTopic - Reduced number of topics from 279 to 21\n"
     ]
    },
    {
     "name": "stdout",
     "output_type": "stream",
     "text": [
      "United Kingdom neutral topics generated\n"
     ]
    }
   ],
   "source": [
    "l = [1,2,3]\n",
    "for c in countries:\n",
    "    country = c\n",
    "    for t in l:\n",
    "        if t == 1:\n",
    "            sentiment ='positive'\n",
    "        elif t == 2:\n",
    "            sentiment ='negative'\n",
    "        else:\n",
    "            sentiment ='neutral'\n",
    "\n",
    "        fileName = camp + '_campaign_' + country\n",
    "\n",
    "        #path to campaign tweets\n",
    "        path = ('campaign_category_results/campaign_category_results/'+camp +'_campaign/' + fileName + \".csv\")\n",
    "\n",
    "        pathSaveVisual = ('ta_result2/'+camp+'/'+country+'/')\n",
    "\n",
    "\n",
    "        data = pd.read_csv(path)\n",
    "        data_text = data[['Cleaned_Tweet','Tweet_lemmatized','sentiment']]\n",
    "\n",
    "        documents = data_text\n",
    "\n",
    "        df1 = documents[documents['sentiment'] >= 4].copy(deep=True)\n",
    "        df1['ta_tweet'] = df1['Tweet_lemmatized'].apply(lambda x: x[1:-1])\n",
    "        df1['ta_tweet'] = df1['ta_tweet'].str.replace(r\"[\\\"\\',]\", '',regex=True)\n",
    "\n",
    "        df2 = documents[documents['sentiment'] <= 2].copy(deep=True)\n",
    "        df2['ta_tweet'] = df2['Tweet_lemmatized'].apply(lambda x: x[1:-1])\n",
    "        df2['ta_tweet'] = df2['ta_tweet'].str.replace(r\"[\\\"\\',]\", '',regex=True)\n",
    "\n",
    "        df3 = documents[documents['sentiment'] == 3].copy(deep=True)\n",
    "        df3['ta_tweet'] = df3['Tweet_lemmatized'].apply(lambda x: x[1:-1])\n",
    "        df3['ta_tweet'] = df3['ta_tweet'].str.replace(r\"[\\\"\\',]\", '',regex=True)\n",
    "\n",
    "\n",
    "        #Adjust df1,df2,df3 as well as sentiment according 1 being positive , 2 being negative , 3 being neutral\n",
    "\n",
    "        if t == 1:\n",
    "            tweets = df1['ta_tweet'].tolist()\n",
    "        elif t == 2:\n",
    "            tweets = df2['ta_tweet'].tolist()\n",
    "        else:\n",
    "            tweets = df3['ta_tweet'].tolist()\n",
    "\n",
    "        vectorizer_model = CountVectorizer(ngram_range=(2, 3))\n",
    "        topic_model = BERTopic(verbose=True,vectorizer_model=vectorizer_model)\n",
    "        \n",
    "        try:\n",
    "            topics, probs = topic_model.fit_transform(tweets)\n",
    "        except:\n",
    "              print(\"An exception occurred\")\n",
    "                \n",
    "#         topic_model.update_topics(tweets, topics, n_gram_range=(2, 3))\n",
    "\n",
    "        try:\n",
    "            if(len(topic_model.generate_topic_labels(separator=','))>20):\n",
    "                new_topics, new_probs = topic_model.reduce_topics(tweets, topics, nr_topics=20)\n",
    "                \n",
    "            topic_model.generate_topic_labels(separator=',')\n",
    "                        \n",
    "            topic_keys = topic_model.get_topic_info()\n",
    "            topic_keys.rename(columns ={'Name': 'TopicLabel' }, inplace=True)\n",
    "            topic_keys[\"WordScore\"] = \"\"\n",
    "            topic_keys[\"RepresentativeTweets\"] = \"\"\n",
    "            topic_keys[\"Sentiment\"] = sentiment \n",
    "            \n",
    "            for i in range(0,len(topic_model.get_topic_info())):\n",
    "                topic_keys.at[i, 'WordScore'] = topic_model.get_topic(i-1)\n",
    "                \n",
    "            for i in range(1,len(topic_model.get_topic_info())):\n",
    "                try:\n",
    "                    topic_keys.at[i, 'RepresentativeTweets'] = str(topic_model.get_representative_docs(i-1)[0:3])\n",
    "                except:\n",
    "                    topic_keys.at[i, 'RepresentativeTweets'] = \"NO VALID TWEETS\"\n",
    "                    \n",
    "            topic_keys.to_csv(pathSaveVisual+\"topicinfo_\"+camp+\"_\"+country+\"_\"+sentiment+\".csv\")\n",
    "\n",
    "            if( len(topic_model.generate_topic_labels(separator=','))>=5):\n",
    "                fig3 = topic_model.visualize_topics()\n",
    "                fig3.write_html(pathSaveVisual+\"visualize_topics_\"+camp+\"_\"+sentiment+\"_bert.html\")\n",
    "                \n",
    "            print(country+\" \"+ sentiment+\" topics generated\")   \n",
    "            overview.loc[overview.Country==c,sentiment]= 1\n",
    "        except Exception as e:\n",
    "            print(e)\n",
    "            print(country+\" \"+ sentiment+\" Dataset not big enough\")\n",
    "            overview.loc[overview.Country==c,sentiment]= 0\n",
    "            "
   ]
  },
  {
   "cell_type": "code",
   "execution_count": 5,
   "id": "f32fa159",
   "metadata": {},
   "outputs": [],
   "source": [
    "overview\n",
    "overview.to_csv('ta_result2/overall_'+camp+'_topics.csv')"
   ]
  },
  {
   "cell_type": "code",
   "execution_count": 12,
   "id": "8e9c908c",
   "metadata": {},
   "outputs": [],
   "source": [
    "# import os\n",
    "\n",
    "# countries = ['Albania', 'Argentina', 'Australia', 'Austria', 'Bangladesh', 'Belgium', 'Bolivia', 'Brazil', \n",
    "#              'Bulgaria', 'Canada', 'Chile', 'China', 'Colombia', 'Costa Rica', 'Croatia', 'Czech Republic', \n",
    "#              'Denmark', 'Ecuador', 'Egypt', 'El Salvador', 'Estonia', 'Finland', 'France', 'Georgia', 'Germany', \n",
    "#              'Greece', 'Guatemala', 'Hong Kong', 'Hungary', 'India', 'Indonesia', 'Iran', 'Ireland', 'Israel', \n",
    "#              'Italy', 'Jamaica', 'Japan', 'Kazakhstan', 'Kuwait', 'Luxembourg','Malaysia', 'Malta', 'Mexico', \n",
    "#              'Morocco', 'Namibia', 'Netherlands', 'New Zealand', 'Nigeria', 'Norway', 'Pakistan', 'Panama', 'Peru', \n",
    "#              'Philippines', 'Poland', \n",
    "#              'Portugal', 'Qatar', 'Romania', 'Russia', 'Serbia', 'Singapore', 'Slovakia', 'Slovenia', 'South Africa', \n",
    "#              'South Korea', 'Spain', 'Suriname', 'Sweden', 'Switzerland', 'Taiwan', 'Thailand', 'Trinidad and Tobago', \n",
    "#              'Turkey', 'United Kingdom', 'United States', 'Uruguay', 'Venezuela', 'Vietnam', 'Zambia', 'Zimbabwe']\n",
    "\n",
    "# for c in countries:\n",
    "#     if not os.path.exists(\"ta_result2/gifts/\" + c):\n",
    "#         os.makedirs(\"ta_result2/gifts/\" + c)"
   ]
  },
  {
   "cell_type": "code",
   "execution_count": null,
   "id": "7e201e72",
   "metadata": {},
   "outputs": [],
   "source": []
  },
  {
   "cell_type": "code",
   "execution_count": null,
   "id": "711de3f3",
   "metadata": {},
   "outputs": [],
   "source": []
  }
 ],
 "metadata": {
  "kernelspec": {
   "display_name": "Python 3",
   "language": "python",
   "name": "python3"
  },
  "language_info": {
   "codemirror_mode": {
    "name": "ipython",
    "version": 3
   },
   "file_extension": ".py",
   "mimetype": "text/x-python",
   "name": "python",
   "nbconvert_exporter": "python",
   "pygments_lexer": "ipython3",
   "version": "3.7.10"
  }
 },
 "nbformat": 4,
 "nbformat_minor": 5
}
