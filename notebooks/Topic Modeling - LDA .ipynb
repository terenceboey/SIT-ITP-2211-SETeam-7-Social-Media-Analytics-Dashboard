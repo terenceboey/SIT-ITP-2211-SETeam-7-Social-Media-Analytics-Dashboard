{
 "cells": [
  {
   "cell_type": "code",
   "execution_count": 20,
   "id": "92987b65",
   "metadata": {},
   "outputs": [
    {
     "name": "stderr",
     "output_type": "stream",
     "text": [
      "C:\\Users\\65866\\anaconda3\\envs\\RL FX\\lib\\site-packages\\ipykernel\\ipkernel.py:287: DeprecationWarning: `should_run_async` will not call `transform_cell` automatically in the future. Please pass the result to `transformed_cell` argument and any exception that happen during thetransform in `preprocessing_exc_tuple` in IPython 7.17 and above.\n",
      "  and should_run_async(code)\n"
     ]
    }
   ],
   "source": [
    "import gensim\n",
    "import pyLDAvis\n",
    "\n",
    "from gensim.utils import simple_preprocess\n",
    "from gensim.parsing.preprocessing import STOPWORDS\n",
    "from nltk.stem import WordNetLemmatizer, SnowballStemmer\n",
    "from nltk.stem.porter import *\n",
    "import numpy as np\n",
    "np.random.seed(2022)\n",
    "\n",
    "import pyLDAvis.gensim_models\n",
    "from gensim import models\n",
    "from gensim.models.coherencemodel import CoherenceModel\n",
    "from gensim.test.utils import common_dictionary\n",
    "\n",
    "pyLDAvis.enable_notebook()"
   ]
  },
  {
   "cell_type": "code",
   "execution_count": 21,
   "id": "929ca3a4",
   "metadata": {},
   "outputs": [
    {
     "name": "stderr",
     "output_type": "stream",
     "text": [
      "C:\\Users\\65866\\anaconda3\\envs\\RL FX\\lib\\site-packages\\ipykernel\\ipkernel.py:287: DeprecationWarning: `should_run_async` will not call `transform_cell` automatically in the future. Please pass the result to `transformed_cell` argument and any exception that happen during thetransform in `preprocessing_exc_tuple` in IPython 7.17 and above.\n",
      "  and should_run_async(code)\n",
      "[nltk_data] Downloading package wordnet to\n",
      "[nltk_data]     C:\\Users\\65866\\AppData\\Roaming\\nltk_data...\n",
      "[nltk_data]   Package wordnet is already up-to-date!\n",
      "[nltk_data] Downloading package omw-1.4 to\n",
      "[nltk_data]     C:\\Users\\65866\\AppData\\Roaming\\nltk_data...\n",
      "[nltk_data]   Package omw-1.4 is already up-to-date!\n"
     ]
    },
    {
     "data": {
      "text/plain": [
       "True"
      ]
     },
     "execution_count": 21,
     "metadata": {},
     "output_type": "execute_result"
    }
   ],
   "source": [
    "import nltk\n",
    "nltk.download('wordnet')\n",
    "nltk.download('omw-1.4')"
   ]
  },
  {
   "cell_type": "code",
   "execution_count": 22,
   "id": "5b50465b",
   "metadata": {},
   "outputs": [
    {
     "name": "stderr",
     "output_type": "stream",
     "text": [
      "C:\\Users\\65866\\anaconda3\\envs\\RL FX\\lib\\site-packages\\ipykernel\\ipkernel.py:287: DeprecationWarning: `should_run_async` will not call `transform_cell` automatically in the future. Please pass the result to `transformed_cell` argument and any exception that happen during thetransform in `preprocessing_exc_tuple` in IPython 7.17 and above.\n",
      "  and should_run_async(code)\n",
      "C:\\Users\\65866\\anaconda3\\envs\\RL FX\\lib\\site-packages\\IPython\\core\\interactiveshell.py:3437: FutureWarning: The error_bad_lines argument has been deprecated and will be removed in a future version.\n",
      "\n",
      "\n",
      "  exec(code_obj, self.user_global_ns, self.user_ns)\n",
      "C:\\Users\\65866\\anaconda3\\envs\\RL FX\\lib\\site-packages\\ipykernel_launcher.py:17: FutureWarning: The default value of regex will change from True to False in a future version.\n"
     ]
    },
    {
     "data": {
      "text/html": [
       "<div>\n",
       "<style scoped>\n",
       "    .dataframe tbody tr th:only-of-type {\n",
       "        vertical-align: middle;\n",
       "    }\n",
       "\n",
       "    .dataframe tbody tr th {\n",
       "        vertical-align: top;\n",
       "    }\n",
       "\n",
       "    .dataframe thead th {\n",
       "        text-align: right;\n",
       "    }\n",
       "</style>\n",
       "<table border=\"1\" class=\"dataframe\">\n",
       "  <thead>\n",
       "    <tr style=\"text-align: right;\">\n",
       "      <th></th>\n",
       "      <th>Tweet</th>\n",
       "      <th>Tweet_lemmatized</th>\n",
       "      <th>sentiment</th>\n",
       "      <th>index</th>\n",
       "    </tr>\n",
       "  </thead>\n",
       "  <tbody>\n",
       "    <tr>\n",
       "      <th>0</th>\n",
       "      <td>Hey you amazing people, thank you all for hang...</td>\n",
       "      <td>hey    amazing    people    thank    hanging...</td>\n",
       "      <td>5</td>\n",
       "      <td>0</td>\n",
       "    </tr>\n",
       "    <tr>\n",
       "      <th>1</th>\n",
       "      <td>@CSW_Group Thank you for your continued suppor...</td>\n",
       "      <td>thank    continued    support    national   ...</td>\n",
       "      <td>5</td>\n",
       "      <td>1</td>\n",
       "    </tr>\n",
       "    <tr>\n",
       "      <th>2</th>\n",
       "      <td>@marioboc17 @idemooonole @TennisPuneet @Yolita...</td>\n",
       "      <td>thanks    mario    great    young    journal...</td>\n",
       "      <td>5</td>\n",
       "      <td>2</td>\n",
       "    </tr>\n",
       "    <tr>\n",
       "      <th>3</th>\n",
       "      <td>@essexsarahlee @WeNurses Appreciate its hard S...</td>\n",
       "      <td>appreciate    hard    sarah    maybe    work...</td>\n",
       "      <td>3</td>\n",
       "      <td>3</td>\n",
       "    </tr>\n",
       "    <tr>\n",
       "      <th>4</th>\n",
       "      <td>@alisonleary1 Students starting courses also n...</td>\n",
       "      <td>students    starting    courses    also    n...</td>\n",
       "      <td>3</td>\n",
       "      <td>4</td>\n",
       "    </tr>\n",
       "    <tr>\n",
       "      <th>...</th>\n",
       "      <td>...</td>\n",
       "      <td>...</td>\n",
       "      <td>...</td>\n",
       "      <td>...</td>\n",
       "    </tr>\n",
       "    <tr>\n",
       "      <th>145</th>\n",
       "      <td>@DJWcareers So sorry to hear this David. I hop...</td>\n",
       "      <td>sorry    hear    david    hope    get    wel...</td>\n",
       "      <td>5</td>\n",
       "      <td>145</td>\n",
       "    </tr>\n",
       "    <tr>\n",
       "      <th>146</th>\n",
       "      <td>From the bottom of my heart to all teachers &amp;a...</td>\n",
       "      <td>bottom    heart    teachers    amp    suppor...</td>\n",
       "      <td>5</td>\n",
       "      <td>146</td>\n",
       "    </tr>\n",
       "    <tr>\n",
       "      <th>147</th>\n",
       "      <td>@siennamarla @AndyMcDonaldMP well done fella f...</td>\n",
       "      <td>well    done    fella    standing    workers...</td>\n",
       "      <td>5</td>\n",
       "      <td>147</td>\n",
       "    </tr>\n",
       "    <tr>\n",
       "      <th>148</th>\n",
       "      <td>@Ikkle_Gemz @SparksBird @DisneyParksYT @1923Ma...</td>\n",
       "      <td>thanks    gem    michelle    really    alway...</td>\n",
       "      <td>5</td>\n",
       "      <td>148</td>\n",
       "    </tr>\n",
       "    <tr>\n",
       "      <th>149</th>\n",
       "      <td>Massive thanks to Derby based ‘EVAD Think Unif...</td>\n",
       "      <td>massive    thanks    derby    based    evad ...</td>\n",
       "      <td>5</td>\n",
       "      <td>149</td>\n",
       "    </tr>\n",
       "  </tbody>\n",
       "</table>\n",
       "<p>150 rows × 4 columns</p>\n",
       "</div>"
      ],
      "text/plain": [
       "                                                 Tweet  \\\n",
       "0    Hey you amazing people, thank you all for hang...   \n",
       "1    @CSW_Group Thank you for your continued suppor...   \n",
       "2    @marioboc17 @idemooonole @TennisPuneet @Yolita...   \n",
       "3    @essexsarahlee @WeNurses Appreciate its hard S...   \n",
       "4    @alisonleary1 Students starting courses also n...   \n",
       "..                                                 ...   \n",
       "145  @DJWcareers So sorry to hear this David. I hop...   \n",
       "146  From the bottom of my heart to all teachers &a...   \n",
       "147  @siennamarla @AndyMcDonaldMP well done fella f...   \n",
       "148  @Ikkle_Gemz @SparksBird @DisneyParksYT @1923Ma...   \n",
       "149  Massive thanks to Derby based ‘EVAD Think Unif...   \n",
       "\n",
       "                                      Tweet_lemmatized  sentiment  index  \n",
       "0      hey    amazing    people    thank    hanging...          5      0  \n",
       "1      thank    continued    support    national   ...          5      1  \n",
       "2      thanks    mario    great    young    journal...          5      2  \n",
       "3      appreciate    hard    sarah    maybe    work...          3      3  \n",
       "4      students    starting    courses    also    n...          3      4  \n",
       "..                                                 ...        ...    ...  \n",
       "145    sorry    hear    david    hope    get    wel...          5    145  \n",
       "146    bottom    heart    teachers    amp    suppor...          5    146  \n",
       "147    well    done    fella    standing    workers...          5    147  \n",
       "148    thanks    gem    michelle    really    alway...          5    148  \n",
       "149    massive    thanks    derby    based    evad ...          5    149  \n",
       "\n",
       "[150 rows x 4 columns]"
      ]
     },
     "execution_count": 22,
     "metadata": {},
     "output_type": "execute_result"
    }
   ],
   "source": [
    "import pandas as pd\n",
    "import re\n",
    "camp = 'support'\n",
    "country = \"United Kingdom\"\n",
    "\n",
    "# path = ('combined_results/combined_results/Combined_csv_'+country+'.csv')\n",
    "fileName = camp + '_campaign_' + country\n",
    "path = ('campaign_category_results/campaign_category_results/'+camp +'_campaign/' + fileName + \".csv\")\n",
    "# path = ('cleaned_campaign_category_results/campaign_category_results/appreciate_campaign/' + fileName + '.csv')\n",
    "\n",
    "data = pd.read_csv(path)\n",
    "data_text = data[['Tweet','Tweet_lemmatized','sentiment']]\n",
    "\n",
    "data = pd.read_csv(path,error_bad_lines=False)\n",
    "data_text['index'] = data_text.index\n",
    "\n",
    "data_text.Tweet_lemmatized = data_text.Tweet_lemmatized.str.replace('[^a-zA-Z]', ' ')\n",
    "\n",
    "\n",
    "documents = data_text\n",
    "\n",
    "len(documents)\n",
    "documents[:150]\n"
   ]
  },
  {
   "cell_type": "code",
   "execution_count": 23,
   "id": "fc0debc6",
   "metadata": {},
   "outputs": [
    {
     "name": "stdout",
     "output_type": "stream",
     "text": [
      "go\n"
     ]
    },
    {
     "name": "stderr",
     "output_type": "stream",
     "text": [
      "C:\\Users\\65866\\anaconda3\\envs\\RL FX\\lib\\site-packages\\ipykernel\\ipkernel.py:287: DeprecationWarning: `should_run_async` will not call `transform_cell` automatically in the future. Please pass the result to `transformed_cell` argument and any exception that happen during thetransform in `preprocessing_exc_tuple` in IPython 7.17 and above.\n",
      "  and should_run_async(code)\n"
     ]
    }
   ],
   "source": [
    "print(WordNetLemmatizer().lemmatize('went', pos='v'))"
   ]
  },
  {
   "cell_type": "code",
   "execution_count": 24,
   "id": "bfbe3f3a",
   "metadata": {},
   "outputs": [
    {
     "name": "stderr",
     "output_type": "stream",
     "text": [
      "C:\\Users\\65866\\anaconda3\\envs\\RL FX\\lib\\site-packages\\ipykernel\\ipkernel.py:287: DeprecationWarning: `should_run_async` will not call `transform_cell` automatically in the future. Please pass the result to `transformed_cell` argument and any exception that happen during thetransform in `preprocessing_exc_tuple` in IPython 7.17 and above.\n",
      "  and should_run_async(code)\n"
     ]
    }
   ],
   "source": [
    "def lemmatize_stemming(text):\n",
    "    return stemmer.stem(WordNetLemmatizer().lemmatize(text, pos='v'))\n",
    "\n",
    "def preprocess(text):\n",
    "    result = []\n",
    "    for token in gensim.utils.simple_preprocess(text):\n",
    "        if token not in gensim.parsing.preprocessing.STOPWORDS and len(token) > 3:\n",
    "            result.append(lemmatize_stemming(token))\n",
    "    return result\n",
    "\n",
    "stemmer = SnowballStemmer('english')\n"
   ]
  },
  {
   "cell_type": "code",
   "execution_count": 25,
   "id": "0240aeaf",
   "metadata": {},
   "outputs": [
    {
     "name": "stdout",
     "output_type": "stream",
     "text": [
      "original document: \n",
      "['@ramonshaban', '@syd_health', '@BelRBruce', '@RobynDGallagher', '@RobynWard13', 'Thanks', 'for', 'coming', 'along', '@ramonshaban', 'I', 'appreciate', 'the', 'support', '🙏🏻']\n",
      "\n",
      "\n",
      " tokenized and lemmatized document: \n",
      "['ramonshaban', 'syd_health', 'belrbruc', 'robyndgallagh', 'robynward', 'thank', 'come', 'ramonshaban', 'appreci', 'support']\n"
     ]
    },
    {
     "name": "stderr",
     "output_type": "stream",
     "text": [
      "C:\\Users\\65866\\anaconda3\\envs\\RL FX\\lib\\site-packages\\ipykernel\\ipkernel.py:287: DeprecationWarning: `should_run_async` will not call `transform_cell` automatically in the future. Please pass the result to `transformed_cell` argument and any exception that happen during thetransform in `preprocessing_exc_tuple` in IPython 7.17 and above.\n",
      "  and should_run_async(code)\n"
     ]
    }
   ],
   "source": [
    "doc_sample = documents[documents['index'] == 9].values[0][0]\n",
    "\n",
    "print('original document: ')\n",
    "words = []\n",
    "for word in doc_sample.split(' '):\n",
    "    words.append(word)\n",
    "print(words)\n",
    "print('\\n\\n tokenized and lemmatized document: ')\n",
    "print(preprocess(doc_sample))"
   ]
  },
  {
   "cell_type": "code",
   "execution_count": 26,
   "id": "27f70b9b",
   "metadata": {},
   "outputs": [
    {
     "name": "stderr",
     "output_type": "stream",
     "text": [
      "C:\\Users\\65866\\anaconda3\\envs\\RL FX\\lib\\site-packages\\ipykernel\\ipkernel.py:287: DeprecationWarning: `should_run_async` will not call `transform_cell` automatically in the future. Please pass the result to `transformed_cell` argument and any exception that happen during thetransform in `preprocessing_exc_tuple` in IPython 7.17 and above.\n",
      "  and should_run_async(code)\n"
     ]
    }
   ],
   "source": [
    "processed_docs = documents['Tweet_lemmatized'].map(preprocess)"
   ]
  },
  {
   "cell_type": "code",
   "execution_count": 27,
   "id": "3e402bc9",
   "metadata": {},
   "outputs": [
    {
     "name": "stderr",
     "output_type": "stream",
     "text": [
      "C:\\Users\\65866\\anaconda3\\envs\\RL FX\\lib\\site-packages\\ipykernel\\ipkernel.py:287: DeprecationWarning: `should_run_async` will not call `transform_cell` automatically in the future. Please pass the result to `transformed_cell` argument and any exception that happen during thetransform in `preprocessing_exc_tuple` in IPython 7.17 and above.\n",
      "  and should_run_async(code)\n"
     ]
    },
    {
     "data": {
      "text/plain": [
       "0    [amaz, peopl, thank, hang, huge, support, toni...\n",
       "1    [thank, continu, support, nation, carer, week,...\n",
       "2    [thank, mario, great, young, journalist, repor...\n",
       "3    [appreci, hard, sarah, mayb, workload, underta...\n",
       "4    [student, start, cours, need, experi, staff, t...\n",
       "5                            [thank, appreci, support]\n",
       "6    [rifl, enter, team, moto, swift, bold, hop, sw...\n",
       "7    [reward, avail, includ, workshop, ticket, writ...\n",
       "8    [amaz, support, carersweek, telford, wrekin, e...\n",
       "9                      [thank, come, appreci, support]\n",
       "Name: Tweet_lemmatized, dtype: object"
      ]
     },
     "execution_count": 27,
     "metadata": {},
     "output_type": "execute_result"
    }
   ],
   "source": [
    "processed_docs[:10]"
   ]
  },
  {
   "cell_type": "code",
   "execution_count": 28,
   "id": "7f5eba32",
   "metadata": {},
   "outputs": [
    {
     "name": "stderr",
     "output_type": "stream",
     "text": [
      "C:\\Users\\65866\\anaconda3\\envs\\RL FX\\lib\\site-packages\\ipykernel\\ipkernel.py:287: DeprecationWarning: `should_run_async` will not call `transform_cell` automatically in the future. Please pass the result to `transformed_cell` argument and any exception that happen during thetransform in `preprocessing_exc_tuple` in IPython 7.17 and above.\n",
      "  and should_run_async(code)\n"
     ]
    }
   ],
   "source": [
    "dictionary = gensim.corpora.Dictionary(processed_docs)"
   ]
  },
  {
   "cell_type": "code",
   "execution_count": 29,
   "id": "58a5b1e7",
   "metadata": {},
   "outputs": [
    {
     "name": "stdout",
     "output_type": "stream",
     "text": [
      "0 amaz\n",
      "1 appreci\n",
      "2 care\n",
      "3 catch\n",
      "4 good\n",
      "5 hang\n",
      "6 huge\n",
      "7 night\n",
      "8 peopl\n",
      "9 support\n",
      "10 thank\n",
      "11 tonight\n",
      "12 carer\n",
      "13 continu\n",
      "14 nation\n",
      "15 week\n",
      "16 ahead\n",
      "17 braveri\n",
      "18 career\n",
      "19 fair\n",
      "20 fantast\n"
     ]
    },
    {
     "name": "stderr",
     "output_type": "stream",
     "text": [
      "C:\\Users\\65866\\anaconda3\\envs\\RL FX\\lib\\site-packages\\ipykernel\\ipkernel.py:287: DeprecationWarning: `should_run_async` will not call `transform_cell` automatically in the future. Please pass the result to `transformed_cell` argument and any exception that happen during thetransform in `preprocessing_exc_tuple` in IPython 7.17 and above.\n",
      "  and should_run_async(code)\n"
     ]
    }
   ],
   "source": [
    "count = 0\n",
    "for k, v in dictionary.iteritems():\n",
    "    print(k, v)\n",
    "    count += 1\n",
    "    if count > 20:\n",
    "        break"
   ]
  },
  {
   "cell_type": "code",
   "execution_count": null,
   "id": "ea0739df",
   "metadata": {},
   "outputs": [],
   "source": [
    "bow_corpus = [dictionary.doc2bow(doc) for doc in processed_docs]"
   ]
  },
  {
   "cell_type": "code",
   "execution_count": 32,
   "id": "683f6925",
   "metadata": {},
   "outputs": [
    {
     "name": "stdout",
     "output_type": "stream",
     "text": [
      "Word 0 (\"amaz\") appears 1 time.\n",
      "Word 1 (\"appreci\") appears 1 time.\n",
      "Word 2 (\"care\") appears 1 time.\n",
      "Word 77 (\"right\") appears 1 time.\n",
      "Word 157 (\"your\") appears 1 time.\n",
      "Word 170 (\"communiti\") appears 1 time.\n",
      "Word 171 (\"everyon\") appears 1 time.\n",
      "Word 172 (\"help\") appears 1 time.\n",
      "Word 173 (\"transpar\") appears 1 time.\n",
      "Word 174 (\"truli\") appears 2 time.\n",
      "Word 175 (\"visibl\") appears 1 time.\n",
      "Word 176 (\"weve\") appears 1 time.\n"
     ]
    },
    {
     "name": "stderr",
     "output_type": "stream",
     "text": [
      "C:\\Users\\65866\\anaconda3\\envs\\RL FX\\lib\\site-packages\\ipykernel\\ipkernel.py:287: DeprecationWarning: `should_run_async` will not call `transform_cell` automatically in the future. Please pass the result to `transformed_cell` argument and any exception that happen during thetransform in `preprocessing_exc_tuple` in IPython 7.17 and above.\n",
      "  and should_run_async(code)\n"
     ]
    }
   ],
   "source": [
    "bow_doc_sample = bow_corpus[20]\n",
    "\n",
    "for i in range(len(bow_doc_sample)):\n",
    "    print(\"Word {} (\\\"{}\\\") appears {} time.\".format(bow_doc_sample[i][0], dictionary[bow_doc_sample[i][0]], bow_doc_sample[i][1]))"
   ]
  },
  {
   "cell_type": "code",
   "execution_count": null,
   "id": "0b68f267",
   "metadata": {},
   "outputs": [],
   "source": [
    "model = models.LdaMulticore(bow_corpus, num_topics=20, id2word=dictionary, passes=2, workers=4, random_state=0)\n",
    " \n",
    "#use pyLDAvis to visualize the topicsR\n",
    "visual = pyLDAvis.gensim.prepare(model , bow_corpus, dictionary)\n",
    "\n",
    "pyLDAvis.save_html(visual ,f'pyLDAvis_combined_'+country+'.html')"
   ]
  },
  {
   "cell_type": "code",
   "execution_count": null,
   "id": "094a8e55",
   "metadata": {},
   "outputs": [],
   "source": [
    "for idx, topic in model.print_topics(-1):\n",
    "    print('Topic: {} \\nWords: {}'.format(idx, topic))"
   ]
  },
  {
   "cell_type": "code",
   "execution_count": null,
   "id": "0766dab7",
   "metadata": {},
   "outputs": [],
   "source": []
  },
  {
   "cell_type": "code",
   "execution_count": null,
   "id": "cb2a7470",
   "metadata": {},
   "outputs": [],
   "source": []
  },
  {
   "cell_type": "code",
   "execution_count": null,
   "id": "b66ce34a",
   "metadata": {},
   "outputs": [],
   "source": []
  },
  {
   "cell_type": "code",
   "execution_count": null,
   "id": "9285af6b",
   "metadata": {},
   "outputs": [],
   "source": []
  }
 ],
 "metadata": {
  "kernelspec": {
   "display_name": "Python 3",
   "language": "python",
   "name": "python3"
  },
  "language_info": {
   "codemirror_mode": {
    "name": "ipython",
    "version": 3
   },
   "file_extension": ".py",
   "mimetype": "text/x-python",
   "name": "python",
   "nbconvert_exporter": "python",
   "pygments_lexer": "ipython3",
   "version": "3.7.10"
  }
 },
 "nbformat": 4,
 "nbformat_minor": 5
}
